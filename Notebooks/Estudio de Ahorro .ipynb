{
 "cells": [
  {
   "cell_type": "markdown",
   "metadata": {},
   "source": [
    "## Librerías"
   ]
  },
  {
   "cell_type": "code",
   "execution_count": 1,
   "metadata": {},
   "outputs": [],
   "source": [
    "import pandas as pd\n",
    "import numpy as np\n",
    "import matplotlib.pyplot as plt"
   ]
  },
  {
   "cell_type": "markdown",
   "metadata": {},
   "source": [
    "### Descargar todas las bases de datos:\n",
    "\n",
    "- importar csv de consumo_cliente potencia\n",
    "- importar csv de consumo_cliente energia\n",
    "- importar csv de precios_fijos\n",
    "- importar csv de cliente_estudio_ahorro. "
   ]
  },
  {
   "cell_type": "code",
   "execution_count": 2,
   "metadata": {},
   "outputs": [],
   "source": [
    "bd_consumo_energia_cliente = pd.read_csv(\"../Data/csv/bd_consumo_energia_cliente.csv\")\n",
    "bd_consumo_potencia_cliente = pd.read_csv(\"../Data/csv/bd_consumo_potencia_cliente.csv\")\n",
    "bd_precios_fijos = pd.read_csv(\"../Data/csv/precios_fijos.csv\")\n",
    "bd_cliente_estudio_de_ahorro_modelo = pd.read_csv(\"../Data/csv/cliente_estudio_de_ahorro_modelo.csv\")"
   ]
  },
  {
   "cell_type": "markdown",
   "metadata": {},
   "source": [
    "#### Visualizar DF"
   ]
  },
  {
   "cell_type": "code",
   "execution_count": 3,
   "metadata": {},
   "outputs": [
    {
     "data": {
      "text/html": [
       "<div>\n",
       "<style scoped>\n",
       "    .dataframe tbody tr th:only-of-type {\n",
       "        vertical-align: middle;\n",
       "    }\n",
       "\n",
       "    .dataframe tbody tr th {\n",
       "        vertical-align: top;\n",
       "    }\n",
       "\n",
       "    .dataframe thead th {\n",
       "        text-align: right;\n",
       "    }\n",
       "</style>\n",
       "<table border=\"1\" class=\"dataframe\">\n",
       "  <thead>\n",
       "    <tr style=\"text-align: right;\">\n",
       "      <th></th>\n",
       "      <th>Titular_de_la_Cuenta</th>\n",
       "      <th>CIF_/_NIF</th>\n",
       "      <th>Persona_de_Contacto</th>\n",
       "      <th>Email</th>\n",
       "      <th>Telefono</th>\n",
       "      <th>Cups</th>\n",
       "      <th>Dirección_completa</th>\n",
       "      <th>Tipo_de_cliente</th>\n",
       "      <th>Subtipo_de_cliente</th>\n",
       "      <th>Mercado_regulado</th>\n",
       "      <th>...</th>\n",
       "      <th>Precio_Energia_P5</th>\n",
       "      <th>Precio_Energia_P6</th>\n",
       "      <th>Precio_Potencia_P1</th>\n",
       "      <th>Precio_Potencia_P2</th>\n",
       "      <th>Precio_Potencia_P3</th>\n",
       "      <th>Precio_Potencia_P4</th>\n",
       "      <th>Precio_Potencia_P5</th>\n",
       "      <th>Precio_Potencia_P6</th>\n",
       "      <th>Precio_Contador</th>\n",
       "      <th>Precio_Otros _Servicios_€/mes</th>\n",
       "    </tr>\n",
       "  </thead>\n",
       "  <tbody>\n",
       "    <tr>\n",
       "      <th>0</th>\n",
       "      <td>Azaya, S.L.</td>\n",
       "      <td>B56445566</td>\n",
       "      <td>Amalia Zunzunegui</td>\n",
       "      <td>trv.pepe@gmail.com</td>\n",
       "      <td>699792928</td>\n",
       "      <td>ES0021000007463134RE</td>\n",
       "      <td>Cmno Estrella Torre Tolanca, Km 7,5, 45100 Son...</td>\n",
       "      <td>Empresa</td>\n",
       "      <td>Finca Rustica</td>\n",
       "      <td>no</td>\n",
       "      <td>...</td>\n",
       "      <td>0.114617</td>\n",
       "      <td>0.094279</td>\n",
       "      <td>0.162119</td>\n",
       "      <td>0.099974</td>\n",
       "      <td>0.022925</td>\n",
       "      <td>0.162119</td>\n",
       "      <td>0.099974</td>\n",
       "      <td>0.022925</td>\n",
       "      <td>0.394474</td>\n",
       "      <td>0</td>\n",
       "    </tr>\n",
       "  </tbody>\n",
       "</table>\n",
       "<p>1 rows × 33 columns</p>\n",
       "</div>"
      ],
      "text/plain": [
       "  Titular_de_la_Cuenta  CIF_/_NIF Persona_de_Contacto               Email  \\\n",
       "0          Azaya, S.L.  B56445566   Amalia Zunzunegui  trv.pepe@gmail.com   \n",
       "\n",
       "    Telefono                  Cups  \\\n",
       "0  699792928  ES0021000007463134RE   \n",
       "\n",
       "                                  Dirección_completa Tipo_de_cliente  \\\n",
       "0  Cmno Estrella Torre Tolanca, Km 7,5, 45100 Son...         Empresa   \n",
       "\n",
       "  Subtipo_de_cliente Mercado_regulado  ... Precio_Energia_P5  \\\n",
       "0      Finca Rustica               no  ...          0.114617   \n",
       "\n",
       "  Precio_Energia_P6 Precio_Potencia_P1  Precio_Potencia_P2 Precio_Potencia_P3  \\\n",
       "0          0.094279           0.162119            0.099974           0.022925   \n",
       "\n",
       "   Precio_Potencia_P4 Precio_Potencia_P5 Precio_Potencia_P6 Precio_Contador  \\\n",
       "0            0.162119           0.099974           0.022925        0.394474   \n",
       "\n",
       "   Precio_Otros _Servicios_€/mes  \n",
       "0                              0  \n",
       "\n",
       "[1 rows x 33 columns]"
      ]
     },
     "execution_count": 3,
     "metadata": {},
     "output_type": "execute_result"
    }
   ],
   "source": [
    "bd_cliente_estudio_de_ahorro_modelo"
   ]
  },
  {
   "cell_type": "code",
   "execution_count": 4,
   "metadata": {},
   "outputs": [
    {
     "data": {
      "text/html": [
       "<div>\n",
       "<style scoped>\n",
       "    .dataframe tbody tr th:only-of-type {\n",
       "        vertical-align: middle;\n",
       "    }\n",
       "\n",
       "    .dataframe tbody tr th {\n",
       "        vertical-align: top;\n",
       "    }\n",
       "\n",
       "    .dataframe thead th {\n",
       "        text-align: right;\n",
       "    }\n",
       "</style>\n",
       "<table border=\"1\" class=\"dataframe\">\n",
       "  <thead>\n",
       "    <tr style=\"text-align: right;\">\n",
       "      <th></th>\n",
       "      <th>CUPS</th>\n",
       "      <th>ES0021000007463134RE</th>\n",
       "    </tr>\n",
       "  </thead>\n",
       "  <tbody>\n",
       "    <tr>\n",
       "      <th>0</th>\n",
       "      <td>P1</td>\n",
       "      <td>4569</td>\n",
       "    </tr>\n",
       "    <tr>\n",
       "      <th>1</th>\n",
       "      <td>P2</td>\n",
       "      <td>15902</td>\n",
       "    </tr>\n",
       "    <tr>\n",
       "      <th>2</th>\n",
       "      <td>P3</td>\n",
       "      <td>10843</td>\n",
       "    </tr>\n",
       "    <tr>\n",
       "      <th>3</th>\n",
       "      <td>P4</td>\n",
       "      <td>5577</td>\n",
       "    </tr>\n",
       "    <tr>\n",
       "      <th>4</th>\n",
       "      <td>P5</td>\n",
       "      <td>4667</td>\n",
       "    </tr>\n",
       "    <tr>\n",
       "      <th>5</th>\n",
       "      <td>P6</td>\n",
       "      <td>12156</td>\n",
       "    </tr>\n",
       "  </tbody>\n",
       "</table>\n",
       "</div>"
      ],
      "text/plain": [
       "  CUPS  ES0021000007463134RE\n",
       "0   P1                  4569\n",
       "1   P2                 15902\n",
       "2   P3                 10843\n",
       "3   P4                  5577\n",
       "4   P5                  4667\n",
       "5   P6                 12156"
      ]
     },
     "execution_count": 4,
     "metadata": {},
     "output_type": "execute_result"
    }
   ],
   "source": [
    "bd_consumo_energia_cliente"
   ]
  },
  {
   "cell_type": "code",
   "execution_count": 5,
   "metadata": {},
   "outputs": [
    {
     "data": {
      "text/html": [
       "<div>\n",
       "<style scoped>\n",
       "    .dataframe tbody tr th:only-of-type {\n",
       "        vertical-align: middle;\n",
       "    }\n",
       "\n",
       "    .dataframe tbody tr th {\n",
       "        vertical-align: top;\n",
       "    }\n",
       "\n",
       "    .dataframe thead th {\n",
       "        text-align: right;\n",
       "    }\n",
       "</style>\n",
       "<table border=\"1\" class=\"dataframe\">\n",
       "  <thead>\n",
       "    <tr style=\"text-align: right;\">\n",
       "      <th></th>\n",
       "      <th>a</th>\n",
       "      <th>b</th>\n",
       "      <th>Potencia</th>\n",
       "      <th>kWp</th>\n",
       "    </tr>\n",
       "  </thead>\n",
       "  <tbody>\n",
       "    <tr>\n",
       "      <th>0</th>\n",
       "      <td>Potencia Contratada (kWh)</td>\n",
       "      <td>P1;12</td>\n",
       "      <td>P1</td>\n",
       "      <td>12</td>\n",
       "    </tr>\n",
       "    <tr>\n",
       "      <th>1</th>\n",
       "      <td>Potencia Contratada (kWh)</td>\n",
       "      <td>P2;15</td>\n",
       "      <td>P2</td>\n",
       "      <td>15</td>\n",
       "    </tr>\n",
       "    <tr>\n",
       "      <th>2</th>\n",
       "      <td>Potencia Contratada (kWh)</td>\n",
       "      <td>P3;20</td>\n",
       "      <td>P3</td>\n",
       "      <td>20</td>\n",
       "    </tr>\n",
       "    <tr>\n",
       "      <th>3</th>\n",
       "      <td>Potencia Contratada (kWh)</td>\n",
       "      <td>P4;0</td>\n",
       "      <td>P4</td>\n",
       "      <td>0</td>\n",
       "    </tr>\n",
       "    <tr>\n",
       "      <th>4</th>\n",
       "      <td>Potencia Contratada (kWh)</td>\n",
       "      <td>P5;0</td>\n",
       "      <td>P5</td>\n",
       "      <td>0</td>\n",
       "    </tr>\n",
       "    <tr>\n",
       "      <th>5</th>\n",
       "      <td>Potencia Contratada (kWh)</td>\n",
       "      <td>P6;0</td>\n",
       "      <td>P6</td>\n",
       "      <td>0</td>\n",
       "    </tr>\n",
       "  </tbody>\n",
       "</table>\n",
       "</div>"
      ],
      "text/plain": [
       "                           a      b Potencia  kWp\n",
       "0  Potencia Contratada (kWh)  P1;12       P1   12\n",
       "1  Potencia Contratada (kWh)  P2;15       P2   15\n",
       "2  Potencia Contratada (kWh)  P3;20       P3   20\n",
       "3  Potencia Contratada (kWh)   P4;0       P4    0\n",
       "4  Potencia Contratada (kWh)   P5;0       P5    0\n",
       "5  Potencia Contratada (kWh)   P6;0       P6    0"
      ]
     },
     "execution_count": 5,
     "metadata": {},
     "output_type": "execute_result"
    }
   ],
   "source": [
    "bd_consumo_potencia_cliente"
   ]
  },
  {
   "cell_type": "code",
   "execution_count": 6,
   "metadata": {},
   "outputs": [
    {
     "data": {
      "text/html": [
       "<div>\n",
       "<style scoped>\n",
       "    .dataframe tbody tr th:only-of-type {\n",
       "        vertical-align: middle;\n",
       "    }\n",
       "\n",
       "    .dataframe tbody tr th {\n",
       "        vertical-align: top;\n",
       "    }\n",
       "\n",
       "    .dataframe thead th {\n",
       "        text-align: right;\n",
       "    }\n",
       "</style>\n",
       "<table border=\"1\" class=\"dataframe\">\n",
       "  <thead>\n",
       "    <tr style=\"text-align: right;\">\n",
       "      <th></th>\n",
       "      <th>Comercializadora</th>\n",
       "      <th>Tarifa</th>\n",
       "      <th>Precio_Potencia_P1</th>\n",
       "      <th>Precio_Potencia_P2</th>\n",
       "      <th>Precio_Potencia_P3</th>\n",
       "      <th>Precio_Potencia_P4</th>\n",
       "      <th>Precio_Potencia_P5</th>\n",
       "      <th>Precio_Potencia_P6</th>\n",
       "      <th>Precio_Energía_P1</th>\n",
       "      <th>Precio_Energía_P2</th>\n",
       "      <th>Precio_Energía_P3</th>\n",
       "      <th>Precio_Energía_P4</th>\n",
       "      <th>Precio_Energía_P5</th>\n",
       "      <th>Precio_Energía_P6</th>\n",
       "      <th>Fecha_Inicio</th>\n",
       "      <th>Fecha_Finalizacion</th>\n",
       "    </tr>\n",
       "  </thead>\n",
       "  <tbody>\n",
       "    <tr>\n",
       "      <th>0</th>\n",
       "      <td>CYE</td>\n",
       "      <td>2.0. A</td>\n",
       "      <td>0.038043</td>\n",
       "      <td>0.038043</td>\n",
       "      <td>0.038043</td>\n",
       "      <td>0.038043</td>\n",
       "      <td>0.038043</td>\n",
       "      <td>0.038043</td>\n",
       "      <td>0.109125</td>\n",
       "      <td>0.109125</td>\n",
       "      <td>0.109125</td>\n",
       "      <td>0.109125</td>\n",
       "      <td>0.109125</td>\n",
       "      <td>0.109125</td>\n",
       "      <td>2020-11-16</td>\n",
       "      <td>0</td>\n",
       "    </tr>\n",
       "    <tr>\n",
       "      <th>1</th>\n",
       "      <td>CYE</td>\n",
       "      <td>2.0. DHA</td>\n",
       "      <td>0.038043</td>\n",
       "      <td>0.038043</td>\n",
       "      <td>0.038043</td>\n",
       "      <td>0.038043</td>\n",
       "      <td>0.038043</td>\n",
       "      <td>0.038043</td>\n",
       "      <td>0.130285</td>\n",
       "      <td>0.130285</td>\n",
       "      <td>0.130285</td>\n",
       "      <td>0.130285</td>\n",
       "      <td>0.130285</td>\n",
       "      <td>0.130285</td>\n",
       "      <td>2020-11-16</td>\n",
       "      <td>0</td>\n",
       "    </tr>\n",
       "    <tr>\n",
       "      <th>2</th>\n",
       "      <td>CYE</td>\n",
       "      <td>2.1. A</td>\n",
       "      <td>0.044445</td>\n",
       "      <td>0.044445</td>\n",
       "      <td>0.044445</td>\n",
       "      <td>0.044445</td>\n",
       "      <td>0.044445</td>\n",
       "      <td>0.044445</td>\n",
       "      <td>0.122458</td>\n",
       "      <td>0.122458</td>\n",
       "      <td>0.122458</td>\n",
       "      <td>0.122458</td>\n",
       "      <td>0.122458</td>\n",
       "      <td>0.122458</td>\n",
       "      <td>2020-11-16</td>\n",
       "      <td>0</td>\n",
       "    </tr>\n",
       "    <tr>\n",
       "      <th>3</th>\n",
       "      <td>CYE</td>\n",
       "      <td>2.1. DHA</td>\n",
       "      <td>0.044445</td>\n",
       "      <td>0.044445</td>\n",
       "      <td>0.044445</td>\n",
       "      <td>0.044445</td>\n",
       "      <td>0.044445</td>\n",
       "      <td>0.044445</td>\n",
       "      <td>0.142841</td>\n",
       "      <td>0.142841</td>\n",
       "      <td>0.142841</td>\n",
       "      <td>0.142841</td>\n",
       "      <td>0.142841</td>\n",
       "      <td>0.142841</td>\n",
       "      <td>2020-11-16</td>\n",
       "      <td>0</td>\n",
       "    </tr>\n",
       "    <tr>\n",
       "      <th>4</th>\n",
       "      <td>CYE</td>\n",
       "      <td>3.0. A</td>\n",
       "      <td>0.040729</td>\n",
       "      <td>0.024437</td>\n",
       "      <td>0.016292</td>\n",
       "      <td>0.040729</td>\n",
       "      <td>0.024437</td>\n",
       "      <td>0.016292</td>\n",
       "      <td>0.092978</td>\n",
       "      <td>0.092978</td>\n",
       "      <td>0.092978</td>\n",
       "      <td>0.092978</td>\n",
       "      <td>0.092978</td>\n",
       "      <td>0.092978</td>\n",
       "      <td>2020-11-16</td>\n",
       "      <td>0</td>\n",
       "    </tr>\n",
       "    <tr>\n",
       "      <th>...</th>\n",
       "      <td>...</td>\n",
       "      <td>...</td>\n",
       "      <td>...</td>\n",
       "      <td>...</td>\n",
       "      <td>...</td>\n",
       "      <td>...</td>\n",
       "      <td>...</td>\n",
       "      <td>...</td>\n",
       "      <td>...</td>\n",
       "      <td>...</td>\n",
       "      <td>...</td>\n",
       "      <td>...</td>\n",
       "      <td>...</td>\n",
       "      <td>...</td>\n",
       "      <td>...</td>\n",
       "      <td>...</td>\n",
       "    </tr>\n",
       "    <tr>\n",
       "      <th>157</th>\n",
       "      <td>Opcion</td>\n",
       "      <td>2.0. DHA</td>\n",
       "      <td>0.038043</td>\n",
       "      <td>0.038043</td>\n",
       "      <td>0.038043</td>\n",
       "      <td>0.038043</td>\n",
       "      <td>0.038043</td>\n",
       "      <td>0.038043</td>\n",
       "      <td>0.151545</td>\n",
       "      <td>0.151545</td>\n",
       "      <td>0.151545</td>\n",
       "      <td>0.151545</td>\n",
       "      <td>0.151545</td>\n",
       "      <td>0.151545</td>\n",
       "      <td>2020-03-01</td>\n",
       "      <td>2019-04-01 00:00:00</td>\n",
       "    </tr>\n",
       "    <tr>\n",
       "      <th>158</th>\n",
       "      <td>Opcion</td>\n",
       "      <td>2.1. A</td>\n",
       "      <td>0.044445</td>\n",
       "      <td>0.044445</td>\n",
       "      <td>0.044445</td>\n",
       "      <td>0.044445</td>\n",
       "      <td>0.044445</td>\n",
       "      <td>0.044445</td>\n",
       "      <td>0.145133</td>\n",
       "      <td>0.145133</td>\n",
       "      <td>0.145133</td>\n",
       "      <td>0.145133</td>\n",
       "      <td>0.145133</td>\n",
       "      <td>0.145133</td>\n",
       "      <td>2020-03-01</td>\n",
       "      <td>2019-04-01 00:00:00</td>\n",
       "    </tr>\n",
       "    <tr>\n",
       "      <th>159</th>\n",
       "      <td>Opcion</td>\n",
       "      <td>2.1. DHA</td>\n",
       "      <td>0.044445</td>\n",
       "      <td>0.044445</td>\n",
       "      <td>0.044445</td>\n",
       "      <td>0.044445</td>\n",
       "      <td>0.044445</td>\n",
       "      <td>0.044445</td>\n",
       "      <td>0.164125</td>\n",
       "      <td>0.164125</td>\n",
       "      <td>0.164125</td>\n",
       "      <td>0.164125</td>\n",
       "      <td>0.164125</td>\n",
       "      <td>0.164125</td>\n",
       "      <td>2020-03-01</td>\n",
       "      <td>2019-04-01 00:00:00</td>\n",
       "    </tr>\n",
       "    <tr>\n",
       "      <th>160</th>\n",
       "      <td>Opcion</td>\n",
       "      <td>3.0. A</td>\n",
       "      <td>0.040729</td>\n",
       "      <td>0.024437</td>\n",
       "      <td>0.016292</td>\n",
       "      <td>0.040729</td>\n",
       "      <td>0.024437</td>\n",
       "      <td>0.016292</td>\n",
       "      <td>0.112716</td>\n",
       "      <td>0.112716</td>\n",
       "      <td>0.112716</td>\n",
       "      <td>0.112716</td>\n",
       "      <td>0.112716</td>\n",
       "      <td>0.112716</td>\n",
       "      <td>2020-03-01</td>\n",
       "      <td>2019-04-01 00:00:00</td>\n",
       "    </tr>\n",
       "    <tr>\n",
       "      <th>161</th>\n",
       "      <td>Opcion</td>\n",
       "      <td>3.1. A</td>\n",
       "      <td>0.059173</td>\n",
       "      <td>0.036491</td>\n",
       "      <td>0.008368</td>\n",
       "      <td>0.059173</td>\n",
       "      <td>0.036491</td>\n",
       "      <td>0.008368</td>\n",
       "      <td>0.098272</td>\n",
       "      <td>0.098272</td>\n",
       "      <td>0.098272</td>\n",
       "      <td>0.098272</td>\n",
       "      <td>0.098272</td>\n",
       "      <td>0.098272</td>\n",
       "      <td>2020-03-01</td>\n",
       "      <td>2019-04-01 00:00:00</td>\n",
       "    </tr>\n",
       "  </tbody>\n",
       "</table>\n",
       "<p>162 rows × 16 columns</p>\n",
       "</div>"
      ],
      "text/plain": [
       "    Comercializadora    Tarifa  Precio_Potencia_P1  Precio_Potencia_P2  \\\n",
       "0                CYE    2.0. A            0.038043            0.038043   \n",
       "1                CYE  2.0. DHA            0.038043            0.038043   \n",
       "2                CYE    2.1. A            0.044445            0.044445   \n",
       "3                CYE  2.1. DHA            0.044445            0.044445   \n",
       "4                CYE    3.0. A            0.040729            0.024437   \n",
       "..               ...       ...                 ...                 ...   \n",
       "157           Opcion  2.0. DHA            0.038043            0.038043   \n",
       "158           Opcion    2.1. A            0.044445            0.044445   \n",
       "159           Opcion  2.1. DHA            0.044445            0.044445   \n",
       "160           Opcion    3.0. A            0.040729            0.024437   \n",
       "161           Opcion    3.1. A            0.059173            0.036491   \n",
       "\n",
       "     Precio_Potencia_P3  Precio_Potencia_P4  Precio_Potencia_P5  \\\n",
       "0              0.038043            0.038043            0.038043   \n",
       "1              0.038043            0.038043            0.038043   \n",
       "2              0.044445            0.044445            0.044445   \n",
       "3              0.044445            0.044445            0.044445   \n",
       "4              0.016292            0.040729            0.024437   \n",
       "..                  ...                 ...                 ...   \n",
       "157            0.038043            0.038043            0.038043   \n",
       "158            0.044445            0.044445            0.044445   \n",
       "159            0.044445            0.044445            0.044445   \n",
       "160            0.016292            0.040729            0.024437   \n",
       "161            0.008368            0.059173            0.036491   \n",
       "\n",
       "     Precio_Potencia_P6  Precio_Energía_P1  Precio_Energía_P2  \\\n",
       "0              0.038043           0.109125           0.109125   \n",
       "1              0.038043           0.130285           0.130285   \n",
       "2              0.044445           0.122458           0.122458   \n",
       "3              0.044445           0.142841           0.142841   \n",
       "4              0.016292           0.092978           0.092978   \n",
       "..                  ...                ...                ...   \n",
       "157            0.038043           0.151545           0.151545   \n",
       "158            0.044445           0.145133           0.145133   \n",
       "159            0.044445           0.164125           0.164125   \n",
       "160            0.016292           0.112716           0.112716   \n",
       "161            0.008368           0.098272           0.098272   \n",
       "\n",
       "     Precio_Energía_P3  Precio_Energía_P4  Precio_Energía_P5  \\\n",
       "0             0.109125           0.109125           0.109125   \n",
       "1             0.130285           0.130285           0.130285   \n",
       "2             0.122458           0.122458           0.122458   \n",
       "3             0.142841           0.142841           0.142841   \n",
       "4             0.092978           0.092978           0.092978   \n",
       "..                 ...                ...                ...   \n",
       "157           0.151545           0.151545           0.151545   \n",
       "158           0.145133           0.145133           0.145133   \n",
       "159           0.164125           0.164125           0.164125   \n",
       "160           0.112716           0.112716           0.112716   \n",
       "161           0.098272           0.098272           0.098272   \n",
       "\n",
       "     Precio_Energía_P6 Fecha_Inicio   Fecha_Finalizacion  \n",
       "0             0.109125   2020-11-16                    0  \n",
       "1             0.130285   2020-11-16                    0  \n",
       "2             0.122458   2020-11-16                    0  \n",
       "3             0.142841   2020-11-16                    0  \n",
       "4             0.092978   2020-11-16                    0  \n",
       "..                 ...          ...                  ...  \n",
       "157           0.151545   2020-03-01  2019-04-01 00:00:00  \n",
       "158           0.145133   2020-03-01  2019-04-01 00:00:00  \n",
       "159           0.164125   2020-03-01  2019-04-01 00:00:00  \n",
       "160           0.112716   2020-03-01  2019-04-01 00:00:00  \n",
       "161           0.098272   2020-03-01  2019-04-01 00:00:00  \n",
       "\n",
       "[162 rows x 16 columns]"
      ]
     },
     "execution_count": 6,
     "metadata": {},
     "output_type": "execute_result"
    }
   ],
   "source": [
    "bd_precios_fijos"
   ]
  },
  {
   "cell_type": "markdown",
   "metadata": {},
   "source": [
    "# Estudio Fijo"
   ]
  },
  {
   "cell_type": "markdown",
   "metadata": {},
   "source": [
    "## 1er Paso para Estudio de Ahorro - Coste total de 1 año comercializadora actual "
   ]
  },
  {
   "cell_type": "markdown",
   "metadata": {},
   "source": [
    "#### Coste de la Energía \n",
    "la columna de precio_energía de la BD_CLiente_Estudio_de_ahorro lo multiplicamos por bd_consumo_cliente el consumo anual segun periodo. "
   ]
  },
  {
   "cell_type": "code",
   "execution_count": 7,
   "metadata": {},
   "outputs": [],
   "source": [
    "coste_energía_actual = ((bd_cliente_estudio_de_ahorro_modelo[\"Precio_Energia_P1\"] * bd_consumo_energia_cliente.iloc[0][-1]) +\n",
    "                        (bd_cliente_estudio_de_ahorro_modelo[\"Precio_Energia_P2\"] * bd_consumo_energia_cliente.iloc[1][-1]) +\n",
    "                        (bd_cliente_estudio_de_ahorro_modelo[\"Precio_Energia_P3\"] * bd_consumo_energia_cliente.iloc[2][-1]) +\n",
    "                        (bd_cliente_estudio_de_ahorro_modelo[\"Precio_Energia_P4\"] * bd_consumo_energia_cliente.iloc[3][-1]) +\n",
    "                        (bd_cliente_estudio_de_ahorro_modelo[\"Precio_Energia_P5\"] * bd_consumo_energia_cliente.iloc[4][-1]) +\n",
    "                        (bd_cliente_estudio_de_ahorro_modelo[\"Precio_Energia_P6\"] * bd_consumo_energia_cliente.iloc[5][-1]) )"
   ]
  },
  {
   "cell_type": "code",
   "execution_count": 8,
   "metadata": {},
   "outputs": [
    {
     "data": {
      "text/plain": [
       "0    5756.660616\n",
       "dtype: float64"
      ]
     },
     "execution_count": 8,
     "metadata": {},
     "output_type": "execute_result"
    }
   ],
   "source": [
    "coste_energía_actual"
   ]
  },
  {
   "cell_type": "markdown",
   "metadata": {},
   "source": [
    "#### Coste de la Potencia \n",
    "(el precio_potencia de la BD_CLiente_Estudio_de_ahorro lo multiplicamos por bd_consumo_cliente la potencia segun periodo) multiplicado por 365 días. "
   ]
  },
  {
   "cell_type": "code",
   "execution_count": 9,
   "metadata": {},
   "outputs": [],
   "source": [
    "coste_potencia_actual =((bd_cliente_estudio_de_ahorro_modelo[\"Precio_Potencia_P1\"] * bd_consumo_potencia_cliente.iloc[0][-1]) +\n",
    "                        (bd_cliente_estudio_de_ahorro_modelo[\"Precio_Potencia_P2\"] * bd_consumo_potencia_cliente.iloc[1][-1]) +\n",
    "                        (bd_cliente_estudio_de_ahorro_modelo[\"Precio_Potencia_P3\"] * bd_consumo_potencia_cliente.iloc[2][-1]) +\n",
    "                        (bd_cliente_estudio_de_ahorro_modelo[\"Precio_Potencia_P4\"] * bd_consumo_potencia_cliente.iloc[3][-1]) +\n",
    "                        (bd_cliente_estudio_de_ahorro_modelo[\"Precio_Potencia_P5\"] * bd_consumo_potencia_cliente.iloc[4][-1]) +\n",
    "                        (bd_cliente_estudio_de_ahorro_modelo[\"Precio_Potencia_P6\"] * bd_consumo_potencia_cliente.iloc[5][-1]) ) * 365  "
   ]
  },
  {
   "cell_type": "code",
   "execution_count": 10,
   "metadata": {},
   "outputs": [
    {
     "data": {
      "text/plain": [
       "0    1424.79137\n",
       "dtype: float64"
      ]
     },
     "execution_count": 10,
     "metadata": {},
     "output_type": "execute_result"
    }
   ],
   "source": [
    "coste_potencia_actual"
   ]
  },
  {
   "cell_type": "markdown",
   "metadata": {},
   "source": [
    "#### impuesto energía \n",
    "(energía + potencia) multilplicado por 5,11%\n"
   ]
  },
  {
   "cell_type": "code",
   "execution_count": 11,
   "metadata": {},
   "outputs": [],
   "source": [
    "coste_impuesto_energia = (coste_potencia_actual + coste_energía_actual)* 0.0511"
   ]
  },
  {
   "cell_type": "code",
   "execution_count": 12,
   "metadata": {},
   "outputs": [
    {
     "data": {
      "text/plain": [
       "0    366.972196\n",
       "dtype: float64"
      ]
     },
     "execution_count": 12,
     "metadata": {},
     "output_type": "execute_result"
    }
   ],
   "source": [
    "coste_impuesto_energia"
   ]
  },
  {
   "cell_type": "markdown",
   "metadata": {},
   "source": [
    "#### precio contador \n",
    "bd_consumo_cliente del precio_del_contador multiplicado por 365 días. "
   ]
  },
  {
   "cell_type": "code",
   "execution_count": 13,
   "metadata": {},
   "outputs": [],
   "source": [
    "coste_contador = bd_cliente_estudio_de_ahorro_modelo[\"Precio_Contador\"]*365"
   ]
  },
  {
   "cell_type": "code",
   "execution_count": 14,
   "metadata": {},
   "outputs": [
    {
     "data": {
      "text/plain": [
       "0    143.982895\n",
       "Name: Precio_Contador, dtype: float64"
      ]
     },
     "execution_count": 14,
     "metadata": {},
     "output_type": "execute_result"
    }
   ],
   "source": [
    "coste_contador"
   ]
  },
  {
   "cell_type": "markdown",
   "metadata": {},
   "source": [
    "#### iva \n",
    "(energía + potencia + impuesto energía + precio contador) multiplicado 21%"
   ]
  },
  {
   "cell_type": "code",
   "execution_count": 15,
   "metadata": {},
   "outputs": [],
   "source": [
    "coste_iva = (coste_energía_actual + coste_potencia_actual + coste_impuesto_energia + coste_contador) * 0.21"
   ]
  },
  {
   "cell_type": "code",
   "execution_count": 16,
   "metadata": {},
   "outputs": [
    {
     "data": {
      "text/plain": [
       "0    1615.405486\n",
       "dtype: float64"
      ]
     },
     "execution_count": 16,
     "metadata": {},
     "output_type": "execute_result"
    }
   ],
   "source": [
    "coste_iva"
   ]
  },
  {
   "cell_type": "markdown",
   "metadata": {},
   "source": [
    "#### coste total de factura actual \n",
    "energía + potencia + impuesto energía + precio contador + iva"
   ]
  },
  {
   "cell_type": "code",
   "execution_count": 17,
   "metadata": {},
   "outputs": [],
   "source": [
    "actual_coste_anual_cliente = (coste_energía_actual + coste_potencia_actual + coste_impuesto_energia + coste_contador + coste_iva)"
   ]
  },
  {
   "cell_type": "code",
   "execution_count": 18,
   "metadata": {},
   "outputs": [
    {
     "data": {
      "text/plain": [
       "0    9307.812563\n",
       "dtype: float64"
      ]
     },
     "execution_count": 18,
     "metadata": {},
     "output_type": "execute_result"
    }
   ],
   "source": [
    "actual_coste_anual_cliente"
   ]
  },
  {
   "cell_type": "markdown",
   "metadata": {},
   "source": [
    "### Función para el importe de factura actual 1 año del cliente"
   ]
  },
  {
   "cell_type": "code",
   "execution_count": 19,
   "metadata": {},
   "outputs": [],
   "source": [
    "def importe_factura_año():\n",
    "    coste_energía_actual = ((bd_cliente_estudio_de_ahorro_modelo[\"Precio_Energia_P1\"] * bd_consumo_energia_cliente.iloc[0][-1]) +\n",
    "                        (bd_cliente_estudio_de_ahorro_modelo[\"Precio_Energia_P2\"] * bd_consumo_energia_cliente.iloc[1][-1]) +\n",
    "                        (bd_cliente_estudio_de_ahorro_modelo[\"Precio_Energia_P3\"] * bd_consumo_energia_cliente.iloc[2][-1]) +\n",
    "                        (bd_cliente_estudio_de_ahorro_modelo[\"Precio_Energia_P4\"] * bd_consumo_energia_cliente.iloc[3][-1]) +\n",
    "                        (bd_cliente_estudio_de_ahorro_modelo[\"Precio_Energia_P5\"] * bd_consumo_energia_cliente.iloc[4][-1]) +\n",
    "                        (bd_cliente_estudio_de_ahorro_modelo[\"Precio_Energia_P6\"] * bd_consumo_energia_cliente.iloc[5][-1]) )\n",
    "    coste_potencia_actual =((bd_cliente_estudio_de_ahorro_modelo[\"Precio_Potencia_P1\"] * bd_consumo_potencia_cliente.iloc[0][-1]) +\n",
    "                        (bd_cliente_estudio_de_ahorro_modelo[\"Precio_Potencia_P2\"] * bd_consumo_potencia_cliente.iloc[1][-1]) +\n",
    "                        (bd_cliente_estudio_de_ahorro_modelo[\"Precio_Potencia_P3\"] * bd_consumo_potencia_cliente.iloc[2][-1]) +\n",
    "                        (bd_cliente_estudio_de_ahorro_modelo[\"Precio_Potencia_P4\"] * bd_consumo_potencia_cliente.iloc[3][-1]) +\n",
    "                        (bd_cliente_estudio_de_ahorro_modelo[\"Precio_Potencia_P5\"] * bd_consumo_potencia_cliente.iloc[4][-1]) +\n",
    "                        (bd_cliente_estudio_de_ahorro_modelo[\"Precio_Potencia_P6\"] * bd_consumo_potencia_cliente.iloc[5][-1]) ) * 365  \n",
    "    coste_impuesto_energia = (coste_potencia_actual + coste_energía_actual)* 0.0511\n",
    "    coste_contador = bd_cliente_estudio_de_ahorro_modelo[\"Precio_Contador\"]*365\n",
    "    coste_iva = (coste_energía_actual + coste_potencia_actual + coste_impuesto_energia + coste_contador) * 0.21\n",
    "    actual_coste_anual_cliente = (coste_energía_actual + coste_potencia_actual + coste_impuesto_energia + coste_contador + coste_iva)\n",
    "    return(actual_coste_anual_cliente)\n",
    "    "
   ]
  },
  {
   "cell_type": "code",
   "execution_count": 20,
   "metadata": {},
   "outputs": [
    {
     "data": {
      "text/plain": [
       "0    9307.812563\n",
       "dtype: float64"
      ]
     },
     "execution_count": 20,
     "metadata": {},
     "output_type": "execute_result"
    }
   ],
   "source": [
    "importe_factura_año()"
   ]
  },
  {
   "cell_type": "markdown",
   "metadata": {},
   "source": [
    "## 2do Paso para Estudio de Ahorro - Coste total de 1 año con nueva comercializadora  "
   ]
  },
  {
   "cell_type": "markdown",
   "metadata": {},
   "source": [
    "#### coste de la energía \n",
    "\n",
    "\n",
    "multiplicar la columna de consumo en BD_Consumo_Cliente con con la columna de precios de la BD_Precios_Fijos cuya fecha de finalización sea 0, y la tarifa igual a la columna de BD_Estudio_Ahorro_Cliente  Que se quede el resultado más barato.\n"
   ]
  },
  {
   "cell_type": "code",
   "execution_count": 21,
   "metadata": {},
   "outputs": [],
   "source": [
    "tarifa_df = bd_precios_fijos.loc[bd_precios_fijos[\"Tarifa\"] == bd_cliente_estudio_de_ahorro_modelo[\"Tarifa\"].values[0]]\n",
    "precios_vigentes_comercializadora_df = tarifa_df.loc[tarifa_df[\"Fecha_Finalizacion\"] == '0']\n"
   ]
  },
  {
   "cell_type": "code",
   "execution_count": 22,
   "metadata": {},
   "outputs": [
    {
     "data": {
      "text/html": [
       "<div>\n",
       "<style scoped>\n",
       "    .dataframe tbody tr th:only-of-type {\n",
       "        vertical-align: middle;\n",
       "    }\n",
       "\n",
       "    .dataframe tbody tr th {\n",
       "        vertical-align: top;\n",
       "    }\n",
       "\n",
       "    .dataframe thead th {\n",
       "        text-align: right;\n",
       "    }\n",
       "</style>\n",
       "<table border=\"1\" class=\"dataframe\">\n",
       "  <thead>\n",
       "    <tr style=\"text-align: right;\">\n",
       "      <th></th>\n",
       "      <th>Comercializadora</th>\n",
       "      <th>Tarifa</th>\n",
       "      <th>Precio_Potencia_P1</th>\n",
       "      <th>Precio_Potencia_P2</th>\n",
       "      <th>Precio_Potencia_P3</th>\n",
       "      <th>Precio_Potencia_P4</th>\n",
       "      <th>Precio_Potencia_P5</th>\n",
       "      <th>Precio_Potencia_P6</th>\n",
       "      <th>Precio_Energía_P1</th>\n",
       "      <th>Precio_Energía_P2</th>\n",
       "      <th>Precio_Energía_P3</th>\n",
       "      <th>Precio_Energía_P4</th>\n",
       "      <th>Precio_Energía_P5</th>\n",
       "      <th>Precio_Energía_P6</th>\n",
       "      <th>Fecha_Inicio</th>\n",
       "      <th>Fecha_Finalizacion</th>\n",
       "    </tr>\n",
       "  </thead>\n",
       "  <tbody>\n",
       "    <tr>\n",
       "      <th>5</th>\n",
       "      <td>CYE</td>\n",
       "      <td>3.1. A</td>\n",
       "      <td>0.059173</td>\n",
       "      <td>0.036491</td>\n",
       "      <td>0.008368</td>\n",
       "      <td>0.059173</td>\n",
       "      <td>0.036491</td>\n",
       "      <td>0.008368</td>\n",
       "      <td>0.081012</td>\n",
       "      <td>0.081012</td>\n",
       "      <td>0.081012</td>\n",
       "      <td>0.081012</td>\n",
       "      <td>0.081012</td>\n",
       "      <td>0.081012</td>\n",
       "      <td>2020-11-16</td>\n",
       "      <td>0</td>\n",
       "    </tr>\n",
       "    <tr>\n",
       "      <th>17</th>\n",
       "      <td>Sun_Air_One</td>\n",
       "      <td>3.1. A</td>\n",
       "      <td>0.059173</td>\n",
       "      <td>0.036491</td>\n",
       "      <td>0.008368</td>\n",
       "      <td>0.059173</td>\n",
       "      <td>0.036491</td>\n",
       "      <td>0.008368</td>\n",
       "      <td>0.080410</td>\n",
       "      <td>0.080410</td>\n",
       "      <td>0.080410</td>\n",
       "      <td>0.080410</td>\n",
       "      <td>0.080410</td>\n",
       "      <td>0.080410</td>\n",
       "      <td>2020-09-08</td>\n",
       "      <td>0</td>\n",
       "    </tr>\n",
       "    <tr>\n",
       "      <th>29</th>\n",
       "      <td>Audax</td>\n",
       "      <td>3.1. A</td>\n",
       "      <td>0.059173</td>\n",
       "      <td>0.036491</td>\n",
       "      <td>0.008368</td>\n",
       "      <td>0.059173</td>\n",
       "      <td>0.036491</td>\n",
       "      <td>0.008368</td>\n",
       "      <td>0.078740</td>\n",
       "      <td>0.078740</td>\n",
       "      <td>0.078740</td>\n",
       "      <td>0.078740</td>\n",
       "      <td>0.078740</td>\n",
       "      <td>0.078740</td>\n",
       "      <td>2020-11-17</td>\n",
       "      <td>0</td>\n",
       "    </tr>\n",
       "    <tr>\n",
       "      <th>41</th>\n",
       "      <td>Opcion</td>\n",
       "      <td>3.1. A</td>\n",
       "      <td>0.059173</td>\n",
       "      <td>0.036491</td>\n",
       "      <td>0.008368</td>\n",
       "      <td>0.059173</td>\n",
       "      <td>0.036491</td>\n",
       "      <td>0.008368</td>\n",
       "      <td>0.082796</td>\n",
       "      <td>0.082796</td>\n",
       "      <td>0.082796</td>\n",
       "      <td>0.082796</td>\n",
       "      <td>0.082796</td>\n",
       "      <td>0.082796</td>\n",
       "      <td>2020-12-01</td>\n",
       "      <td>0</td>\n",
       "    </tr>\n",
       "  </tbody>\n",
       "</table>\n",
       "</div>"
      ],
      "text/plain": [
       "   Comercializadora  Tarifa  Precio_Potencia_P1  Precio_Potencia_P2  \\\n",
       "5               CYE  3.1. A            0.059173            0.036491   \n",
       "17      Sun_Air_One  3.1. A            0.059173            0.036491   \n",
       "29            Audax  3.1. A            0.059173            0.036491   \n",
       "41           Opcion  3.1. A            0.059173            0.036491   \n",
       "\n",
       "    Precio_Potencia_P3  Precio_Potencia_P4  Precio_Potencia_P5  \\\n",
       "5             0.008368            0.059173            0.036491   \n",
       "17            0.008368            0.059173            0.036491   \n",
       "29            0.008368            0.059173            0.036491   \n",
       "41            0.008368            0.059173            0.036491   \n",
       "\n",
       "    Precio_Potencia_P6  Precio_Energía_P1  Precio_Energía_P2  \\\n",
       "5             0.008368           0.081012           0.081012   \n",
       "17            0.008368           0.080410           0.080410   \n",
       "29            0.008368           0.078740           0.078740   \n",
       "41            0.008368           0.082796           0.082796   \n",
       "\n",
       "    Precio_Energía_P3  Precio_Energía_P4  Precio_Energía_P5  \\\n",
       "5            0.081012           0.081012           0.081012   \n",
       "17           0.080410           0.080410           0.080410   \n",
       "29           0.078740           0.078740           0.078740   \n",
       "41           0.082796           0.082796           0.082796   \n",
       "\n",
       "    Precio_Energía_P6 Fecha_Inicio Fecha_Finalizacion  \n",
       "5            0.081012   2020-11-16                  0  \n",
       "17           0.080410   2020-09-08                  0  \n",
       "29           0.078740   2020-11-17                  0  \n",
       "41           0.082796   2020-12-01                  0  "
      ]
     },
     "execution_count": 22,
     "metadata": {},
     "output_type": "execute_result"
    }
   ],
   "source": [
    "precios_vigentes_comercializadora_df"
   ]
  },
  {
   "cell_type": "code",
   "execution_count": 23,
   "metadata": {},
   "outputs": [],
   "source": [
    "coste_energia_nuevo_comercializadoras = ((precios_vigentes_comercializadora_df['Precio_Energía_P1'] * bd_consumo_energia_cliente.iloc[0][-1]) +\n",
    "                       (precios_vigentes_comercializadora_df['Precio_Energía_P2'] * bd_consumo_energia_cliente.iloc[1][-1]) +\n",
    "                       (precios_vigentes_comercializadora_df['Precio_Energía_P3'] * bd_consumo_energia_cliente.iloc[2][-1]) +\n",
    "                       (precios_vigentes_comercializadora_df['Precio_Energía_P4'] * bd_consumo_energia_cliente.iloc[3][-1]) +\n",
    "                       (precios_vigentes_comercializadora_df['Precio_Energía_P5'] * bd_consumo_energia_cliente.iloc[4][-1]) +\n",
    "                       (precios_vigentes_comercializadora_df['Precio_Energía_P6'] * bd_consumo_energia_cliente.iloc[5][-1])\n",
    "                      )"
   ]
  },
  {
   "cell_type": "code",
   "execution_count": 24,
   "metadata": {},
   "outputs": [
    {
     "data": {
      "text/plain": [
       "5     4351.466423\n",
       "17    4319.142740\n",
       "29    4229.440360\n",
       "41    4447.287917\n",
       "dtype: float64"
      ]
     },
     "execution_count": 24,
     "metadata": {},
     "output_type": "execute_result"
    }
   ],
   "source": [
    "coste_energia_nuevo_comercializadoras"
   ]
  },
  {
   "cell_type": "code",
   "execution_count": 25,
   "metadata": {},
   "outputs": [],
   "source": [
    "coste_potencia_nuevo_comercializadoras = ((precios_vigentes_comercializadora_df['Precio_Potencia_P1'] * bd_consumo_potencia_cliente.iloc[0][-1]) +\n",
    "                       (precios_vigentes_comercializadora_df['Precio_Potencia_P2'] * bd_consumo_potencia_cliente.iloc[1][-1]) +\n",
    "                       (precios_vigentes_comercializadora_df['Precio_Potencia_P3'] * bd_consumo_potencia_cliente.iloc[2][-1]) +\n",
    "                       (precios_vigentes_comercializadora_df['Precio_Potencia_P4'] * bd_consumo_potencia_cliente.iloc[3][-1]) +\n",
    "                       (precios_vigentes_comercializadora_df['Precio_Potencia_P5'] * bd_consumo_potencia_cliente.iloc[4][-1]) +\n",
    "                       (precios_vigentes_comercializadora_df['Precio_Potencia_P6'] * bd_consumo_potencia_cliente.iloc[5][-1]) )* 365"
   ]
  },
  {
   "cell_type": "code",
   "execution_count": 26,
   "metadata": {},
   "outputs": [
    {
     "data": {
      "text/plain": [
       "5     520.050748\n",
       "17    520.050748\n",
       "29    520.050748\n",
       "41    520.050748\n",
       "dtype: float64"
      ]
     },
     "execution_count": 26,
     "metadata": {},
     "output_type": "execute_result"
    }
   ],
   "source": [
    "coste_potencia_nuevo_comercializadoras"
   ]
  },
  {
   "cell_type": "markdown",
   "metadata": {},
   "source": [
    "### Otros Costes de la Factura Nueva"
   ]
  },
  {
   "cell_type": "code",
   "execution_count": 27,
   "metadata": {},
   "outputs": [],
   "source": [
    "coste_impuesto_energia_nuevo = ((coste_energia_nuevo_comercializadoras + coste_potencia_nuevo_comercializadoras )* 0.0511)"
   ]
  },
  {
   "cell_type": "code",
   "execution_count": 28,
   "metadata": {},
   "outputs": [
    {
     "data": {
      "text/plain": [
       "5     248.934527\n",
       "17    247.282787\n",
       "29    242.698996\n",
       "41    253.831006\n",
       "dtype: float64"
      ]
     },
     "execution_count": 28,
     "metadata": {},
     "output_type": "execute_result"
    }
   ],
   "source": [
    "coste_impuesto_energia_nuevo"
   ]
  },
  {
   "cell_type": "markdown",
   "metadata": {},
   "source": [
    "#### precio contador \n",
    "bd_consumo_cliente del precio_del_contador multiplicado por 365 días. "
   ]
  },
  {
   "cell_type": "code",
   "execution_count": 29,
   "metadata": {},
   "outputs": [
    {
     "name": "stderr",
     "output_type": "stream",
     "text": [
      "<ipython-input-29-6aeb39f6f06a>:1: SettingWithCopyWarning: \n",
      "A value is trying to be set on a copy of a slice from a DataFrame.\n",
      "Try using .loc[row_indexer,col_indexer] = value instead\n",
      "\n",
      "See the caveats in the documentation: https://pandas.pydata.org/pandas-docs/stable/user_guide/indexing.html#returning-a-view-versus-a-copy\n",
      "  precios_vigentes_comercializadora_df['precio_contador'] = bd_cliente_estudio_de_ahorro_modelo[\"Precio_Contador\"].values[0]*365\n"
     ]
    },
    {
     "data": {
      "text/plain": [
       "5     143.982895\n",
       "17    143.982895\n",
       "29    143.982895\n",
       "41    143.982895\n",
       "Name: precio_contador, dtype: float64"
      ]
     },
     "execution_count": 29,
     "metadata": {},
     "output_type": "execute_result"
    }
   ],
   "source": [
    "precios_vigentes_comercializadora_df['precio_contador'] = bd_cliente_estudio_de_ahorro_modelo[\"Precio_Contador\"].values[0]*365\n",
    "coste_contador_nuevo = precios_vigentes_comercializadora_df[\"precio_contador\"]\n",
    "coste_contador_nuevo"
   ]
  },
  {
   "cell_type": "markdown",
   "metadata": {},
   "source": [
    "#### iva \n",
    "(energía + potencia + impuesto energía + precio contador) multiplicado 21%"
   ]
  },
  {
   "cell_type": "code",
   "execution_count": 30,
   "metadata": {},
   "outputs": [],
   "source": [
    "coste_iva_nuevo = (coste_energia_nuevo_comercializadoras + coste_potencia_nuevo_comercializadoras + coste_impuesto_energia_nuevo + coste_contador_nuevo) * 0.21"
   ]
  },
  {
   "cell_type": "code",
   "execution_count": 31,
   "metadata": {},
   "outputs": [
    {
     "data": {
      "text/plain": [
       "5     248.934527\n",
       "17    247.282787\n",
       "29    242.698996\n",
       "41    253.831006\n",
       "dtype: float64"
      ]
     },
     "execution_count": 31,
     "metadata": {},
     "output_type": "execute_result"
    }
   ],
   "source": [
    "coste_impuesto_energia_nuevo"
   ]
  },
  {
   "cell_type": "code",
   "execution_count": 32,
   "metadata": {},
   "outputs": [
    {
     "data": {
      "text/plain": [
       "5     1105.531265\n",
       "17    1098.396426\n",
       "29    1078.596330\n",
       "41    1126.682039\n",
       "dtype: float64"
      ]
     },
     "execution_count": 32,
     "metadata": {},
     "output_type": "execute_result"
    }
   ],
   "source": [
    "coste_iva_nuevo"
   ]
  },
  {
   "cell_type": "markdown",
   "metadata": {},
   "source": [
    "#### coste total de factura actual \n",
    "energía + potencia + impuesto energía + precio contador + iva"
   ]
  },
  {
   "cell_type": "code",
   "execution_count": 33,
   "metadata": {},
   "outputs": [],
   "source": [
    "nuevo_coste_anual_cliente = (coste_energia_nuevo_comercializadoras + coste_potencia_nuevo_comercializadoras + coste_impuesto_energia_nuevo + coste_contador_nuevo + coste_iva_nuevo)"
   ]
  },
  {
   "cell_type": "code",
   "execution_count": 34,
   "metadata": {},
   "outputs": [
    {
     "data": {
      "text/plain": [
       "5     6369.965858\n",
       "17    6328.855596\n",
       "29    6214.769329\n",
       "41    6491.834605\n",
       "dtype: float64"
      ]
     },
     "execution_count": 34,
     "metadata": {},
     "output_type": "execute_result"
    }
   ],
   "source": [
    "nuevo_coste_anual_cliente"
   ]
  },
  {
   "cell_type": "markdown",
   "metadata": {},
   "source": [
    "### Función para el importe de factura nueva 1 año del cliente"
   ]
  },
  {
   "cell_type": "code",
   "execution_count": 35,
   "metadata": {},
   "outputs": [],
   "source": [
    "def importe_nuevas_facturas():\n",
    "    tarifa_df = bd_precios_fijos.loc[bd_precios_fijos[\"Tarifa\"] == bd_cliente_estudio_de_ahorro_modelo[\"Tarifa\"].values[0]]\n",
    "    precios_vigentes_comercializadora_df = tarifa_df.loc[tarifa_df[\"Fecha_Finalizacion\"] == '0']\n",
    "    coste_energia_nuevo_comercializadoras = ((precios_vigentes_comercializadora_df['Precio_Energía_P1'] * bd_consumo_energia_cliente.iloc[0][-1]) +\n",
    "                       (precios_vigentes_comercializadora_df['Precio_Energía_P2'] * bd_consumo_energia_cliente.iloc[1][-1]) +\n",
    "                       (precios_vigentes_comercializadora_df['Precio_Energía_P3'] * bd_consumo_energia_cliente.iloc[2][-1]) +\n",
    "                       (precios_vigentes_comercializadora_df['Precio_Energía_P4'] * bd_consumo_energia_cliente.iloc[3][-1]) +\n",
    "                       (precios_vigentes_comercializadora_df['Precio_Energía_P5'] * bd_consumo_energia_cliente.iloc[4][-1]) +\n",
    "                       (precios_vigentes_comercializadora_df['Precio_Energía_P6'] * bd_consumo_energia_cliente.iloc[5][-1])\n",
    "                      )\n",
    "    coste_potencia_nuevo_comercializadoras = ((precios_vigentes_comercializadora_df['Precio_Potencia_P1'] * bd_consumo_potencia_cliente.iloc[0][-1]) +\n",
    "                       (precios_vigentes_comercializadora_df['Precio_Potencia_P2'] * bd_consumo_potencia_cliente.iloc[0][-1]) +\n",
    "                       (precios_vigentes_comercializadora_df['Precio_Potencia_P3'] * bd_consumo_potencia_cliente.iloc[0][-1]) +\n",
    "                       (precios_vigentes_comercializadora_df['Precio_Potencia_P4'] * bd_consumo_potencia_cliente.iloc[0][-1]) +\n",
    "                       (precios_vigentes_comercializadora_df['Precio_Potencia_P5'] * bd_consumo_potencia_cliente.iloc[0][-1]) +\n",
    "                       (precios_vigentes_comercializadora_df['Precio_Potencia_P6'] * bd_consumo_potencia_cliente.iloc[0][-1]) \n",
    "                      )* 365\n",
    "    coste_impuesto_energia_nuevo = (coste_energia_nuevo_comercializadoras + coste_potencia_nuevo_comercializadoras)* 0.0511\n",
    "    precios_vigentes_comercializadora_df[\"precio_contador\"] = bd_cliente_estudio_de_ahorro_modelo[\"Precio_Contador\"].values[0]*365\n",
    "    coste_contador_nuevo = precios_vigentes_comercializadora_df[\"precio_contador\"]\n",
    "    coste_iva_nuevo = (coste_energia_nuevo_comercializadoras + coste_potencia_nuevo_comercializadoras + coste_impuesto_energia_nuevo + coste_contador_nuevo) * 0.21\n",
    "    nuevo_coste_anual_cliente = (coste_energia_nuevo_comercializadoras + coste_potencia_nuevo_comercializadoras + coste_impuesto_energia_nuevo + coste_contador_nuevo + coste_iva_nuevo)\n",
    "    return(nuevo_coste_anual_cliente)"
   ]
  },
  {
   "cell_type": "code",
   "execution_count": 36,
   "metadata": {},
   "outputs": [
    {
     "name": "stderr",
     "output_type": "stream",
     "text": [
      "<ipython-input-35-df35fe2195ee>:19: SettingWithCopyWarning: \n",
      "A value is trying to be set on a copy of a slice from a DataFrame.\n",
      "Try using .loc[row_indexer,col_indexer] = value instead\n",
      "\n",
      "See the caveats in the documentation: https://pandas.pydata.org/pandas-docs/stable/user_guide/indexing.html#returning-a-view-versus-a-copy\n",
      "  precios_vigentes_comercializadora_df[\"precio_contador\"] = bd_cliente_estudio_de_ahorro_modelo[\"Precio_Contador\"].values[0]*365\n"
     ]
    },
    {
     "data": {
      "text/plain": [
       "5     6867.593380\n",
       "17    6826.483119\n",
       "29    6712.396851\n",
       "41    6989.462128\n",
       "dtype: float64"
      ]
     },
     "execution_count": 36,
     "metadata": {},
     "output_type": "execute_result"
    }
   ],
   "source": [
    "importe_nuevas_facturas()"
   ]
  },
  {
   "cell_type": "markdown",
   "metadata": {},
   "source": [
    "## Choose top 3 comercializadoras"
   ]
  },
  {
   "cell_type": "code",
   "execution_count": 37,
   "metadata": {},
   "outputs": [
    {
     "name": "stderr",
     "output_type": "stream",
     "text": [
      "<ipython-input-35-df35fe2195ee>:19: SettingWithCopyWarning: \n",
      "A value is trying to be set on a copy of a slice from a DataFrame.\n",
      "Try using .loc[row_indexer,col_indexer] = value instead\n",
      "\n",
      "See the caveats in the documentation: https://pandas.pydata.org/pandas-docs/stable/user_guide/indexing.html#returning-a-view-versus-a-copy\n",
      "  precios_vigentes_comercializadora_df[\"precio_contador\"] = bd_cliente_estudio_de_ahorro_modelo[\"Precio_Contador\"].values[0]*365\n"
     ]
    },
    {
     "data": {
      "text/plain": [
       "29    6712.396851\n",
       "17    6826.483119\n",
       "5     6867.593380\n",
       "41    6989.462128\n",
       "dtype: float64"
      ]
     },
     "execution_count": 37,
     "metadata": {},
     "output_type": "execute_result"
    }
   ],
   "source": [
    "ordenar_comercializadoras = importe_nuevas_facturas().sort_values(ascending=True)\n",
    "ordenar_comercializadoras"
   ]
  },
  {
   "cell_type": "code",
   "execution_count": 38,
   "metadata": {},
   "outputs": [
    {
     "data": {
      "text/plain": [
       "29    6712.396851\n",
       "17    6826.483119\n",
       "5     6867.593380\n",
       "dtype: float64"
      ]
     },
     "execution_count": 38,
     "metadata": {},
     "output_type": "execute_result"
    }
   ],
   "source": [
    "top_3_precios_comercializadoras = ordenar_comercializadoras.head(n=3)\n",
    "top_3_precios_comercializadoras"
   ]
  },
  {
   "cell_type": "code",
   "execution_count": 39,
   "metadata": {},
   "outputs": [
    {
     "data": {
      "text/html": [
       "<div>\n",
       "<style scoped>\n",
       "    .dataframe tbody tr th:only-of-type {\n",
       "        vertical-align: middle;\n",
       "    }\n",
       "\n",
       "    .dataframe tbody tr th {\n",
       "        vertical-align: top;\n",
       "    }\n",
       "\n",
       "    .dataframe thead th {\n",
       "        text-align: right;\n",
       "    }\n",
       "</style>\n",
       "<table border=\"1\" class=\"dataframe\">\n",
       "  <thead>\n",
       "    <tr style=\"text-align: right;\">\n",
       "      <th></th>\n",
       "      <th>Comercializadora</th>\n",
       "      <th>Tarifa</th>\n",
       "      <th>Precio_Potencia_P1</th>\n",
       "      <th>Precio_Potencia_P2</th>\n",
       "      <th>Precio_Potencia_P3</th>\n",
       "      <th>Precio_Potencia_P4</th>\n",
       "      <th>Precio_Potencia_P5</th>\n",
       "      <th>Precio_Potencia_P6</th>\n",
       "      <th>Precio_Energía_P1</th>\n",
       "      <th>Precio_Energía_P2</th>\n",
       "      <th>Precio_Energía_P3</th>\n",
       "      <th>Precio_Energía_P4</th>\n",
       "      <th>Precio_Energía_P5</th>\n",
       "      <th>Precio_Energía_P6</th>\n",
       "      <th>Fecha_Inicio</th>\n",
       "      <th>Fecha_Finalizacion</th>\n",
       "    </tr>\n",
       "  </thead>\n",
       "  <tbody>\n",
       "    <tr>\n",
       "      <th>29</th>\n",
       "      <td>Audax</td>\n",
       "      <td>3.1. A</td>\n",
       "      <td>0.059173</td>\n",
       "      <td>0.036491</td>\n",
       "      <td>0.008368</td>\n",
       "      <td>0.059173</td>\n",
       "      <td>0.036491</td>\n",
       "      <td>0.008368</td>\n",
       "      <td>0.078740</td>\n",
       "      <td>0.078740</td>\n",
       "      <td>0.078740</td>\n",
       "      <td>0.078740</td>\n",
       "      <td>0.078740</td>\n",
       "      <td>0.078740</td>\n",
       "      <td>2020-11-17</td>\n",
       "      <td>0</td>\n",
       "    </tr>\n",
       "    <tr>\n",
       "      <th>17</th>\n",
       "      <td>Sun_Air_One</td>\n",
       "      <td>3.1. A</td>\n",
       "      <td>0.059173</td>\n",
       "      <td>0.036491</td>\n",
       "      <td>0.008368</td>\n",
       "      <td>0.059173</td>\n",
       "      <td>0.036491</td>\n",
       "      <td>0.008368</td>\n",
       "      <td>0.080410</td>\n",
       "      <td>0.080410</td>\n",
       "      <td>0.080410</td>\n",
       "      <td>0.080410</td>\n",
       "      <td>0.080410</td>\n",
       "      <td>0.080410</td>\n",
       "      <td>2020-09-08</td>\n",
       "      <td>0</td>\n",
       "    </tr>\n",
       "    <tr>\n",
       "      <th>5</th>\n",
       "      <td>CYE</td>\n",
       "      <td>3.1. A</td>\n",
       "      <td>0.059173</td>\n",
       "      <td>0.036491</td>\n",
       "      <td>0.008368</td>\n",
       "      <td>0.059173</td>\n",
       "      <td>0.036491</td>\n",
       "      <td>0.008368</td>\n",
       "      <td>0.081012</td>\n",
       "      <td>0.081012</td>\n",
       "      <td>0.081012</td>\n",
       "      <td>0.081012</td>\n",
       "      <td>0.081012</td>\n",
       "      <td>0.081012</td>\n",
       "      <td>2020-11-16</td>\n",
       "      <td>0</td>\n",
       "    </tr>\n",
       "  </tbody>\n",
       "</table>\n",
       "</div>"
      ],
      "text/plain": [
       "   Comercializadora  Tarifa  Precio_Potencia_P1  Precio_Potencia_P2  \\\n",
       "29            Audax  3.1. A            0.059173            0.036491   \n",
       "17      Sun_Air_One  3.1. A            0.059173            0.036491   \n",
       "5               CYE  3.1. A            0.059173            0.036491   \n",
       "\n",
       "    Precio_Potencia_P3  Precio_Potencia_P4  Precio_Potencia_P5  \\\n",
       "29            0.008368            0.059173            0.036491   \n",
       "17            0.008368            0.059173            0.036491   \n",
       "5             0.008368            0.059173            0.036491   \n",
       "\n",
       "    Precio_Potencia_P6  Precio_Energía_P1  Precio_Energía_P2  \\\n",
       "29            0.008368           0.078740           0.078740   \n",
       "17            0.008368           0.080410           0.080410   \n",
       "5             0.008368           0.081012           0.081012   \n",
       "\n",
       "    Precio_Energía_P3  Precio_Energía_P4  Precio_Energía_P5  \\\n",
       "29           0.078740           0.078740           0.078740   \n",
       "17           0.080410           0.080410           0.080410   \n",
       "5            0.081012           0.081012           0.081012   \n",
       "\n",
       "    Precio_Energía_P6 Fecha_Inicio Fecha_Finalizacion  \n",
       "29           0.078740   2020-11-17                  0  \n",
       "17           0.080410   2020-09-08                  0  \n",
       "5            0.081012   2020-11-16                  0  "
      ]
     },
     "execution_count": 39,
     "metadata": {},
     "output_type": "execute_result"
    }
   ],
   "source": [
    "top_3_comercializadoras = bd_precios_fijos.iloc[top_3_precios_comercializadoras.index[0:3]]\n",
    "top_3_comercializadoras"
   ]
  },
  {
   "cell_type": "markdown",
   "metadata": {},
   "source": [
    "## Choose The One comercializadora "
   ]
  },
  {
   "cell_type": "code",
   "execution_count": 40,
   "metadata": {},
   "outputs": [
    {
     "data": {
      "text/plain": [
       "29    6712.396851\n",
       "dtype: float64"
      ]
     },
     "execution_count": 40,
     "metadata": {},
     "output_type": "execute_result"
    }
   ],
   "source": [
    "the_one_price = ordenar_comercializadoras.head(n=1)\n",
    "the_one_price\n"
   ]
  },
  {
   "cell_type": "code",
   "execution_count": 41,
   "metadata": {},
   "outputs": [
    {
     "data": {
      "text/html": [
       "<div>\n",
       "<style scoped>\n",
       "    .dataframe tbody tr th:only-of-type {\n",
       "        vertical-align: middle;\n",
       "    }\n",
       "\n",
       "    .dataframe tbody tr th {\n",
       "        vertical-align: top;\n",
       "    }\n",
       "\n",
       "    .dataframe thead th {\n",
       "        text-align: right;\n",
       "    }\n",
       "</style>\n",
       "<table border=\"1\" class=\"dataframe\">\n",
       "  <thead>\n",
       "    <tr style=\"text-align: right;\">\n",
       "      <th></th>\n",
       "      <th>Comercializadora</th>\n",
       "      <th>Tarifa</th>\n",
       "      <th>Precio_Potencia_P1</th>\n",
       "      <th>Precio_Potencia_P2</th>\n",
       "      <th>Precio_Potencia_P3</th>\n",
       "      <th>Precio_Potencia_P4</th>\n",
       "      <th>Precio_Potencia_P5</th>\n",
       "      <th>Precio_Potencia_P6</th>\n",
       "      <th>Precio_Energía_P1</th>\n",
       "      <th>Precio_Energía_P2</th>\n",
       "      <th>Precio_Energía_P3</th>\n",
       "      <th>Precio_Energía_P4</th>\n",
       "      <th>Precio_Energía_P5</th>\n",
       "      <th>Precio_Energía_P6</th>\n",
       "      <th>Fecha_Inicio</th>\n",
       "      <th>Fecha_Finalizacion</th>\n",
       "    </tr>\n",
       "  </thead>\n",
       "  <tbody>\n",
       "    <tr>\n",
       "      <th>29</th>\n",
       "      <td>Audax</td>\n",
       "      <td>3.1. A</td>\n",
       "      <td>0.059173</td>\n",
       "      <td>0.036491</td>\n",
       "      <td>0.008368</td>\n",
       "      <td>0.059173</td>\n",
       "      <td>0.036491</td>\n",
       "      <td>0.008368</td>\n",
       "      <td>0.07874</td>\n",
       "      <td>0.07874</td>\n",
       "      <td>0.07874</td>\n",
       "      <td>0.07874</td>\n",
       "      <td>0.07874</td>\n",
       "      <td>0.07874</td>\n",
       "      <td>2020-11-17</td>\n",
       "      <td>0</td>\n",
       "    </tr>\n",
       "  </tbody>\n",
       "</table>\n",
       "</div>"
      ],
      "text/plain": [
       "   Comercializadora  Tarifa  Precio_Potencia_P1  Precio_Potencia_P2  \\\n",
       "29            Audax  3.1. A            0.059173            0.036491   \n",
       "\n",
       "    Precio_Potencia_P3  Precio_Potencia_P4  Precio_Potencia_P5  \\\n",
       "29            0.008368            0.059173            0.036491   \n",
       "\n",
       "    Precio_Potencia_P6  Precio_Energía_P1  Precio_Energía_P2  \\\n",
       "29            0.008368            0.07874            0.07874   \n",
       "\n",
       "    Precio_Energía_P3  Precio_Energía_P4  Precio_Energía_P5  \\\n",
       "29            0.07874            0.07874            0.07874   \n",
       "\n",
       "    Precio_Energía_P6 Fecha_Inicio Fecha_Finalizacion  \n",
       "29            0.07874   2020-11-17                  0  "
      ]
     },
     "execution_count": 41,
     "metadata": {},
     "output_type": "execute_result"
    }
   ],
   "source": [
    "the_one_comercializadora = bd_precios_fijos.loc[bd_precios_fijos.index == the_one_price.index.values[0]]\n",
    "the_one_comercializadora"
   ]
  },
  {
   "cell_type": "markdown",
   "metadata": {},
   "source": [
    "## Comparativa entre Ahorro Actual y Nuevo "
   ]
  },
  {
   "cell_type": "code",
   "execution_count": 42,
   "metadata": {},
   "outputs": [
    {
     "name": "stderr",
     "output_type": "stream",
     "text": [
      "<ipython-input-35-df35fe2195ee>:19: SettingWithCopyWarning: \n",
      "A value is trying to be set on a copy of a slice from a DataFrame.\n",
      "Try using .loc[row_indexer,col_indexer] = value instead\n",
      "\n",
      "See the caveats in the documentation: https://pandas.pydata.org/pandas-docs/stable/user_guide/indexing.html#returning-a-view-versus-a-copy\n",
      "  precios_vigentes_comercializadora_df[\"precio_contador\"] = bd_cliente_estudio_de_ahorro_modelo[\"Precio_Contador\"].values[0]*365\n"
     ]
    },
    {
     "data": {
      "text/plain": [
       "2440.219182940049"
      ]
     },
     "execution_count": 42,
     "metadata": {},
     "output_type": "execute_result"
    }
   ],
   "source": [
    "ahorro =  importe_factura_año() - importe_nuevas_facturas().values[0]\n",
    "ahorro[0]"
   ]
  },
  {
   "cell_type": "code",
   "execution_count": 43,
   "metadata": {},
   "outputs": [
    {
     "data": {
      "text/plain": [
       "26.216892167827737"
      ]
     },
     "execution_count": 43,
     "metadata": {},
     "output_type": "execute_result"
    }
   ],
   "source": [
    "porcentage_de_ahorro = (ahorro/actual_coste_anual_cliente)*100\n",
    "porcentage_de_ahorro[0]"
   ]
  },
  {
   "cell_type": "code",
   "execution_count": 44,
   "metadata": {},
   "outputs": [],
   "source": [
    "### Falta Encajar el precio con el dataframe completo de la comecializadora para sacar todos sus datos. "
   ]
  },
  {
   "cell_type": "markdown",
   "metadata": {},
   "source": [
    "## Mas información para el Cliente en el PDF"
   ]
  },
  {
   "cell_type": "code",
   "execution_count": 45,
   "metadata": {},
   "outputs": [],
   "source": [
    "comercializadora_actual =  bd_cliente_estudio_de_ahorro_modelo[\"Comercializadora\"]"
   ]
  },
  {
   "cell_type": "code",
   "execution_count": 46,
   "metadata": {},
   "outputs": [],
   "source": [
    "precios_energia_actuales = bd_cliente_estudio_de_ahorro_modelo[['Precio_Energia_P1', 'Precio_Energia_P2', 'Precio_Energia_P3', 'Precio_Energia_P4', 'Precio_Energia_P5', 'Precio_Energia_P6']]"
   ]
  },
  {
   "cell_type": "code",
   "execution_count": 52,
   "metadata": {},
   "outputs": [],
   "source": [
    "precios_energia_nuevos = the_one_comercializadora[['Precio_Energía_P1','Precio_Energía_P2','Precio_Energía_P3','Precio_Energía_P4','Precio_Energía_P5', 'Precio_Energía_P6']]"
   ]
  },
  {
   "cell_type": "code",
   "execution_count": 58,
   "metadata": {},
   "outputs": [],
   "source": [
    "precios_energia_nuevos.rename(columns = {'Precio_Energía_P1':'Precio_Energia_P1'}, inplace=True)\n",
    "precios_energia_nuevos.rename(columns = {'Precio_Energía_P2':'Precio_Energia_P2'}, inplace=True)                                       \n",
    "precios_energia_nuevos.rename(columns = {'Precio_Energía_P3':'Precio_Energia_P3'}, inplace=True)\n",
    "precios_energia_nuevos.rename(columns = {'Precio_Energía_P4':'Precio_Energia_P4'}, inplace=True)\n",
    "precios_energia_nuevos.rename(columns = {'Precio_Energía_P5':'Precio_Energia_P5'}, inplace=True)\n",
    "precios_energia_nuevos.rename(columns = {'Precio_Energía_P6':'Precio_Energia_P6'}, inplace=True)\n",
    "    \n",
    "                                       \n",
    "                                       \n",
    "                                       \n",
    "                                       "
   ]
  },
  {
   "cell_type": "code",
   "execution_count": 59,
   "metadata": {},
   "outputs": [],
   "source": [
    "precios_potencia_actuales = bd_cliente_estudio_de_ahorro_modelo[['Precio_Potencia_P1', 'Precio_Potencia_P2', 'Precio_Potencia_P3', 'Precio_Potencia_P4', 'Precio_Potencia_P5', 'Precio_Potencia_P6']]"
   ]
  },
  {
   "cell_type": "markdown",
   "metadata": {},
   "source": [
    "nueva_comercializadora = \n",
    "nuevos_precios = \n",
    "ahorro_en_5_años = \n",
    "emisiones_ahorradas = "
   ]
  },
  {
   "cell_type": "markdown",
   "metadata": {},
   "source": [
    "## ¿Que información vamos a desplegar del Estudio de Ahorro?"
   ]
  },
  {
   "cell_type": "code",
   "execution_count": 48,
   "metadata": {},
   "outputs": [],
   "source": [
    "#### Barchart Ahorro"
   ]
  },
  {
   "cell_type": "code",
   "execution_count": 60,
   "metadata": {},
   "outputs": [],
   "source": [
    "frames = [precios_energia_actuales, precios_energia_nuevos]\n",
    "result = pd.concat(frames)"
   ]
  },
  {
   "cell_type": "code",
   "execution_count": 59,
   "metadata": {},
   "outputs": [],
   "source": [
    "result = precios_energia_actuales.append(precios_energia_nuevos)"
   ]
  },
  {
   "cell_type": "code",
   "execution_count": 61,
   "metadata": {},
   "outputs": [
    {
     "data": {
      "text/html": [
       "<div>\n",
       "<style scoped>\n",
       "    .dataframe tbody tr th:only-of-type {\n",
       "        vertical-align: middle;\n",
       "    }\n",
       "\n",
       "    .dataframe tbody tr th {\n",
       "        vertical-align: top;\n",
       "    }\n",
       "\n",
       "    .dataframe thead th {\n",
       "        text-align: right;\n",
       "    }\n",
       "</style>\n",
       "<table border=\"1\" class=\"dataframe\">\n",
       "  <thead>\n",
       "    <tr style=\"text-align: right;\">\n",
       "      <th></th>\n",
       "      <th>Precio_Energia_P1</th>\n",
       "      <th>Precio_Energia_P2</th>\n",
       "      <th>Precio_Energia_P3</th>\n",
       "      <th>Precio_Energia_P4</th>\n",
       "      <th>Precio_Energia_P5</th>\n",
       "      <th>Precio_Energia_P6</th>\n",
       "    </tr>\n",
       "  </thead>\n",
       "  <tbody>\n",
       "    <tr>\n",
       "      <th>0</th>\n",
       "      <td>0.121307</td>\n",
       "      <td>0.114617</td>\n",
       "      <td>0.094279</td>\n",
       "      <td>0.121307</td>\n",
       "      <td>0.114617</td>\n",
       "      <td>0.094279</td>\n",
       "    </tr>\n",
       "    <tr>\n",
       "      <th>29</th>\n",
       "      <td>0.078740</td>\n",
       "      <td>0.078740</td>\n",
       "      <td>0.078740</td>\n",
       "      <td>0.078740</td>\n",
       "      <td>0.078740</td>\n",
       "      <td>0.078740</td>\n",
       "    </tr>\n",
       "  </tbody>\n",
       "</table>\n",
       "</div>"
      ],
      "text/plain": [
       "    Precio_Energia_P1  Precio_Energia_P2  Precio_Energia_P3  \\\n",
       "0            0.121307           0.114617           0.094279   \n",
       "29           0.078740           0.078740           0.078740   \n",
       "\n",
       "    Precio_Energia_P4  Precio_Energia_P5  Precio_Energia_P6  \n",
       "0            0.121307           0.114617           0.094279  \n",
       "29           0.078740           0.078740           0.078740  "
      ]
     },
     "execution_count": 61,
     "metadata": {},
     "output_type": "execute_result"
    }
   ],
   "source": [
    "result"
   ]
  },
  {
   "cell_type": "code",
   "execution_count": 75,
   "metadata": {},
   "outputs": [
    {
     "ename": "ValueError",
     "evalue": "If using all scalar values, you must pass an index",
     "output_type": "error",
     "traceback": [
      "\u001b[0;31m---------------------------------------------------------------------------\u001b[0m",
      "\u001b[0;31mValueError\u001b[0m                                Traceback (most recent call last)",
      "\u001b[0;32m<ipython-input-75-904d3e121da2>\u001b[0m in \u001b[0;36m<module>\u001b[0;34m\u001b[0m\n\u001b[1;32m      1\u001b[0m \u001b[0;32mimport\u001b[0m \u001b[0mseaborn\u001b[0m \u001b[0;32mas\u001b[0m \u001b[0msns\u001b[0m\u001b[0;34m\u001b[0m\u001b[0;34m\u001b[0m\u001b[0m\n\u001b[0;32m----> 2\u001b[0;31m \u001b[0msns\u001b[0m\u001b[0;34m.\u001b[0m\u001b[0mhistplot\u001b[0m\u001b[0;34m(\u001b[0m\u001b[0mx\u001b[0m\u001b[0;34m=\u001b[0m\u001b[0mresult\u001b[0m\u001b[0;34m,\u001b[0m \u001b[0mbins\u001b[0m\u001b[0;34m=\u001b[0m\u001b[0;36m6\u001b[0m\u001b[0;34m,\u001b[0m \u001b[0mindex\u001b[0m \u001b[0;34m=\u001b[0m \u001b[0;32mTrue\u001b[0m\u001b[0;34m)\u001b[0m\u001b[0;34m\u001b[0m\u001b[0;34m\u001b[0m\u001b[0m\n\u001b[0m",
      "\u001b[0;32m/usr/local/lib/python3.9/site-packages/seaborn/distributions.py\u001b[0m in \u001b[0;36mhistplot\u001b[0;34m(data, x, y, hue, weights, stat, bins, binwidth, binrange, discrete, cumulative, common_bins, common_norm, multiple, element, fill, shrink, kde, kde_kws, line_kws, thresh, pthresh, pmax, cbar, cbar_ax, cbar_kws, palette, hue_order, hue_norm, color, log_scale, legend, ax, **kwargs)\u001b[0m\n\u001b[1;32m   1388\u001b[0m ):\n\u001b[1;32m   1389\u001b[0m \u001b[0;34m\u001b[0m\u001b[0m\n\u001b[0;32m-> 1390\u001b[0;31m     p = _DistributionPlotter(\n\u001b[0m\u001b[1;32m   1391\u001b[0m         \u001b[0mdata\u001b[0m\u001b[0;34m=\u001b[0m\u001b[0mdata\u001b[0m\u001b[0;34m,\u001b[0m\u001b[0;34m\u001b[0m\u001b[0;34m\u001b[0m\u001b[0m\n\u001b[1;32m   1392\u001b[0m         \u001b[0mvariables\u001b[0m\u001b[0;34m=\u001b[0m\u001b[0m_DistributionPlotter\u001b[0m\u001b[0;34m.\u001b[0m\u001b[0mget_semantics\u001b[0m\u001b[0;34m(\u001b[0m\u001b[0mlocals\u001b[0m\u001b[0;34m(\u001b[0m\u001b[0;34m)\u001b[0m\u001b[0;34m)\u001b[0m\u001b[0;34m\u001b[0m\u001b[0;34m\u001b[0m\u001b[0m\n",
      "\u001b[0;32m/usr/local/lib/python3.9/site-packages/seaborn/distributions.py\u001b[0m in \u001b[0;36m__init__\u001b[0;34m(self, data, variables)\u001b[0m\n\u001b[1;32m    106\u001b[0m     ):\n\u001b[1;32m    107\u001b[0m \u001b[0;34m\u001b[0m\u001b[0m\n\u001b[0;32m--> 108\u001b[0;31m         \u001b[0msuper\u001b[0m\u001b[0;34m(\u001b[0m\u001b[0;34m)\u001b[0m\u001b[0;34m.\u001b[0m\u001b[0m__init__\u001b[0m\u001b[0;34m(\u001b[0m\u001b[0mdata\u001b[0m\u001b[0;34m=\u001b[0m\u001b[0mdata\u001b[0m\u001b[0;34m,\u001b[0m \u001b[0mvariables\u001b[0m\u001b[0;34m=\u001b[0m\u001b[0mvariables\u001b[0m\u001b[0;34m)\u001b[0m\u001b[0;34m\u001b[0m\u001b[0;34m\u001b[0m\u001b[0m\n\u001b[0m\u001b[1;32m    109\u001b[0m \u001b[0;34m\u001b[0m\u001b[0m\n\u001b[1;32m    110\u001b[0m     \u001b[0;34m@\u001b[0m\u001b[0mproperty\u001b[0m\u001b[0;34m\u001b[0m\u001b[0;34m\u001b[0m\u001b[0m\n",
      "\u001b[0;32m/usr/local/lib/python3.9/site-packages/seaborn/_core.py\u001b[0m in \u001b[0;36m__init__\u001b[0;34m(self, data, variables)\u001b[0m\n\u001b[1;32m    602\u001b[0m     \u001b[0;32mdef\u001b[0m \u001b[0m__init__\u001b[0m\u001b[0;34m(\u001b[0m\u001b[0mself\u001b[0m\u001b[0;34m,\u001b[0m \u001b[0mdata\u001b[0m\u001b[0;34m=\u001b[0m\u001b[0;32mNone\u001b[0m\u001b[0;34m,\u001b[0m \u001b[0mvariables\u001b[0m\u001b[0;34m=\u001b[0m\u001b[0;34m{\u001b[0m\u001b[0;34m}\u001b[0m\u001b[0;34m)\u001b[0m\u001b[0;34m:\u001b[0m\u001b[0;34m\u001b[0m\u001b[0;34m\u001b[0m\u001b[0m\n\u001b[1;32m    603\u001b[0m \u001b[0;34m\u001b[0m\u001b[0m\n\u001b[0;32m--> 604\u001b[0;31m         \u001b[0mself\u001b[0m\u001b[0;34m.\u001b[0m\u001b[0massign_variables\u001b[0m\u001b[0;34m(\u001b[0m\u001b[0mdata\u001b[0m\u001b[0;34m,\u001b[0m \u001b[0mvariables\u001b[0m\u001b[0;34m)\u001b[0m\u001b[0;34m\u001b[0m\u001b[0;34m\u001b[0m\u001b[0m\n\u001b[0m\u001b[1;32m    605\u001b[0m \u001b[0;34m\u001b[0m\u001b[0m\n\u001b[1;32m    606\u001b[0m         \u001b[0;32mfor\u001b[0m \u001b[0mvar\u001b[0m\u001b[0;34m,\u001b[0m \u001b[0mcls\u001b[0m \u001b[0;32min\u001b[0m \u001b[0mself\u001b[0m\u001b[0;34m.\u001b[0m\u001b[0m_semantic_mappings\u001b[0m\u001b[0;34m.\u001b[0m\u001b[0mitems\u001b[0m\u001b[0;34m(\u001b[0m\u001b[0;34m)\u001b[0m\u001b[0;34m:\u001b[0m\u001b[0;34m\u001b[0m\u001b[0;34m\u001b[0m\u001b[0m\n",
      "\u001b[0;32m/usr/local/lib/python3.9/site-packages/seaborn/_core.py\u001b[0m in \u001b[0;36massign_variables\u001b[0;34m(self, data, variables)\u001b[0m\n\u001b[1;32m    665\u001b[0m         \u001b[0;32melse\u001b[0m\u001b[0;34m:\u001b[0m\u001b[0;34m\u001b[0m\u001b[0;34m\u001b[0m\u001b[0m\n\u001b[1;32m    666\u001b[0m             \u001b[0mself\u001b[0m\u001b[0;34m.\u001b[0m\u001b[0minput_format\u001b[0m \u001b[0;34m=\u001b[0m \u001b[0;34m\"long\"\u001b[0m\u001b[0;34m\u001b[0m\u001b[0;34m\u001b[0m\u001b[0m\n\u001b[0;32m--> 667\u001b[0;31m             plot_data, variables = self._assign_variables_longform(\n\u001b[0m\u001b[1;32m    668\u001b[0m                 \u001b[0mdata\u001b[0m\u001b[0;34m,\u001b[0m \u001b[0;34m**\u001b[0m\u001b[0mvariables\u001b[0m\u001b[0;34m,\u001b[0m\u001b[0;34m\u001b[0m\u001b[0;34m\u001b[0m\u001b[0m\n\u001b[1;32m    669\u001b[0m             )\n",
      "\u001b[0;32m/usr/local/lib/python3.9/site-packages/seaborn/_core.py\u001b[0m in \u001b[0;36m_assign_variables_longform\u001b[0;34m(self, data, **kwargs)\u001b[0m\n\u001b[1;32m    909\u001b[0m         \u001b[0;31m# Construct a tidy plot DataFrame. This will convert a number of\u001b[0m\u001b[0;34m\u001b[0m\u001b[0;34m\u001b[0m\u001b[0;34m\u001b[0m\u001b[0m\n\u001b[1;32m    910\u001b[0m         \u001b[0;31m# types automatically, aligning on index in case of pandas objects\u001b[0m\u001b[0;34m\u001b[0m\u001b[0;34m\u001b[0m\u001b[0;34m\u001b[0m\u001b[0m\n\u001b[0;32m--> 911\u001b[0;31m         \u001b[0mplot_data\u001b[0m \u001b[0;34m=\u001b[0m \u001b[0mpd\u001b[0m\u001b[0;34m.\u001b[0m\u001b[0mDataFrame\u001b[0m\u001b[0;34m(\u001b[0m\u001b[0mplot_data\u001b[0m\u001b[0;34m)\u001b[0m\u001b[0;34m\u001b[0m\u001b[0;34m\u001b[0m\u001b[0m\n\u001b[0m\u001b[1;32m    912\u001b[0m \u001b[0;34m\u001b[0m\u001b[0m\n\u001b[1;32m    913\u001b[0m         \u001b[0;31m# Reduce the variables dictionary to fields with valid data\u001b[0m\u001b[0;34m\u001b[0m\u001b[0;34m\u001b[0m\u001b[0;34m\u001b[0m\u001b[0m\n",
      "\u001b[0;32m/usr/local/lib/python3.9/site-packages/pandas/core/frame.py\u001b[0m in \u001b[0;36m__init__\u001b[0;34m(self, data, index, columns, dtype, copy)\u001b[0m\n\u001b[1;32m    466\u001b[0m \u001b[0;34m\u001b[0m\u001b[0m\n\u001b[1;32m    467\u001b[0m         \u001b[0;32melif\u001b[0m \u001b[0misinstance\u001b[0m\u001b[0;34m(\u001b[0m\u001b[0mdata\u001b[0m\u001b[0;34m,\u001b[0m \u001b[0mdict\u001b[0m\u001b[0;34m)\u001b[0m\u001b[0;34m:\u001b[0m\u001b[0;34m\u001b[0m\u001b[0;34m\u001b[0m\u001b[0m\n\u001b[0;32m--> 468\u001b[0;31m             \u001b[0mmgr\u001b[0m \u001b[0;34m=\u001b[0m \u001b[0minit_dict\u001b[0m\u001b[0;34m(\u001b[0m\u001b[0mdata\u001b[0m\u001b[0;34m,\u001b[0m \u001b[0mindex\u001b[0m\u001b[0;34m,\u001b[0m \u001b[0mcolumns\u001b[0m\u001b[0;34m,\u001b[0m \u001b[0mdtype\u001b[0m\u001b[0;34m=\u001b[0m\u001b[0mdtype\u001b[0m\u001b[0;34m)\u001b[0m\u001b[0;34m\u001b[0m\u001b[0;34m\u001b[0m\u001b[0m\n\u001b[0m\u001b[1;32m    469\u001b[0m         \u001b[0;32melif\u001b[0m \u001b[0misinstance\u001b[0m\u001b[0;34m(\u001b[0m\u001b[0mdata\u001b[0m\u001b[0;34m,\u001b[0m \u001b[0mma\u001b[0m\u001b[0;34m.\u001b[0m\u001b[0mMaskedArray\u001b[0m\u001b[0;34m)\u001b[0m\u001b[0;34m:\u001b[0m\u001b[0;34m\u001b[0m\u001b[0;34m\u001b[0m\u001b[0m\n\u001b[1;32m    470\u001b[0m             \u001b[0;32mimport\u001b[0m \u001b[0mnumpy\u001b[0m\u001b[0;34m.\u001b[0m\u001b[0mma\u001b[0m\u001b[0;34m.\u001b[0m\u001b[0mmrecords\u001b[0m \u001b[0;32mas\u001b[0m \u001b[0mmrecords\u001b[0m\u001b[0;34m\u001b[0m\u001b[0;34m\u001b[0m\u001b[0m\n",
      "\u001b[0;32m/usr/local/lib/python3.9/site-packages/pandas/core/internals/construction.py\u001b[0m in \u001b[0;36minit_dict\u001b[0;34m(data, index, columns, dtype)\u001b[0m\n\u001b[1;32m    281\u001b[0m             \u001b[0marr\u001b[0m \u001b[0;32mif\u001b[0m \u001b[0;32mnot\u001b[0m \u001b[0mis_datetime64tz_dtype\u001b[0m\u001b[0;34m(\u001b[0m\u001b[0marr\u001b[0m\u001b[0;34m)\u001b[0m \u001b[0;32melse\u001b[0m \u001b[0marr\u001b[0m\u001b[0;34m.\u001b[0m\u001b[0mcopy\u001b[0m\u001b[0;34m(\u001b[0m\u001b[0;34m)\u001b[0m \u001b[0;32mfor\u001b[0m \u001b[0marr\u001b[0m \u001b[0;32min\u001b[0m \u001b[0marrays\u001b[0m\u001b[0;34m\u001b[0m\u001b[0;34m\u001b[0m\u001b[0m\n\u001b[1;32m    282\u001b[0m         ]\n\u001b[0;32m--> 283\u001b[0;31m     \u001b[0;32mreturn\u001b[0m \u001b[0marrays_to_mgr\u001b[0m\u001b[0;34m(\u001b[0m\u001b[0marrays\u001b[0m\u001b[0;34m,\u001b[0m \u001b[0mdata_names\u001b[0m\u001b[0;34m,\u001b[0m \u001b[0mindex\u001b[0m\u001b[0;34m,\u001b[0m \u001b[0mcolumns\u001b[0m\u001b[0;34m,\u001b[0m \u001b[0mdtype\u001b[0m\u001b[0;34m=\u001b[0m\u001b[0mdtype\u001b[0m\u001b[0;34m)\u001b[0m\u001b[0;34m\u001b[0m\u001b[0;34m\u001b[0m\u001b[0m\n\u001b[0m\u001b[1;32m    284\u001b[0m \u001b[0;34m\u001b[0m\u001b[0m\n\u001b[1;32m    285\u001b[0m \u001b[0;34m\u001b[0m\u001b[0m\n",
      "\u001b[0;32m/usr/local/lib/python3.9/site-packages/pandas/core/internals/construction.py\u001b[0m in \u001b[0;36marrays_to_mgr\u001b[0;34m(arrays, arr_names, index, columns, dtype, verify_integrity)\u001b[0m\n\u001b[1;32m     76\u001b[0m         \u001b[0;31m# figure out the index, if necessary\u001b[0m\u001b[0;34m\u001b[0m\u001b[0;34m\u001b[0m\u001b[0;34m\u001b[0m\u001b[0m\n\u001b[1;32m     77\u001b[0m         \u001b[0;32mif\u001b[0m \u001b[0mindex\u001b[0m \u001b[0;32mis\u001b[0m \u001b[0;32mNone\u001b[0m\u001b[0;34m:\u001b[0m\u001b[0;34m\u001b[0m\u001b[0;34m\u001b[0m\u001b[0m\n\u001b[0;32m---> 78\u001b[0;31m             \u001b[0mindex\u001b[0m \u001b[0;34m=\u001b[0m \u001b[0mextract_index\u001b[0m\u001b[0;34m(\u001b[0m\u001b[0marrays\u001b[0m\u001b[0;34m)\u001b[0m\u001b[0;34m\u001b[0m\u001b[0;34m\u001b[0m\u001b[0m\n\u001b[0m\u001b[1;32m     79\u001b[0m         \u001b[0;32melse\u001b[0m\u001b[0;34m:\u001b[0m\u001b[0;34m\u001b[0m\u001b[0;34m\u001b[0m\u001b[0m\n\u001b[1;32m     80\u001b[0m             \u001b[0mindex\u001b[0m \u001b[0;34m=\u001b[0m \u001b[0mensure_index\u001b[0m\u001b[0;34m(\u001b[0m\u001b[0mindex\u001b[0m\u001b[0;34m)\u001b[0m\u001b[0;34m\u001b[0m\u001b[0;34m\u001b[0m\u001b[0m\n",
      "\u001b[0;32m/usr/local/lib/python3.9/site-packages/pandas/core/internals/construction.py\u001b[0m in \u001b[0;36mextract_index\u001b[0;34m(data)\u001b[0m\n\u001b[1;32m    385\u001b[0m \u001b[0;34m\u001b[0m\u001b[0m\n\u001b[1;32m    386\u001b[0m         \u001b[0;32mif\u001b[0m \u001b[0;32mnot\u001b[0m \u001b[0mindexes\u001b[0m \u001b[0;32mand\u001b[0m \u001b[0;32mnot\u001b[0m \u001b[0mraw_lengths\u001b[0m\u001b[0;34m:\u001b[0m\u001b[0;34m\u001b[0m\u001b[0;34m\u001b[0m\u001b[0m\n\u001b[0;32m--> 387\u001b[0;31m             \u001b[0;32mraise\u001b[0m \u001b[0mValueError\u001b[0m\u001b[0;34m(\u001b[0m\u001b[0;34m\"If using all scalar values, you must pass an index\"\u001b[0m\u001b[0;34m)\u001b[0m\u001b[0;34m\u001b[0m\u001b[0;34m\u001b[0m\u001b[0m\n\u001b[0m\u001b[1;32m    388\u001b[0m \u001b[0;34m\u001b[0m\u001b[0m\n\u001b[1;32m    389\u001b[0m         \u001b[0;32mif\u001b[0m \u001b[0mhave_series\u001b[0m\u001b[0;34m:\u001b[0m\u001b[0;34m\u001b[0m\u001b[0;34m\u001b[0m\u001b[0m\n",
      "\u001b[0;31mValueError\u001b[0m: If using all scalar values, you must pass an index"
     ]
    }
   ],
   "source": [
    "import seaborn as sns\n",
    "sns.histplot(x=result, bins=6)"
   ]
  },
  {
   "cell_type": "code",
   "execution_count": 72,
   "metadata": {},
   "outputs": [
    {
     "data": {
      "text/plain": [
       "array([[<AxesSubplot:title={'center':'Precio_Energia_P1'}>,\n",
       "        <AxesSubplot:title={'center':'Precio_Energia_P2'}>],\n",
       "       [<AxesSubplot:title={'center':'Precio_Energia_P3'}>,\n",
       "        <AxesSubplot:title={'center':'Precio_Energia_P4'}>],\n",
       "       [<AxesSubplot:title={'center':'Precio_Energia_P5'}>,\n",
       "        <AxesSubplot:title={'center':'Precio_Energia_P6'}>]], dtype=object)"
      ]
     },
     "execution_count": 72,
     "metadata": {},
     "output_type": "execute_result"
    },
    {
     "data": {
      "image/png": "[encoded data removed]",
      "text/plain": [
       "<Figure size 432x288 with 6 Axes>"
      ]
     },
     "metadata": {
      "needs_background": "light"
     },
     "output_type": "display_data"
    }
   ],
   "source": [
    "df = result\n",
    "df.hist(bins=6)"
   ]
  },
  {
   "cell_type": "code",
   "execution_count": 71,
   "metadata": {},
   "outputs": [
    {
     "data": {
      "text/plain": [
       "<AxesSubplot:>"
      ]
     },
     "execution_count": 71,
     "metadata": {},
     "output_type": "execute_result"
    },
    {
     "data": {
      "image/png": "[encoded data removed]",
      "text/plain": [
       "<Figure size 432x288 with 1 Axes>"
      ]
     },
     "metadata": {
      "needs_background": "light"
     },
     "output_type": "display_data"
    }
   ],
   "source": [
    "\n",
    "\n",
    "df['Precio_Energia_P1'].hist()\n",
    "df['Precio_Energia_P2'].hist()\n",
    "df['Precio_Energia_P3'].hist()\n",
    "df['Precio_Energia_P4'].hist()\n",
    "df['Precio_Energia_P5'].hist()\n",
    "df['Precio_Energia_P6'].hist()"
   ]
  },
  {
   "cell_type": "code",
   "execution_count": null,
   "metadata": {},
   "outputs": [],
   "source": []
  },
  {
   "cell_type": "code",
   "execution_count": 65,
   "metadata": {},
   "outputs": [
    {
     "ename": "NameError",
     "evalue": "name 'sns' is not defined",
     "output_type": "error",
     "traceback": [
      "\u001b[0;31m---------------------------------------------------------------------------\u001b[0m",
      "\u001b[0;31mNameError\u001b[0m                                 Traceback (most recent call last)",
      "\u001b[0;32m<ipython-input-65-2958727f083b>\u001b[0m in \u001b[0;36m<module>\u001b[0;34m\u001b[0m\n\u001b[0;32m----> 1\u001b[0;31m \u001b[0msns\u001b[0m\u001b[0;34m.\u001b[0m\u001b[0mcountplot\u001b[0m\u001b[0;34m(\u001b[0m\u001b[0mx\u001b[0m\u001b[0;34m=\u001b[0m\u001b[0mresult\u001b[0m\u001b[0;34m)\u001b[0m\u001b[0;34m\u001b[0m\u001b[0;34m\u001b[0m\u001b[0m\n\u001b[0m\u001b[1;32m      2\u001b[0m \u001b[0mplt\u001b[0m\u001b[0;34m.\u001b[0m\u001b[0mshow\u001b[0m\u001b[0;34m(\u001b[0m\u001b[0;34m)\u001b[0m\u001b[0;34m\u001b[0m\u001b[0;34m\u001b[0m\u001b[0m\n",
      "\u001b[0;31mNameError\u001b[0m: name 'sns' is not defined"
     ]
    }
   ],
   "source": [
    "sns.countplot(x=result)\n",
    "plt.show()"
   ]
  },
  {
   "cell_type": "markdown",
   "metadata": {},
   "source": [
    "#### Pie Chart del Consumo"
   ]
  },
  {
   "cell_type": "markdown",
   "metadata": {},
   "source": [
    "###### Variables"
   ]
  },
  {
   "cell_type": "code",
   "execution_count": 51,
   "metadata": {},
   "outputs": [
    {
     "data": {
      "text/plain": [
       "[4569, 15902, 10843, 5577, 4667, 12156]"
      ]
     },
     "execution_count": 51,
     "metadata": {},
     "output_type": "execute_result"
    }
   ],
   "source": [
    "lista_consumo_cliente = list(bd_consumo_energia_cliente[bd_consumo_energia_cliente.columns[-1]][0:6])\n",
    "lista_consumo_cliente"
   ]
  },
  {
   "cell_type": "code",
   "execution_count": 82,
   "metadata": {},
   "outputs": [
    {
     "data": {
      "image/png": "[encoded data removed]",
      "text/plain": [
       "<Figure size 432x288 with 1 Axes>"
      ]
     },
     "metadata": {},
     "output_type": "display_data"
    }
   ],
   "source": [
    "lista_consumo_cliente = list(bd_consumo_energia_cliente[bd_consumo_energia_cliente.columns[-1]][0:6])\n",
    "labels = ['P1: Tarde', 'P2: Mañana', 'P3: Noche']\n",
    "sizes = [lista_consumo_cliente[0]+lista_consumo_cliente[3],lista_consumo_cliente[1]+lista_consumo_cliente[4], lista_consumo_cliente[2] + lista_consumo_cliente[5] ]\n",
    "\n",
    "plt.pie(sizes, labels=labels, shadow=True, autopct='%1.1f%%')\n",
    "plt.axis('equal')\n",
    "plt.savefig('../Data/Imagenes/pie_chart_consumo_cliente.png', bbox_inches='tight')"
   ]
  },
  {
   "cell_type": "code",
   "execution_count": 67,
   "metadata": {},
   "outputs": [
    {
     "ename": "ValueError",
     "evalue": "x must have 2 or fewer dimensions",
     "output_type": "error",
     "traceback": [
      "\u001b[0;31m---------------------------------------------------------------------------\u001b[0m",
      "\u001b[0;31mValueError\u001b[0m                                Traceback (most recent call last)",
      "\u001b[0;32m<ipython-input-67-2a4c15b59378>\u001b[0m in \u001b[0;36m<module>\u001b[0;34m\u001b[0m\n\u001b[0;32m----> 1\u001b[0;31m \u001b[0mplt\u001b[0m\u001b[0;34m.\u001b[0m\u001b[0mhist\u001b[0m\u001b[0;34m(\u001b[0m\u001b[0;34m[\u001b[0m\u001b[0mprecios_energia_actuales\u001b[0m\u001b[0;34m]\u001b[0m\u001b[0;34m,\u001b[0m \u001b[0mbins\u001b[0m \u001b[0;34m=\u001b[0m \u001b[0;36m6\u001b[0m\u001b[0;34m,\u001b[0m \u001b[0malpha\u001b[0m \u001b[0;34m=\u001b[0m \u001b[0;36m0.5\u001b[0m\u001b[0;34m)\u001b[0m\u001b[0;34m\u001b[0m\u001b[0;34m\u001b[0m\u001b[0m\n\u001b[0m\u001b[1;32m      2\u001b[0m \u001b[0mplt\u001b[0m\u001b[0;34m.\u001b[0m\u001b[0mshow\u001b[0m\u001b[0;34m(\u001b[0m\u001b[0;34m)\u001b[0m\u001b[0;34m\u001b[0m\u001b[0;34m\u001b[0m\u001b[0m\n",
      "\u001b[0;32m/usr/local/lib/python3.9/site-packages/matplotlib/pyplot.py\u001b[0m in \u001b[0;36mhist\u001b[0;34m(x, bins, range, density, weights, cumulative, bottom, histtype, align, orientation, rwidth, log, color, label, stacked, data, **kwargs)\u001b[0m\n\u001b[1;32m   2683\u001b[0m         \u001b[0morientation\u001b[0m\u001b[0;34m=\u001b[0m\u001b[0;34m'vertical'\u001b[0m\u001b[0;34m,\u001b[0m \u001b[0mrwidth\u001b[0m\u001b[0;34m=\u001b[0m\u001b[0;32mNone\u001b[0m\u001b[0;34m,\u001b[0m \u001b[0mlog\u001b[0m\u001b[0;34m=\u001b[0m\u001b[0;32mFalse\u001b[0m\u001b[0;34m,\u001b[0m \u001b[0mcolor\u001b[0m\u001b[0;34m=\u001b[0m\u001b[0;32mNone\u001b[0m\u001b[0;34m,\u001b[0m\u001b[0;34m\u001b[0m\u001b[0;34m\u001b[0m\u001b[0m\n\u001b[1;32m   2684\u001b[0m         label=None, stacked=False, *, data=None, **kwargs):\n\u001b[0;32m-> 2685\u001b[0;31m     return gca().hist(\n\u001b[0m\u001b[1;32m   2686\u001b[0m         \u001b[0mx\u001b[0m\u001b[0;34m,\u001b[0m \u001b[0mbins\u001b[0m\u001b[0;34m=\u001b[0m\u001b[0mbins\u001b[0m\u001b[0;34m,\u001b[0m \u001b[0mrange\u001b[0m\u001b[0;34m=\u001b[0m\u001b[0mrange\u001b[0m\u001b[0;34m,\u001b[0m \u001b[0mdensity\u001b[0m\u001b[0;34m=\u001b[0m\u001b[0mdensity\u001b[0m\u001b[0;34m,\u001b[0m \u001b[0mweights\u001b[0m\u001b[0;34m=\u001b[0m\u001b[0mweights\u001b[0m\u001b[0;34m,\u001b[0m\u001b[0;34m\u001b[0m\u001b[0;34m\u001b[0m\u001b[0m\n\u001b[1;32m   2687\u001b[0m         \u001b[0mcumulative\u001b[0m\u001b[0;34m=\u001b[0m\u001b[0mcumulative\u001b[0m\u001b[0;34m,\u001b[0m \u001b[0mbottom\u001b[0m\u001b[0;34m=\u001b[0m\u001b[0mbottom\u001b[0m\u001b[0;34m,\u001b[0m \u001b[0mhisttype\u001b[0m\u001b[0;34m=\u001b[0m\u001b[0mhisttype\u001b[0m\u001b[0;34m,\u001b[0m\u001b[0;34m\u001b[0m\u001b[0;34m\u001b[0m\u001b[0m\n",
      "\u001b[0;32m/usr/local/lib/python3.9/site-packages/matplotlib/__init__.py\u001b[0m in \u001b[0;36minner\u001b[0;34m(ax, data, *args, **kwargs)\u001b[0m\n\u001b[1;32m   1436\u001b[0m     \u001b[0;32mdef\u001b[0m \u001b[0minner\u001b[0m\u001b[0;34m(\u001b[0m\u001b[0max\u001b[0m\u001b[0;34m,\u001b[0m \u001b[0;34m*\u001b[0m\u001b[0margs\u001b[0m\u001b[0;34m,\u001b[0m \u001b[0mdata\u001b[0m\u001b[0;34m=\u001b[0m\u001b[0;32mNone\u001b[0m\u001b[0;34m,\u001b[0m \u001b[0;34m**\u001b[0m\u001b[0mkwargs\u001b[0m\u001b[0;34m)\u001b[0m\u001b[0;34m:\u001b[0m\u001b[0;34m\u001b[0m\u001b[0;34m\u001b[0m\u001b[0m\n\u001b[1;32m   1437\u001b[0m         \u001b[0;32mif\u001b[0m \u001b[0mdata\u001b[0m \u001b[0;32mis\u001b[0m \u001b[0;32mNone\u001b[0m\u001b[0;34m:\u001b[0m\u001b[0;34m\u001b[0m\u001b[0;34m\u001b[0m\u001b[0m\n\u001b[0;32m-> 1438\u001b[0;31m             \u001b[0;32mreturn\u001b[0m \u001b[0mfunc\u001b[0m\u001b[0;34m(\u001b[0m\u001b[0max\u001b[0m\u001b[0;34m,\u001b[0m \u001b[0;34m*\u001b[0m\u001b[0mmap\u001b[0m\u001b[0;34m(\u001b[0m\u001b[0msanitize_sequence\u001b[0m\u001b[0;34m,\u001b[0m \u001b[0margs\u001b[0m\u001b[0;34m)\u001b[0m\u001b[0;34m,\u001b[0m \u001b[0;34m**\u001b[0m\u001b[0mkwargs\u001b[0m\u001b[0;34m)\u001b[0m\u001b[0;34m\u001b[0m\u001b[0;34m\u001b[0m\u001b[0m\n\u001b[0m\u001b[1;32m   1439\u001b[0m \u001b[0;34m\u001b[0m\u001b[0m\n\u001b[1;32m   1440\u001b[0m         \u001b[0mbound\u001b[0m \u001b[0;34m=\u001b[0m \u001b[0mnew_sig\u001b[0m\u001b[0;34m.\u001b[0m\u001b[0mbind\u001b[0m\u001b[0;34m(\u001b[0m\u001b[0max\u001b[0m\u001b[0;34m,\u001b[0m \u001b[0;34m*\u001b[0m\u001b[0margs\u001b[0m\u001b[0;34m,\u001b[0m \u001b[0;34m**\u001b[0m\u001b[0mkwargs\u001b[0m\u001b[0;34m)\u001b[0m\u001b[0;34m\u001b[0m\u001b[0;34m\u001b[0m\u001b[0m\n",
      "\u001b[0;32m/usr/local/lib/python3.9/site-packages/matplotlib/axes/_axes.py\u001b[0m in \u001b[0;36mhist\u001b[0;34m(self, x, bins, range, density, weights, cumulative, bottom, histtype, align, orientation, rwidth, log, color, label, stacked, **kwargs)\u001b[0m\n\u001b[1;32m   6574\u001b[0m \u001b[0;34m\u001b[0m\u001b[0m\n\u001b[1;32m   6575\u001b[0m         \u001b[0;31m# Massage 'x' for processing.\u001b[0m\u001b[0;34m\u001b[0m\u001b[0;34m\u001b[0m\u001b[0;34m\u001b[0m\u001b[0m\n\u001b[0;32m-> 6576\u001b[0;31m         \u001b[0mx\u001b[0m \u001b[0;34m=\u001b[0m \u001b[0mcbook\u001b[0m\u001b[0;34m.\u001b[0m\u001b[0m_reshape_2D\u001b[0m\u001b[0;34m(\u001b[0m\u001b[0mx\u001b[0m\u001b[0;34m,\u001b[0m \u001b[0;34m'x'\u001b[0m\u001b[0;34m)\u001b[0m\u001b[0;34m\u001b[0m\u001b[0;34m\u001b[0m\u001b[0m\n\u001b[0m\u001b[1;32m   6577\u001b[0m         \u001b[0mnx\u001b[0m \u001b[0;34m=\u001b[0m \u001b[0mlen\u001b[0m\u001b[0;34m(\u001b[0m\u001b[0mx\u001b[0m\u001b[0;34m)\u001b[0m  \u001b[0;31m# number of datasets\u001b[0m\u001b[0;34m\u001b[0m\u001b[0;34m\u001b[0m\u001b[0m\n\u001b[1;32m   6578\u001b[0m \u001b[0;34m\u001b[0m\u001b[0m\n",
      "\u001b[0;32m/usr/local/lib/python3.9/site-packages/matplotlib/cbook/__init__.py\u001b[0m in \u001b[0;36m_reshape_2D\u001b[0;34m(X, name)\u001b[0m\n\u001b[1;32m   1387\u001b[0m         \u001b[0mnd\u001b[0m \u001b[0;34m=\u001b[0m \u001b[0mnp\u001b[0m\u001b[0;34m.\u001b[0m\u001b[0mndim\u001b[0m\u001b[0;34m(\u001b[0m\u001b[0mxi\u001b[0m\u001b[0;34m)\u001b[0m\u001b[0;34m\u001b[0m\u001b[0;34m\u001b[0m\u001b[0m\n\u001b[1;32m   1388\u001b[0m         \u001b[0;32mif\u001b[0m \u001b[0mnd\u001b[0m \u001b[0;34m>\u001b[0m \u001b[0;36m1\u001b[0m\u001b[0;34m:\u001b[0m\u001b[0;34m\u001b[0m\u001b[0;34m\u001b[0m\u001b[0m\n\u001b[0;32m-> 1389\u001b[0;31m             \u001b[0;32mraise\u001b[0m \u001b[0mValueError\u001b[0m\u001b[0;34m(\u001b[0m\u001b[0;34mf'{name} must have 2 or fewer dimensions'\u001b[0m\u001b[0;34m)\u001b[0m\u001b[0;34m\u001b[0m\u001b[0;34m\u001b[0m\u001b[0m\n\u001b[0m\u001b[1;32m   1390\u001b[0m         \u001b[0mresult\u001b[0m\u001b[0;34m.\u001b[0m\u001b[0mappend\u001b[0m\u001b[0;34m(\u001b[0m\u001b[0mxi\u001b[0m\u001b[0;34m.\u001b[0m\u001b[0mreshape\u001b[0m\u001b[0;34m(\u001b[0m\u001b[0;34m-\u001b[0m\u001b[0;36m1\u001b[0m\u001b[0;34m)\u001b[0m\u001b[0;34m)\u001b[0m\u001b[0;34m\u001b[0m\u001b[0;34m\u001b[0m\u001b[0m\n\u001b[1;32m   1391\u001b[0m \u001b[0;34m\u001b[0m\u001b[0m\n",
      "\u001b[0;31mValueError\u001b[0m: x must have 2 or fewer dimensions"
     ]
    },
    {
     "data": {
      "image/png": "[encoded data removed]",
      "text/plain": [
       "<Figure size 432x288 with 1 Axes>"
      ]
     },
     "metadata": {
      "needs_background": "light"
     },
     "output_type": "display_data"
    }
   ],
   "source": [
    "\n",
    "plt.hist([precios_energia_actuales, bins = 6, alpha = 0.5)\n",
    "plt.show()"
   ]
  },
  {
   "cell_type": "code",
   "execution_count": null,
   "metadata": {},
   "outputs": [],
   "source": []
  }
 ],
 "metadata": {
  "kernelspec": {
   "display_name": "Python 3",
   "language": "python",
   "name": "python3"
  },
  "language_info": {
   "codemirror_mode": {
    "name": "ipython",
    "version": 3
   },
   "file_extension": ".py",
   "mimetype": "text/x-python",
   "name": "python",
   "nbconvert_exporter": "python",
   "pygments_lexer": "ipython3",
   "version": "3.9.0"
  }
 },
 "nbformat": 4,
 "nbformat_minor": 4
}
