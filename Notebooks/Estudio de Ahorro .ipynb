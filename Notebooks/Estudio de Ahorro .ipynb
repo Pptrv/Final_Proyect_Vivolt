{
 "cells": [
  {
   "cell_type": "code",
   "execution_count": null,
   "metadata": {},
   "outputs": [],
   "source": [
    "si seleccionan precio indexado o fijo se utiliza una de las dos tablas \n",
    "- BD_Precios_Indexados\n",
    "- BD_Precios_Fijos"
   ]
  },
  {
   "cell_type": "code",
   "execution_count": null,
   "metadata": {},
   "outputs": [],
   "source": [
    "Se hace un estudio de lo que le va a costar su energía al año con los datos que nos ha facilitado: \n",
    "    precio_año_actual = df.precio_cliente_actual_periodos * consumo__periodos del ultimo año. \n",
    "    precio_año_vivolt = df.precio_vivolt * consumo__periodos del ultimo año\n",
    "    \n",
    "El precio_vivolt debe ser el precio que corresponde al periodo contratado por el cliente. "
   ]
  },
  {
   "cell_type": "markdown",
   "metadata": {},
   "source": [
    "Descargar todas las bases de datos:\n",
    "- importar csv de consumo_cliente \n",
    "- importar csv de precios_fijos e indexados \n",
    "- importar csv de cliente_estudio_ahorro. "
   ]
  },
  {
   "cell_type": "code",
   "execution_count": null,
   "metadata": {},
   "outputs": [],
   "source": []
  }
 ],
 "metadata": {
  "kernelspec": {
   "display_name": "Python 3",
   "language": "python",
   "name": "python3"
  },
  "language_info": {
   "codemirror_mode": {
    "name": "ipython",
    "version": 3
   },
   "file_extension": ".py",
   "mimetype": "text/x-python",
   "name": "python",
   "nbconvert_exporter": "python",
   "pygments_lexer": "ipython3",
   "version": "3.9.0"
  }
 },
 "nbformat": 4,
 "nbformat_minor": 4
}
