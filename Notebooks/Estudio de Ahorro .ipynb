{
 "cells": [
  {
   "cell_type": "code",
   "execution_count": null,
   "metadata": {},
   "outputs": [],
   "source": [
    "si seleccionan precio indexado o fijo se utiliza una de las dos tablas \n",
    "- BD_Precios_Indexados\n",
    "- BD_Precios_Fijos"
   ]
  },
  {
   "cell_type": "code",
   "execution_count": null,
   "metadata": {},
   "outputs": [],
   "source": [
    "Se hace un estudio de lo que le va a costar su energía al año con los datos que nos ha facilitado: \n",
    "    precio_año_actual = df.precio_cliente_actual_periodos * consumo__periodos del ultimo año. \n",
    "    precio_año_vivolt = df.precio_vivolt * consumo__periodos del ultimo año\n",
    "    \n",
    "El precio_vivolt debe ser el precio que corresponde al periodo contratado por el cliente. "
   ]
  },
  {
   "cell_type": "markdown",
   "metadata": {},
   "source": [
    "## Librerías"
   ]
  },
  {
   "cell_type": "code",
   "execution_count": null,
   "metadata": {},
   "outputs": [],
   "source": []
  },
  {
   "cell_type": "markdown",
   "metadata": {},
   "source": [
    "### Descargar todas las bases de datos:\n",
    "\n",
    "- importar csv de consumo_cliente \n",
    "- importar csv de precios_fijos\n",
    "- importar csv de cliente_estudio_ahorro. "
   ]
  },
  {
   "cell_type": "code",
   "execution_count": null,
   "metadata": {},
   "outputs": [],
   "source": [
    "bd_consumo_cliente = pd.read_csv(\"../Data/csv/consumo_cliente.csv\")\n",
    "bd_precios_fijos = pd.read_csv(\"../Data/csv/precios_fijos.csv\")\n",
    "bd_cliente_estudio_de_ahorro_modelo = pd.read_csv(\"../Data/csv/cliente_estudio_de_ahorro_modelo.csv\")"
   ]
  },
  {
   "cell_type": "markdown",
   "metadata": {},
   "source": [
    "# Estudio Fijo"
   ]
  },
  {
   "cell_type": "markdown",
   "metadata": {},
   "source": [
    "## 1er Paso para Estudio de Ahorro - Coste total de 1 año comercializadora actual "
   ]
  },
  {
   "cell_type": "markdown",
   "metadata": {},
   "source": [
    "#### Coste de la Energía \n",
    "la columna de precio_energía de la BD_CLiente_Estudio_de_ahorro lo multiplicamos por bd_consumo_cliente el consumo anual segun periodo. "
   ]
  },
  {
   "cell_type": "code",
   "execution_count": 4,
   "metadata": {},
   "outputs": [
    {
     "ename": "NameError",
     "evalue": "name 'BD_Cliente_Estudio_de_Ahorro' is not defined",
     "output_type": "error",
     "traceback": [
      "\u001b[0;31m---------------------------------------------------------------------------\u001b[0m",
      "\u001b[0;31mNameError\u001b[0m                                 Traceback (most recent call last)",
      "\u001b[0;32m<ipython-input-4-13cb4aed1988>\u001b[0m in \u001b[0;36m<module>\u001b[0;34m\u001b[0m\n\u001b[0;32m----> 1\u001b[0;31m \u001b[0mcoste_energía_actual\u001b[0m \u001b[0;34m=\u001b[0m \u001b[0mBD_Cliente_Estudio_de_Ahorro\u001b[0m\u001b[0;34m[\u001b[0m\u001b[0;34m[\u001b[0m\u001b[0mprecio_energía_p1\u001b[0m\u001b[0;34m,\u001b[0m \u001b[0mprecio_energía_p2\u001b[0m\u001b[0;34m,\u001b[0m \u001b[0mprecio_energía_p3\u001b[0m\u001b[0;34m,\u001b[0m \u001b[0mprecio_energía_p4\u001b[0m\u001b[0;34m,\u001b[0m \u001b[0mprecio_energía_p5\u001b[0m\u001b[0;34m,\u001b[0m \u001b[0mprecio_energía_p6\u001b[0m\u001b[0;34m]\u001b[0m\u001b[0;34m]\u001b[0m \u001b[0;34m*\u001b[0m \u001b[0mBD_Consumo_Cliente\u001b[0m\u001b[0;34m[\u001b[0m\u001b[0;34m\"consumo_anual_p1,2,3,4,5,6\"\u001b[0m\u001b[0;34m]\u001b[0m\u001b[0;34m\u001b[0m\u001b[0;34m\u001b[0m\u001b[0m\n\u001b[0m\u001b[1;32m      2\u001b[0m \u001b[0;31m# cada p tiene que multiplicarse por el p que le corresponde en el otro df.\u001b[0m\u001b[0;34m\u001b[0m\u001b[0;34m\u001b[0m\u001b[0;34m\u001b[0m\u001b[0m\n",
      "\u001b[0;31mNameError\u001b[0m: name 'BD_Cliente_Estudio_de_Ahorro' is not defined"
     ]
    }
   ],
   "source": [
    "coste_energía_actual = BD_Cliente_Estiudio_de_Ahorro[[precio_energía_p1, precio_energía_p2, precio_energía_p3, precio_energía_p4, precio_energía_p5, precio_energía_p6]] * BD_Consumo_Cliente[\"consumo_anual_p1,2,3,4,5,6\"]\n",
    "# cada p tiene que multiplicarse por el p que le corresponde en el otro df. "
   ]
  },
  {
   "cell_type": "markdown",
   "metadata": {},
   "source": [
    "#### Coste de la Potencia \n",
    "(el precio_potencia de la BD_CLiente_Estudio_de_ahorro lo multiplicamos por bd_consumo_cliente la potencia segun periodo) multiplicado por 365 días. "
   ]
  },
  {
   "cell_type": "markdown",
   "metadata": {},
   "source": [
    "#### impuesto energía \n",
    "(energía + potencia) multilplicado por 5,11%\n"
   ]
  },
  {
   "cell_type": "markdown",
   "metadata": {},
   "source": [
    "#### precio contador \n",
    "bd_consumo_cliente del precio_del_contador multiplicado por 365 días. "
   ]
  },
  {
   "cell_type": "markdown",
   "metadata": {},
   "source": [
    "#### iva \n",
    "(energía + potencia + impuesto energía + precio contador) multiplicado 21%"
   ]
  },
  {
   "cell_type": "markdown",
   "metadata": {},
   "source": [
    "#### coste total de factura actual \n",
    "energía + potencia + impuesto energía + precio contador + iva"
   ]
  },
  {
   "cell_type": "markdown",
   "metadata": {},
   "source": [
    "## 2do Paso para Estudio de Ahorro - Coste total de 1 año con nueva comercializadora  "
   ]
  },
  {
   "cell_type": "markdown",
   "metadata": {},
   "source": [
    "#### coste de la energía \n",
    "la columna de precio_energía de la BD_precios_fijos con columna de fecha_finalziación a 0, lo multiplicamos por bd_consumo_cliente el consumo anual segun periodo. Que se quede el resultado más barato. "
   ]
  },
  {
   "cell_type": "markdown",
   "metadata": {},
   "source": [
    "#### coste de la potencia\n",
    "(el precio_potencia es la misma fila que el resultado de \"energía\" lo multiplicamos por bd_consumo_cliente la potencia segun periodo) multiplicado por 365 días. "
   ]
  },
  {
   "cell_type": "markdown",
   "metadata": {},
   "source": [
    "#### impuesto energía\n",
    "(energía + potencia) multilplicado por 5,11%"
   ]
  },
  {
   "cell_type": "markdown",
   "metadata": {},
   "source": [
    "#### precio contador \n",
    "bd_consumo_cliente del precio_del_contador multiplicado por 365 días. "
   ]
  },
  {
   "cell_type": "markdown",
   "metadata": {},
   "source": [
    "#### iva \n",
    "(energía + potencia + impuesto energía + precio contador) multiplicado 21%"
   ]
  },
  {
   "cell_type": "markdown",
   "metadata": {},
   "source": [
    "#### coste total de factura actual \n",
    "energía + potencia + impuesto energía + precio contador + iva"
   ]
  },
  {
   "cell_type": "code",
   "execution_count": null,
   "metadata": {},
   "outputs": [],
   "source": []
  }
 ],
 "metadata": {
  "kernelspec": {
   "display_name": "Python 3",
   "language": "python",
   "name": "python3"
  },
  "language_info": {
   "codemirror_mode": {
    "name": "ipython",
    "version": 3
   },
   "file_extension": ".py",
   "mimetype": "text/x-python",
   "name": "python",
   "nbconvert_exporter": "python",
   "pygments_lexer": "ipython3",
   "version": "3.9.0"
  }
 },
 "nbformat": 4,
 "nbformat_minor": 4
}
