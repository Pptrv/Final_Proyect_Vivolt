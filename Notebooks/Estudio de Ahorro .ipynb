{
 "cells": [
  {
   "cell_type": "code",
   "execution_count": null,
   "metadata": {},
   "outputs": [],
   "source": [
    "si seleccionan precio indexado o fijo se utiliza una de las dos tablas \n",
    "- BD_Precios_Indexados\n",
    "- BD_Precios_Fijos"
   ]
  },
  {
   "cell_type": "code",
   "execution_count": null,
   "metadata": {},
   "outputs": [],
   "source": [
    "Se hace un estudio de lo que le va a costar su energía al año con los datos que nos ha facilitado: \n",
    "    precio_año_actual = df.precio_cliente_actual_periodos * consumo__periodos del ultimo año. \n",
    "    precio_año_vivolt = df.precio_vivolt * consumo__periodos del ultimo año\n",
    "    \n",
    "El precio_vivolt debe ser el precio que corresponde al periodo contratado por el cliente. "
   ]
  },
  {
   "cell_type": "markdown",
   "metadata": {},
   "source": [
    "## Librerías"
   ]
  },
  {
   "cell_type": "code",
   "execution_count": 3,
   "metadata": {},
   "outputs": [],
   "source": [
    "import pandas as pd"
   ]
  },
  {
   "cell_type": "markdown",
   "metadata": {},
   "source": [
    "### Descargar todas las bases de datos:\n",
    "\n",
    "- importar csv de consumo_cliente \n",
    "- importar csv de precios_fijos\n",
    "- importar csv de cliente_estudio_ahorro. "
   ]
  },
  {
   "cell_type": "code",
   "execution_count": 4,
   "metadata": {},
   "outputs": [],
   "source": [
    "bd_consumo_potencia_cliente = pd.read_csv(\"../Data/csv/bd_consumo_potencia_cliente.csv\")\n",
    "bd_consumo_potencia_cliente = pd.read_csv(\"../Data/csv/bd_consumo_potencia_cliente.csv\")\n",
    "bd_precios_fijos = pd.read_csv(\"../Data/csv/precios_fijos.csv\")\n",
    "bd_cliente_estudio_de_ahorro_modelo = pd.read_csv(\"../Data/csv/cliente_estudio_de_ahorro_modelo.csv\")"
   ]
  },
  {
   "cell_type": "markdown",
   "metadata": {},
   "source": [
    "#### Visualizar DF"
   ]
  },
  {
   "cell_type": "code",
   "execution_count": 5,
   "metadata": {},
   "outputs": [
    {
     "data": {
      "text/html": [
       "<div>\n",
       "<style scoped>\n",
       "    .dataframe tbody tr th:only-of-type {\n",
       "        vertical-align: middle;\n",
       "    }\n",
       "\n",
       "    .dataframe tbody tr th {\n",
       "        vertical-align: top;\n",
       "    }\n",
       "\n",
       "    .dataframe thead th {\n",
       "        text-align: right;\n",
       "    }\n",
       "</style>\n",
       "<table border=\"1\" class=\"dataframe\">\n",
       "  <thead>\n",
       "    <tr style=\"text-align: right;\">\n",
       "      <th></th>\n",
       "      <th>Unnamed: 0</th>\n",
       "      <th>CUPS</th>\n",
       "      <th>ES0021000005204736CV</th>\n",
       "    </tr>\n",
       "  </thead>\n",
       "  <tbody>\n",
       "    <tr>\n",
       "      <th>0</th>\n",
       "      <td>0</td>\n",
       "      <td>Tarifa</td>\n",
       "      <td>3.0A</td>\n",
       "    </tr>\n",
       "    <tr>\n",
       "      <th>1</th>\n",
       "      <td>1</td>\n",
       "      <td>Potencia Contratada (kWh)</td>\n",
       "      <td>P1;15,001</td>\n",
       "    </tr>\n",
       "    <tr>\n",
       "      <th>2</th>\n",
       "      <td>2</td>\n",
       "      <td>Potencia Contratada (kWh)</td>\n",
       "      <td>P2;15,001</td>\n",
       "    </tr>\n",
       "    <tr>\n",
       "      <th>3</th>\n",
       "      <td>3</td>\n",
       "      <td>Potencia Contratada (kWh)</td>\n",
       "      <td>P3;15,001</td>\n",
       "    </tr>\n",
       "    <tr>\n",
       "      <th>4</th>\n",
       "      <td>4</td>\n",
       "      <td>Potencia Contratada (kWh)</td>\n",
       "      <td>P4;0</td>\n",
       "    </tr>\n",
       "    <tr>\n",
       "      <th>5</th>\n",
       "      <td>5</td>\n",
       "      <td>Potencia Contratada (kWh)</td>\n",
       "      <td>P5;0</td>\n",
       "    </tr>\n",
       "    <tr>\n",
       "      <th>6</th>\n",
       "      <td>6</td>\n",
       "      <td>Potencia Contratada (kWh)</td>\n",
       "      <td>P6;0</td>\n",
       "    </tr>\n",
       "  </tbody>\n",
       "</table>\n",
       "</div>"
      ],
      "text/plain": [
       "   Unnamed: 0                       CUPS ES0021000005204736CV\n",
       "0           0                     Tarifa                 3.0A\n",
       "1           1  Potencia Contratada (kWh)            P1;15,001\n",
       "2           2  Potencia Contratada (kWh)            P2;15,001\n",
       "3           3  Potencia Contratada (kWh)            P3;15,001\n",
       "4           4  Potencia Contratada (kWh)                 P4;0\n",
       "5           5  Potencia Contratada (kWh)                 P5;0\n",
       "6           6  Potencia Contratada (kWh)                 P6;0"
      ]
     },
     "execution_count": 5,
     "metadata": {},
     "output_type": "execute_result"
    }
   ],
   "source": [
    "bd_consumo_potencia_cliente"
   ]
  },
  {
   "cell_type": "code",
   "execution_count": 6,
   "metadata": {},
   "outputs": [
    {
     "data": {
      "text/html": [
       "<div>\n",
       "<style scoped>\n",
       "    .dataframe tbody tr th:only-of-type {\n",
       "        vertical-align: middle;\n",
       "    }\n",
       "\n",
       "    .dataframe tbody tr th {\n",
       "        vertical-align: top;\n",
       "    }\n",
       "\n",
       "    .dataframe thead th {\n",
       "        text-align: right;\n",
       "    }\n",
       "</style>\n",
       "<table border=\"1\" class=\"dataframe\">\n",
       "  <thead>\n",
       "    <tr style=\"text-align: right;\">\n",
       "      <th></th>\n",
       "      <th>Unnamed: 0</th>\n",
       "      <th>CUPS</th>\n",
       "      <th>ES0021000005204736CV</th>\n",
       "    </tr>\n",
       "  </thead>\n",
       "  <tbody>\n",
       "    <tr>\n",
       "      <th>0</th>\n",
       "      <td>0</td>\n",
       "      <td>Tarifa</td>\n",
       "      <td>3.0A</td>\n",
       "    </tr>\n",
       "    <tr>\n",
       "      <th>1</th>\n",
       "      <td>1</td>\n",
       "      <td>Potencia Contratada (kWh)</td>\n",
       "      <td>P1;15,001</td>\n",
       "    </tr>\n",
       "    <tr>\n",
       "      <th>2</th>\n",
       "      <td>2</td>\n",
       "      <td>Potencia Contratada (kWh)</td>\n",
       "      <td>P2;15,001</td>\n",
       "    </tr>\n",
       "    <tr>\n",
       "      <th>3</th>\n",
       "      <td>3</td>\n",
       "      <td>Potencia Contratada (kWh)</td>\n",
       "      <td>P3;15,001</td>\n",
       "    </tr>\n",
       "    <tr>\n",
       "      <th>4</th>\n",
       "      <td>4</td>\n",
       "      <td>Potencia Contratada (kWh)</td>\n",
       "      <td>P4;0</td>\n",
       "    </tr>\n",
       "    <tr>\n",
       "      <th>5</th>\n",
       "      <td>5</td>\n",
       "      <td>Potencia Contratada (kWh)</td>\n",
       "      <td>P5;0</td>\n",
       "    </tr>\n",
       "    <tr>\n",
       "      <th>6</th>\n",
       "      <td>6</td>\n",
       "      <td>Potencia Contratada (kWh)</td>\n",
       "      <td>P6;0</td>\n",
       "    </tr>\n",
       "  </tbody>\n",
       "</table>\n",
       "</div>"
      ],
      "text/plain": [
       "   Unnamed: 0                       CUPS ES0021000005204736CV\n",
       "0           0                     Tarifa                 3.0A\n",
       "1           1  Potencia Contratada (kWh)            P1;15,001\n",
       "2           2  Potencia Contratada (kWh)            P2;15,001\n",
       "3           3  Potencia Contratada (kWh)            P3;15,001\n",
       "4           4  Potencia Contratada (kWh)                 P4;0\n",
       "5           5  Potencia Contratada (kWh)                 P5;0\n",
       "6           6  Potencia Contratada (kWh)                 P6;0"
      ]
     },
     "execution_count": 6,
     "metadata": {},
     "output_type": "execute_result"
    }
   ],
   "source": [
    "bd_consumo_potencia_cliente"
   ]
  },
  {
   "cell_type": "code",
   "execution_count": 4,
   "metadata": {},
   "outputs": [
    {
     "data": {
      "text/html": [
       "<div>\n",
       "<style scoped>\n",
       "    .dataframe tbody tr th:only-of-type {\n",
       "        vertical-align: middle;\n",
       "    }\n",
       "\n",
       "    .dataframe tbody tr th {\n",
       "        vertical-align: top;\n",
       "    }\n",
       "\n",
       "    .dataframe thead th {\n",
       "        text-align: right;\n",
       "    }\n",
       "</style>\n",
       "<table border=\"1\" class=\"dataframe\">\n",
       "  <thead>\n",
       "    <tr style=\"text-align: right;\">\n",
       "      <th></th>\n",
       "      <th>Unnamed: 0</th>\n",
       "      <th>Comercializadora</th>\n",
       "      <th>Tarifa</th>\n",
       "      <th>Precio_Potencia_P1</th>\n",
       "      <th>Precio_Potencia_P2</th>\n",
       "      <th>Precio_Potencia_P3</th>\n",
       "      <th>Precio_Potencia_P4</th>\n",
       "      <th>Precio_Potencia_P5</th>\n",
       "      <th>Precio_Potencia_P6</th>\n",
       "      <th>Precio_Energía_P1</th>\n",
       "      <th>Precio_Energía_P2</th>\n",
       "      <th>Precio_Energía_P3</th>\n",
       "      <th>Precio_Energía_P4</th>\n",
       "      <th>Precio_Energía_P5</th>\n",
       "      <th>Precio_Energía_P6</th>\n",
       "      <th>Fecha_Inicio</th>\n",
       "      <th>Fecha_Finalización</th>\n",
       "    </tr>\n",
       "  </thead>\n",
       "  <tbody>\n",
       "    <tr>\n",
       "      <th>0</th>\n",
       "      <td>0</td>\n",
       "      <td>CYE</td>\n",
       "      <td>2.0. A</td>\n",
       "      <td>0.038043</td>\n",
       "      <td>0.038043</td>\n",
       "      <td>0.038043</td>\n",
       "      <td>0.038043</td>\n",
       "      <td>0.038043</td>\n",
       "      <td>0.038043</td>\n",
       "      <td>0.109125</td>\n",
       "      <td>0.109125</td>\n",
       "      <td>0.109125</td>\n",
       "      <td>0.109125</td>\n",
       "      <td>0.109125</td>\n",
       "      <td>0.109125</td>\n",
       "      <td>2020-11-16</td>\n",
       "      <td>1970-01-01</td>\n",
       "    </tr>\n",
       "    <tr>\n",
       "      <th>1</th>\n",
       "      <td>1</td>\n",
       "      <td>CYE</td>\n",
       "      <td>2.0. DHA</td>\n",
       "      <td>0.038043</td>\n",
       "      <td>0.038043</td>\n",
       "      <td>0.038043</td>\n",
       "      <td>0.038043</td>\n",
       "      <td>0.038043</td>\n",
       "      <td>0.038043</td>\n",
       "      <td>0.130285</td>\n",
       "      <td>0.130285</td>\n",
       "      <td>0.130285</td>\n",
       "      <td>0.130285</td>\n",
       "      <td>0.130285</td>\n",
       "      <td>0.130285</td>\n",
       "      <td>2020-11-16</td>\n",
       "      <td>1970-01-01</td>\n",
       "    </tr>\n",
       "    <tr>\n",
       "      <th>2</th>\n",
       "      <td>2</td>\n",
       "      <td>CYE</td>\n",
       "      <td>2.1. A</td>\n",
       "      <td>0.044445</td>\n",
       "      <td>0.044445</td>\n",
       "      <td>0.044445</td>\n",
       "      <td>0.044445</td>\n",
       "      <td>0.044445</td>\n",
       "      <td>0.044445</td>\n",
       "      <td>0.122458</td>\n",
       "      <td>0.122458</td>\n",
       "      <td>0.122458</td>\n",
       "      <td>0.122458</td>\n",
       "      <td>0.122458</td>\n",
       "      <td>0.122458</td>\n",
       "      <td>2020-11-16</td>\n",
       "      <td>1970-01-01</td>\n",
       "    </tr>\n",
       "    <tr>\n",
       "      <th>3</th>\n",
       "      <td>3</td>\n",
       "      <td>CYE</td>\n",
       "      <td>2.1. DHA</td>\n",
       "      <td>0.044445</td>\n",
       "      <td>0.044445</td>\n",
       "      <td>0.044445</td>\n",
       "      <td>0.044445</td>\n",
       "      <td>0.044445</td>\n",
       "      <td>0.044445</td>\n",
       "      <td>0.142841</td>\n",
       "      <td>0.142841</td>\n",
       "      <td>0.142841</td>\n",
       "      <td>0.142841</td>\n",
       "      <td>0.142841</td>\n",
       "      <td>0.142841</td>\n",
       "      <td>2020-11-16</td>\n",
       "      <td>1970-01-01</td>\n",
       "    </tr>\n",
       "    <tr>\n",
       "      <th>4</th>\n",
       "      <td>4</td>\n",
       "      <td>CYE</td>\n",
       "      <td>3.0. A</td>\n",
       "      <td>0.040729</td>\n",
       "      <td>0.024437</td>\n",
       "      <td>0.016292</td>\n",
       "      <td>0.040729</td>\n",
       "      <td>0.024437</td>\n",
       "      <td>0.016292</td>\n",
       "      <td>0.092978</td>\n",
       "      <td>0.092978</td>\n",
       "      <td>0.092978</td>\n",
       "      <td>0.092978</td>\n",
       "      <td>0.092978</td>\n",
       "      <td>0.092978</td>\n",
       "      <td>2020-11-16</td>\n",
       "      <td>1970-01-01</td>\n",
       "    </tr>\n",
       "    <tr>\n",
       "      <th>...</th>\n",
       "      <td>...</td>\n",
       "      <td>...</td>\n",
       "      <td>...</td>\n",
       "      <td>...</td>\n",
       "      <td>...</td>\n",
       "      <td>...</td>\n",
       "      <td>...</td>\n",
       "      <td>...</td>\n",
       "      <td>...</td>\n",
       "      <td>...</td>\n",
       "      <td>...</td>\n",
       "      <td>...</td>\n",
       "      <td>...</td>\n",
       "      <td>...</td>\n",
       "      <td>...</td>\n",
       "      <td>...</td>\n",
       "      <td>...</td>\n",
       "    </tr>\n",
       "    <tr>\n",
       "      <th>157</th>\n",
       "      <td>157</td>\n",
       "      <td>Opcion</td>\n",
       "      <td>2.0. DHA</td>\n",
       "      <td>0.038043</td>\n",
       "      <td>0.038043</td>\n",
       "      <td>0.038043</td>\n",
       "      <td>0.038043</td>\n",
       "      <td>0.038043</td>\n",
       "      <td>0.038043</td>\n",
       "      <td>0.151545</td>\n",
       "      <td>0.151545</td>\n",
       "      <td>0.151545</td>\n",
       "      <td>0.151545</td>\n",
       "      <td>0.151545</td>\n",
       "      <td>0.151545</td>\n",
       "      <td>2020-03-01</td>\n",
       "      <td>2019-01-04</td>\n",
       "    </tr>\n",
       "    <tr>\n",
       "      <th>158</th>\n",
       "      <td>158</td>\n",
       "      <td>Opcion</td>\n",
       "      <td>2.1. A</td>\n",
       "      <td>0.044445</td>\n",
       "      <td>0.044445</td>\n",
       "      <td>0.044445</td>\n",
       "      <td>0.044445</td>\n",
       "      <td>0.044445</td>\n",
       "      <td>0.044445</td>\n",
       "      <td>0.145133</td>\n",
       "      <td>0.145133</td>\n",
       "      <td>0.145133</td>\n",
       "      <td>0.145133</td>\n",
       "      <td>0.145133</td>\n",
       "      <td>0.145133</td>\n",
       "      <td>2020-03-01</td>\n",
       "      <td>2019-01-04</td>\n",
       "    </tr>\n",
       "    <tr>\n",
       "      <th>159</th>\n",
       "      <td>159</td>\n",
       "      <td>Opcion</td>\n",
       "      <td>2.1. DHA</td>\n",
       "      <td>0.044445</td>\n",
       "      <td>0.044445</td>\n",
       "      <td>0.044445</td>\n",
       "      <td>0.044445</td>\n",
       "      <td>0.044445</td>\n",
       "      <td>0.044445</td>\n",
       "      <td>0.164125</td>\n",
       "      <td>0.164125</td>\n",
       "      <td>0.164125</td>\n",
       "      <td>0.164125</td>\n",
       "      <td>0.164125</td>\n",
       "      <td>0.164125</td>\n",
       "      <td>2020-03-01</td>\n",
       "      <td>2019-01-04</td>\n",
       "    </tr>\n",
       "    <tr>\n",
       "      <th>160</th>\n",
       "      <td>160</td>\n",
       "      <td>Opcion</td>\n",
       "      <td>3.0. A</td>\n",
       "      <td>0.040729</td>\n",
       "      <td>0.024437</td>\n",
       "      <td>0.016292</td>\n",
       "      <td>0.040729</td>\n",
       "      <td>0.024437</td>\n",
       "      <td>0.016292</td>\n",
       "      <td>0.112716</td>\n",
       "      <td>0.112716</td>\n",
       "      <td>0.112716</td>\n",
       "      <td>0.112716</td>\n",
       "      <td>0.112716</td>\n",
       "      <td>0.112716</td>\n",
       "      <td>2020-03-01</td>\n",
       "      <td>2019-01-04</td>\n",
       "    </tr>\n",
       "    <tr>\n",
       "      <th>161</th>\n",
       "      <td>161</td>\n",
       "      <td>Opcion</td>\n",
       "      <td>3.1. A</td>\n",
       "      <td>0.059173</td>\n",
       "      <td>0.036491</td>\n",
       "      <td>0.008368</td>\n",
       "      <td>0.059173</td>\n",
       "      <td>0.036491</td>\n",
       "      <td>0.008368</td>\n",
       "      <td>0.098272</td>\n",
       "      <td>0.098272</td>\n",
       "      <td>0.098272</td>\n",
       "      <td>0.098272</td>\n",
       "      <td>0.098272</td>\n",
       "      <td>0.098272</td>\n",
       "      <td>2020-03-01</td>\n",
       "      <td>2019-01-04</td>\n",
       "    </tr>\n",
       "  </tbody>\n",
       "</table>\n",
       "<p>162 rows × 17 columns</p>\n",
       "</div>"
      ],
      "text/plain": [
       "     Unnamed: 0 Comercializadora    Tarifa  Precio_Potencia_P1  \\\n",
       "0             0              CYE    2.0. A            0.038043   \n",
       "1             1              CYE  2.0. DHA            0.038043   \n",
       "2             2              CYE    2.1. A            0.044445   \n",
       "3             3              CYE  2.1. DHA            0.044445   \n",
       "4             4              CYE    3.0. A            0.040729   \n",
       "..          ...              ...       ...                 ...   \n",
       "157         157           Opcion  2.0. DHA            0.038043   \n",
       "158         158           Opcion    2.1. A            0.044445   \n",
       "159         159           Opcion  2.1. DHA            0.044445   \n",
       "160         160           Opcion    3.0. A            0.040729   \n",
       "161         161           Opcion    3.1. A            0.059173   \n",
       "\n",
       "     Precio_Potencia_P2  Precio_Potencia_P3  Precio_Potencia_P4  \\\n",
       "0              0.038043            0.038043            0.038043   \n",
       "1              0.038043            0.038043            0.038043   \n",
       "2              0.044445            0.044445            0.044445   \n",
       "3              0.044445            0.044445            0.044445   \n",
       "4              0.024437            0.016292            0.040729   \n",
       "..                  ...                 ...                 ...   \n",
       "157            0.038043            0.038043            0.038043   \n",
       "158            0.044445            0.044445            0.044445   \n",
       "159            0.044445            0.044445            0.044445   \n",
       "160            0.024437            0.016292            0.040729   \n",
       "161            0.036491            0.008368            0.059173   \n",
       "\n",
       "     Precio_Potencia_P5  Precio_Potencia_P6  Precio_Energía_P1  \\\n",
       "0              0.038043            0.038043           0.109125   \n",
       "1              0.038043            0.038043           0.130285   \n",
       "2              0.044445            0.044445           0.122458   \n",
       "3              0.044445            0.044445           0.142841   \n",
       "4              0.024437            0.016292           0.092978   \n",
       "..                  ...                 ...                ...   \n",
       "157            0.038043            0.038043           0.151545   \n",
       "158            0.044445            0.044445           0.145133   \n",
       "159            0.044445            0.044445           0.164125   \n",
       "160            0.024437            0.016292           0.112716   \n",
       "161            0.036491            0.008368           0.098272   \n",
       "\n",
       "     Precio_Energía_P2  Precio_Energía_P3  Precio_Energía_P4  \\\n",
       "0             0.109125           0.109125           0.109125   \n",
       "1             0.130285           0.130285           0.130285   \n",
       "2             0.122458           0.122458           0.122458   \n",
       "3             0.142841           0.142841           0.142841   \n",
       "4             0.092978           0.092978           0.092978   \n",
       "..                 ...                ...                ...   \n",
       "157           0.151545           0.151545           0.151545   \n",
       "158           0.145133           0.145133           0.145133   \n",
       "159           0.164125           0.164125           0.164125   \n",
       "160           0.112716           0.112716           0.112716   \n",
       "161           0.098272           0.098272           0.098272   \n",
       "\n",
       "     Precio_Energía_P5  Precio_Energía_P6 Fecha_Inicio Fecha_Finalización  \n",
       "0             0.109125           0.109125   2020-11-16         1970-01-01  \n",
       "1             0.130285           0.130285   2020-11-16         1970-01-01  \n",
       "2             0.122458           0.122458   2020-11-16         1970-01-01  \n",
       "3             0.142841           0.142841   2020-11-16         1970-01-01  \n",
       "4             0.092978           0.092978   2020-11-16         1970-01-01  \n",
       "..                 ...                ...          ...                ...  \n",
       "157           0.151545           0.151545   2020-03-01         2019-01-04  \n",
       "158           0.145133           0.145133   2020-03-01         2019-01-04  \n",
       "159           0.164125           0.164125   2020-03-01         2019-01-04  \n",
       "160           0.112716           0.112716   2020-03-01         2019-01-04  \n",
       "161           0.098272           0.098272   2020-03-01         2019-01-04  \n",
       "\n",
       "[162 rows x 17 columns]"
      ]
     },
     "execution_count": 4,
     "metadata": {},
     "output_type": "execute_result"
    }
   ],
   "source": [
    "bd_precios_fijos"
   ]
  },
  {
   "cell_type": "code",
   "execution_count": 5,
   "metadata": {},
   "outputs": [
    {
     "data": {
      "text/html": [
       "<div>\n",
       "<style scoped>\n",
       "    .dataframe tbody tr th:only-of-type {\n",
       "        vertical-align: middle;\n",
       "    }\n",
       "\n",
       "    .dataframe tbody tr th {\n",
       "        vertical-align: top;\n",
       "    }\n",
       "\n",
       "    .dataframe thead th {\n",
       "        text-align: right;\n",
       "    }\n",
       "</style>\n",
       "<table border=\"1\" class=\"dataframe\">\n",
       "  <thead>\n",
       "    <tr style=\"text-align: right;\">\n",
       "      <th></th>\n",
       "      <th>Unnamed: 0</th>\n",
       "      <th>Titular_de_la_Cuenta</th>\n",
       "      <th>CIF_/_NIF</th>\n",
       "      <th>Persona_de_Contacto</th>\n",
       "      <th>Email</th>\n",
       "      <th>Telefono</th>\n",
       "      <th>Cups</th>\n",
       "      <th>Dirección_completa</th>\n",
       "      <th>Tipo_de_cliente</th>\n",
       "      <th>Subtipo_de_cliente</th>\n",
       "      <th>...</th>\n",
       "      <th>Precio_Energia_P5</th>\n",
       "      <th>Precio_Energia_P6</th>\n",
       "      <th>Precio_Potencia_P1</th>\n",
       "      <th>Precio_Potencia_P2</th>\n",
       "      <th>Precio_Potencia_P3</th>\n",
       "      <th>Precio_Potencia_P4</th>\n",
       "      <th>Precio_Potencia_P5</th>\n",
       "      <th>Precio_Potencia_P6</th>\n",
       "      <th>Precio_Contador</th>\n",
       "      <th>Precio_Otros _Servicios_€/mes</th>\n",
       "    </tr>\n",
       "  </thead>\n",
       "  <tbody>\n",
       "    <tr>\n",
       "      <th>0</th>\n",
       "      <td>0</td>\n",
       "      <td>Jose María Treviño</td>\n",
       "      <td>05324268k</td>\n",
       "      <td>Pepe Treviño</td>\n",
       "      <td>trv.pepe@gmail.com</td>\n",
       "      <td>699792928</td>\n",
       "      <td>ES0021000004008340YN</td>\n",
       "      <td>C/ AZALEA, 1-E, 2o 1, 28109, ALCOBENDAS (MADRID)</td>\n",
       "      <td>NaN</td>\n",
       "      <td>NaN</td>\n",
       "      <td>...</td>\n",
       "      <td>0.19873</td>\n",
       "      <td>0.19873</td>\n",
       "      <td>0.23897</td>\n",
       "      <td>0.23897</td>\n",
       "      <td>0.23897</td>\n",
       "      <td>0.23897</td>\n",
       "      <td>0.23897</td>\n",
       "      <td>0.23897</td>\n",
       "      <td>0.04563</td>\n",
       "      <td>0</td>\n",
       "    </tr>\n",
       "  </tbody>\n",
       "</table>\n",
       "<p>1 rows × 34 columns</p>\n",
       "</div>"
      ],
      "text/plain": [
       "   Unnamed: 0 Titular_de_la_Cuenta  CIF_/_NIF Persona_de_Contacto  \\\n",
       "0           0   Jose María Treviño  05324268k        Pepe Treviño   \n",
       "\n",
       "                Email   Telefono                  Cups  \\\n",
       "0  trv.pepe@gmail.com  699792928  ES0021000004008340YN   \n",
       "\n",
       "                                 Dirección_completa  Tipo_de_cliente  \\\n",
       "0  C/ AZALEA, 1-E, 2o 1, 28109, ALCOBENDAS (MADRID)              NaN   \n",
       "\n",
       "   Subtipo_de_cliente  ... Precio_Energia_P5 Precio_Energia_P6  \\\n",
       "0                 NaN  ...           0.19873           0.19873   \n",
       "\n",
       "  Precio_Potencia_P1 Precio_Potencia_P2 Precio_Potencia_P3 Precio_Potencia_P4  \\\n",
       "0            0.23897            0.23897            0.23897            0.23897   \n",
       "\n",
       "   Precio_Potencia_P5 Precio_Potencia_P6 Precio_Contador  \\\n",
       "0             0.23897            0.23897         0.04563   \n",
       "\n",
       "  Precio_Otros _Servicios_€/mes  \n",
       "0                             0  \n",
       "\n",
       "[1 rows x 34 columns]"
      ]
     },
     "execution_count": 5,
     "metadata": {},
     "output_type": "execute_result"
    }
   ],
   "source": [
    "bd_cliente_estudio_de_ahorro_modelo"
   ]
  },
  {
   "cell_type": "markdown",
   "metadata": {},
   "source": [
    "# Estudio Fijo"
   ]
  },
  {
   "cell_type": "markdown",
   "metadata": {},
   "source": [
    "## 1er Paso para Estudio de Ahorro - Coste total de 1 año comercializadora actual "
   ]
  },
  {
   "cell_type": "markdown",
   "metadata": {},
   "source": [
    "#### Coste de la Energía \n",
    "la columna de precio_energía de la BD_CLiente_Estudio_de_ahorro lo multiplicamos por bd_consumo_cliente el consumo anual segun periodo. "
   ]
  },
  {
   "cell_type": "code",
   "execution_count": 4,
   "metadata": {},
   "outputs": [
    {
     "ename": "NameError",
     "evalue": "name 'BD_Cliente_Estudio_de_Ahorro' is not defined",
     "output_type": "error",
     "traceback": [
      "\u001b[0;31m---------------------------------------------------------------------------\u001b[0m",
      "\u001b[0;31mNameError\u001b[0m                                 Traceback (most recent call last)",
      "\u001b[0;32m<ipython-input-4-13cb4aed1988>\u001b[0m in \u001b[0;36m<module>\u001b[0;34m\u001b[0m\n\u001b[0;32m----> 1\u001b[0;31m \u001b[0mcoste_energía_actual\u001b[0m \u001b[0;34m=\u001b[0m \u001b[0mBD_Cliente_Estudio_de_Ahorro\u001b[0m\u001b[0;34m[\u001b[0m\u001b[0;34m[\u001b[0m\u001b[0mprecio_energía_p1\u001b[0m\u001b[0;34m,\u001b[0m \u001b[0mprecio_energía_p2\u001b[0m\u001b[0;34m,\u001b[0m \u001b[0mprecio_energía_p3\u001b[0m\u001b[0;34m,\u001b[0m \u001b[0mprecio_energía_p4\u001b[0m\u001b[0;34m,\u001b[0m \u001b[0mprecio_energía_p5\u001b[0m\u001b[0;34m,\u001b[0m \u001b[0mprecio_energía_p6\u001b[0m\u001b[0;34m]\u001b[0m\u001b[0;34m]\u001b[0m \u001b[0;34m*\u001b[0m \u001b[0mBD_Consumo_Cliente\u001b[0m\u001b[0;34m[\u001b[0m\u001b[0;34m\"consumo_anual_p1,2,3,4,5,6\"\u001b[0m\u001b[0;34m]\u001b[0m\u001b[0;34m\u001b[0m\u001b[0;34m\u001b[0m\u001b[0m\n\u001b[0m\u001b[1;32m      2\u001b[0m \u001b[0;31m# cada p tiene que multiplicarse por el p que le corresponde en el otro df.\u001b[0m\u001b[0;34m\u001b[0m\u001b[0;34m\u001b[0m\u001b[0;34m\u001b[0m\u001b[0m\n",
      "\u001b[0;31mNameError\u001b[0m: name 'BD_Cliente_Estudio_de_Ahorro' is not defined"
     ]
    }
   ],
   "source": [
    "coste_energía_actual = ((bd_cliente_estudio_de_ahorro_modelo[\"precio_energía_p1\"] * bd_consumo_cliente[\"p1\"]) +\n",
    "                        (bd_cliente_estudio_de_ahorro_modelo[\"precio_energía_p2\"] * bd_consumo_cliente[\"p2\"]) +\n",
    "                        (bd_cliente_estudio_de_ahorro_modelo[\"precio_energía_p3\"] * bd_consumo_cliente[\"p3\"]) +\n",
    "                        (bd_cliente_estudio_de_ahorro_modelo[\"precio_energía_p4\"] * bd_consumo_cliente[\"p4\"]) +\n",
    "                        (bd_cliente_estudio_de_ahorro_modelo[\"precio_energía_p5\"] * bd_consumo_cliente[\"p5\"]) +\n",
    "                        (bd_cliente_estudio_de_ahorro_modelo[\"precio_energía_p6\"] * bd_consumo_cliente[\"p6\"])\n",
    "                       )   \n",
    "# cada p tiene que multiplicarse por el p que le corresponde en el otro df. "
   ]
  },
  {
   "cell_type": "markdown",
   "metadata": {},
   "source": [
    "#### Coste de la Potencia \n",
    "(el precio_potencia de la BD_CLiente_Estudio_de_ahorro lo multiplicamos por bd_consumo_cliente la potencia segun periodo) multiplicado por 365 días. "
   ]
  },
  {
   "cell_type": "code",
   "execution_count": null,
   "metadata": {},
   "outputs": [],
   "source": [
    "coste_potencia_actual =((bd_cliente_estudio_de_ahorro_modelo[\"precio_potencia_p1\"] * bd_consumo_cliente[\"p1\"]) +\n",
    "                        (bd_cliente_estudio_de_ahorro_modelo[\"precio_potencia_p2\"] * bd_consumo_cliente[\"p2\"]) +\n",
    "                        (bd_cliente_estudio_de_ahorro_modelo[\"precio_potencia_p3\"] * bd_consumo_cliente[\"p3\"]) +\n",
    "                        (bd_cliente_estudio_de_ahorro_modelo[\"precio_potencia_p4\"] * bd_consumo_cliente[\"p4\"]) +\n",
    "                        (bd_cliente_estudio_de_ahorro_modelo[\"precio_potencia_p5\"] * bd_consumo_cliente[\"p5\"]) +\n",
    "                        (bd_cliente_estudio_de_ahorro_modelo[\"precio_potencia_p6\"] * bd_consumo_cliente[\"p6\"])\n",
    "                       ) * 365  "
   ]
  },
  {
   "cell_type": "markdown",
   "metadata": {},
   "source": [
    "#### impuesto energía \n",
    "(energía + potencia) multilplicado por 5,11%\n"
   ]
  },
  {
   "cell_type": "code",
   "execution_count": null,
   "metadata": {},
   "outputs": [],
   "source": [
    "coste_impuesto_energia = (coste_potencia_actual + coste_energía_actual)* 0.0511"
   ]
  },
  {
   "cell_type": "markdown",
   "metadata": {},
   "source": [
    "#### precio contador \n",
    "bd_consumo_cliente del precio_del_contador multiplicado por 365 días. "
   ]
  },
  {
   "cell_type": "code",
   "execution_count": null,
   "metadata": {},
   "outputs": [],
   "source": [
    "coste_contador = bd_cliente_estudio_de_ahorro_modelo[\"precio_contador\"]*365"
   ]
  },
  {
   "cell_type": "markdown",
   "metadata": {},
   "source": [
    "#### iva \n",
    "(energía + potencia + impuesto energía + precio contador) multiplicado 21%"
   ]
  },
  {
   "cell_type": "code",
   "execution_count": null,
   "metadata": {},
   "outputs": [],
   "source": [
    "coste_iva = (coste_energía_actual + coste_potencia_actual + coste_impuesto_energia + coste_contador) * 0.21"
   ]
  },
  {
   "cell_type": "markdown",
   "metadata": {},
   "source": [
    "#### coste total de factura actual \n",
    "energía + potencia + impuesto energía + precio contador + iva"
   ]
  },
  {
   "cell_type": "code",
   "execution_count": null,
   "metadata": {},
   "outputs": [],
   "source": [
    "actual_coste_anual_cliente = (coste_energía_actual + coste_potencia_actual + coste_impuesto_energia + coste_contador + coste_iva)"
   ]
  },
  {
   "cell_type": "markdown",
   "metadata": {},
   "source": [
    "## 2do Paso para Estudio de Ahorro - Coste total de 1 año con nueva comercializadora  "
   ]
  },
  {
   "cell_type": "markdown",
   "metadata": {},
   "source": [
    "#### coste de la energía \n",
    "la columna de precio_energía de la BD_precios_fijos con columna de fecha_finalziación a 0, lo multiplicamos por bd_consumo_cliente el consumo anual segun periodo. Que se quede el resultado más barato. "
   ]
  },
  {
   "cell_type": "code",
   "execution_count": null,
   "metadata": {},
   "outputs": [],
   "source": [
    "coste_energía_nuevo = "
   ]
  },
  {
   "cell_type": "markdown",
   "metadata": {},
   "source": [
    "#### coste de la potencia\n",
    "(el precio_potencia es la misma fila que el resultado de \"energía\" lo multiplicamos por bd_consumo_cliente la potencia segun periodo) multiplicado por 365 días. "
   ]
  },
  {
   "cell_type": "code",
   "execution_count": null,
   "metadata": {},
   "outputs": [],
   "source": [
    "coste_potencia_nuevo = "
   ]
  },
  {
   "cell_type": "markdown",
   "metadata": {},
   "source": [
    "#### impuesto energía\n",
    "(energía + potencia) multilplicado por 5,11%"
   ]
  },
  {
   "cell_type": "code",
   "execution_count": null,
   "metadata": {},
   "outputs": [],
   "source": [
    "coste_impuesto_energia_nuevo = (coste_potencia_nuevo + coste_energía_nuevo)* 0.0511"
   ]
  },
  {
   "cell_type": "markdown",
   "metadata": {},
   "source": [
    "#### precio contador \n",
    "bd_consumo_cliente del precio_del_contador multiplicado por 365 días. "
   ]
  },
  {
   "cell_type": "code",
   "execution_count": null,
   "metadata": {},
   "outputs": [],
   "source": [
    "coste_contador_nuevo = bd_cliente_estudio_de_ahorro_modelo[\"precio_contador\"]*365"
   ]
  },
  {
   "cell_type": "markdown",
   "metadata": {},
   "source": [
    "#### iva \n",
    "(energía + potencia + impuesto energía + precio contador) multiplicado 21%"
   ]
  },
  {
   "cell_type": "code",
   "execution_count": null,
   "metadata": {},
   "outputs": [],
   "source": [
    "coste_iva_nuevo = (coste_energía_nuevo + coste_potencia_nuevo + coste_impuesto_energia_nuevo + coste_contador_nuevo) * 0.21"
   ]
  },
  {
   "cell_type": "markdown",
   "metadata": {},
   "source": [
    "#### coste total de factura actual \n",
    "energía + potencia + impuesto energía + precio contador + iva"
   ]
  },
  {
   "cell_type": "code",
   "execution_count": null,
   "metadata": {},
   "outputs": [],
   "source": [
    "nuevo_coste_anual_cliente = (coste_energía_nuevo + coste_potencia_nuevo + coste_impuesto_energia_nuevo + coste_contador_nuevo + coste_iva_nuevo)"
   ]
  },
  {
   "cell_type": "markdown",
   "metadata": {},
   "source": [
    "## Comparativa entre de Ahorro entre Actual y Nuevo "
   ]
  },
  {
   "cell_type": "code",
   "execution_count": null,
   "metadata": {},
   "outputs": [],
   "source": [
    "ahorro =  actual_coste_anual_cliente - nuevo_coste_anual_cliente"
   ]
  },
  {
   "cell_type": "code",
   "execution_count": null,
   "metadata": {},
   "outputs": [],
   "source": [
    "porcentage_de_ahorro = (ahorro/actual_coste_anual_cliente)*100"
   ]
  },
  {
   "cell_type": "markdown",
   "metadata": {},
   "source": [
    "## Mas información para el Cliente en el PDF"
   ]
  },
  {
   "cell_type": "markdown",
   "metadata": {},
   "source": [
    "- Comercializadora Actual y Nueva Comercializadora\n",
    "- precios actuales y nuevos precios\n",
    "- Si te cambias hoy, en 5 años habrás ahorrado: x\n",
    "- además, toda nuestra energía es 100% renovable, por lo que habras ahorrado x emisiones de C02. Calcular el consumo anual. "
   ]
  },
  {
   "cell_type": "code",
   "execution_count": null,
   "metadata": {},
   "outputs": [],
   "source": []
  }
 ],
 "metadata": {
  "kernelspec": {
   "display_name": "Python 3",
   "language": "python",
   "name": "python3"
  },
  "language_info": {
   "codemirror_mode": {
    "name": "ipython",
    "version": 3
   },
   "file_extension": ".py",
   "mimetype": "text/x-python",
   "name": "python",
   "nbconvert_exporter": "python",
   "pygments_lexer": "ipython3",
   "version": "3.9.0"
  }
 },
 "nbformat": 4,
 "nbformat_minor": 4
}
