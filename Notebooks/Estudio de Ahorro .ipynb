{
 "cells": [
  {
   "cell_type": "markdown",
   "metadata": {},
   "source": [
    "## Librerías"
   ]
  },
  {
   "cell_type": "code",
   "execution_count": 158,
   "metadata": {},
   "outputs": [],
   "source": [
    "import pandas as pd\n",
    "import numpy as np\n",
    "from gapminder import gapminder"
   ]
  },
  {
   "cell_type": "markdown",
   "metadata": {},
   "source": [
    "### Descargar todas las bases de datos:\n",
    "\n",
    "- importar csv de consumo_cliente potencia\n",
    "- importar csv de consumo_cliente energia\n",
    "- importar csv de precios_fijos\n",
    "- importar csv de cliente_estudio_ahorro. "
   ]
  },
  {
   "cell_type": "code",
   "execution_count": 159,
   "metadata": {},
   "outputs": [],
   "source": [
    "bd_consumo_energia_cliente = pd.read_csv(\"../Data/csv/bd_consumo_energia_cliente.csv\")\n",
    "bd_consumo_potencia_cliente = pd.read_csv(\"../Data/csv/bd_consumo_potencia_cliente.csv\")\n",
    "bd_precios_fijos = pd.read_csv(\"../Data/csv/precios_fijos.csv\")\n",
    "bd_cliente_estudio_de_ahorro_modelo = pd.read_csv(\"../Data/csv/cliente_estudio_de_ahorro_modelo.csv\")"
   ]
  },
  {
   "cell_type": "markdown",
   "metadata": {},
   "source": [
    "#### Visualizar DF"
   ]
  },
  {
   "cell_type": "code",
   "execution_count": 160,
   "metadata": {},
   "outputs": [
    {
     "data": {
      "text/html": [
       "<div>\n",
       "<style scoped>\n",
       "    .dataframe tbody tr th:only-of-type {\n",
       "        vertical-align: middle;\n",
       "    }\n",
       "\n",
       "    .dataframe tbody tr th {\n",
       "        vertical-align: top;\n",
       "    }\n",
       "\n",
       "    .dataframe thead th {\n",
       "        text-align: right;\n",
       "    }\n",
       "</style>\n",
       "<table border=\"1\" class=\"dataframe\">\n",
       "  <thead>\n",
       "    <tr style=\"text-align: right;\">\n",
       "      <th></th>\n",
       "      <th>Titular_de_la_Cuenta</th>\n",
       "      <th>CIF_/_NIF</th>\n",
       "      <th>Persona_de_Contacto</th>\n",
       "      <th>Email</th>\n",
       "      <th>Telefono</th>\n",
       "      <th>Cups</th>\n",
       "      <th>Dirección_completa</th>\n",
       "      <th>Tipo_de_cliente</th>\n",
       "      <th>Subtipo_de_cliente</th>\n",
       "      <th>Mercado_regulado</th>\n",
       "      <th>...</th>\n",
       "      <th>Precio_Energia_P5</th>\n",
       "      <th>Precio_Energia_P6</th>\n",
       "      <th>Precio_Potencia_P1</th>\n",
       "      <th>Precio_Potencia_P2</th>\n",
       "      <th>Precio_Potencia_P3</th>\n",
       "      <th>Precio_Potencia_P4</th>\n",
       "      <th>Precio_Potencia_P5</th>\n",
       "      <th>Precio_Potencia_P6</th>\n",
       "      <th>Precio_Contador</th>\n",
       "      <th>Precio_Otros _Servicios_€/mes</th>\n",
       "    </tr>\n",
       "  </thead>\n",
       "  <tbody>\n",
       "    <tr>\n",
       "      <th>0</th>\n",
       "      <td>Azaya, S.L.</td>\n",
       "      <td>B56445566</td>\n",
       "      <td>Amalia Zunzunegui</td>\n",
       "      <td>trv.pepe@gmail.com</td>\n",
       "      <td>699792928</td>\n",
       "      <td>ES0021000007463134RE</td>\n",
       "      <td>Cmno Estrella Torre Tolanca, Km 7,5, 45100 Son...</td>\n",
       "      <td>Empresa</td>\n",
       "      <td>Finca Rustica</td>\n",
       "      <td>no</td>\n",
       "      <td>...</td>\n",
       "      <td>0.114617</td>\n",
       "      <td>0.094279</td>\n",
       "      <td>0.162119</td>\n",
       "      <td>0.099974</td>\n",
       "      <td>0.022925</td>\n",
       "      <td>0.162119</td>\n",
       "      <td>0.099974</td>\n",
       "      <td>0.022925</td>\n",
       "      <td>0.394474</td>\n",
       "      <td>0</td>\n",
       "    </tr>\n",
       "  </tbody>\n",
       "</table>\n",
       "<p>1 rows × 33 columns</p>\n",
       "</div>"
      ],
      "text/plain": [
       "  Titular_de_la_Cuenta  CIF_/_NIF Persona_de_Contacto               Email  \\\n",
       "0          Azaya, S.L.  B56445566   Amalia Zunzunegui  trv.pepe@gmail.com   \n",
       "\n",
       "    Telefono                  Cups  \\\n",
       "0  699792928  ES0021000007463134RE   \n",
       "\n",
       "                                  Dirección_completa Tipo_de_cliente  \\\n",
       "0  Cmno Estrella Torre Tolanca, Km 7,5, 45100 Son...         Empresa   \n",
       "\n",
       "  Subtipo_de_cliente Mercado_regulado  ... Precio_Energia_P5  \\\n",
       "0      Finca Rustica               no  ...          0.114617   \n",
       "\n",
       "  Precio_Energia_P6 Precio_Potencia_P1  Precio_Potencia_P2 Precio_Potencia_P3  \\\n",
       "0          0.094279           0.162119            0.099974           0.022925   \n",
       "\n",
       "   Precio_Potencia_P4 Precio_Potencia_P5 Precio_Potencia_P6 Precio_Contador  \\\n",
       "0            0.162119           0.099974           0.022925        0.394474   \n",
       "\n",
       "   Precio_Otros _Servicios_€/mes  \n",
       "0                              0  \n",
       "\n",
       "[1 rows x 33 columns]"
      ]
     },
     "execution_count": 160,
     "metadata": {},
     "output_type": "execute_result"
    }
   ],
   "source": [
    "bd_cliente_estudio_de_ahorro_modelo"
   ]
  },
  {
   "cell_type": "code",
   "execution_count": 161,
   "metadata": {},
   "outputs": [
    {
     "data": {
      "text/html": [
       "<div>\n",
       "<style scoped>\n",
       "    .dataframe tbody tr th:only-of-type {\n",
       "        vertical-align: middle;\n",
       "    }\n",
       "\n",
       "    .dataframe tbody tr th {\n",
       "        vertical-align: top;\n",
       "    }\n",
       "\n",
       "    .dataframe thead th {\n",
       "        text-align: right;\n",
       "    }\n",
       "</style>\n",
       "<table border=\"1\" class=\"dataframe\">\n",
       "  <thead>\n",
       "    <tr style=\"text-align: right;\">\n",
       "      <th></th>\n",
       "      <th>CUPS</th>\n",
       "      <th>ES0021000007463134RE</th>\n",
       "    </tr>\n",
       "  </thead>\n",
       "  <tbody>\n",
       "    <tr>\n",
       "      <th>0</th>\n",
       "      <td>P1</td>\n",
       "      <td>4569</td>\n",
       "    </tr>\n",
       "    <tr>\n",
       "      <th>1</th>\n",
       "      <td>P2</td>\n",
       "      <td>15902</td>\n",
       "    </tr>\n",
       "    <tr>\n",
       "      <th>2</th>\n",
       "      <td>P3</td>\n",
       "      <td>10843</td>\n",
       "    </tr>\n",
       "    <tr>\n",
       "      <th>3</th>\n",
       "      <td>P4</td>\n",
       "      <td>5577</td>\n",
       "    </tr>\n",
       "    <tr>\n",
       "      <th>4</th>\n",
       "      <td>P5</td>\n",
       "      <td>4667</td>\n",
       "    </tr>\n",
       "    <tr>\n",
       "      <th>5</th>\n",
       "      <td>P6</td>\n",
       "      <td>12156</td>\n",
       "    </tr>\n",
       "  </tbody>\n",
       "</table>\n",
       "</div>"
      ],
      "text/plain": [
       "  CUPS  ES0021000007463134RE\n",
       "0   P1                  4569\n",
       "1   P2                 15902\n",
       "2   P3                 10843\n",
       "3   P4                  5577\n",
       "4   P5                  4667\n",
       "5   P6                 12156"
      ]
     },
     "execution_count": 161,
     "metadata": {},
     "output_type": "execute_result"
    }
   ],
   "source": [
    "bd_consumo_energia_cliente"
   ]
  },
  {
   "cell_type": "code",
   "execution_count": 162,
   "metadata": {},
   "outputs": [
    {
     "data": {
      "text/html": [
       "<div>\n",
       "<style scoped>\n",
       "    .dataframe tbody tr th:only-of-type {\n",
       "        vertical-align: middle;\n",
       "    }\n",
       "\n",
       "    .dataframe tbody tr th {\n",
       "        vertical-align: top;\n",
       "    }\n",
       "\n",
       "    .dataframe thead th {\n",
       "        text-align: right;\n",
       "    }\n",
       "</style>\n",
       "<table border=\"1\" class=\"dataframe\">\n",
       "  <thead>\n",
       "    <tr style=\"text-align: right;\">\n",
       "      <th></th>\n",
       "      <th>a</th>\n",
       "      <th>b</th>\n",
       "      <th>Potencia</th>\n",
       "      <th>kWp</th>\n",
       "    </tr>\n",
       "  </thead>\n",
       "  <tbody>\n",
       "    <tr>\n",
       "      <th>0</th>\n",
       "      <td>Potencia Contratada (kWh)</td>\n",
       "      <td>P1;12</td>\n",
       "      <td>P1</td>\n",
       "      <td>12</td>\n",
       "    </tr>\n",
       "    <tr>\n",
       "      <th>1</th>\n",
       "      <td>Potencia Contratada (kWh)</td>\n",
       "      <td>P2;15</td>\n",
       "      <td>P2</td>\n",
       "      <td>15</td>\n",
       "    </tr>\n",
       "    <tr>\n",
       "      <th>2</th>\n",
       "      <td>Potencia Contratada (kWh)</td>\n",
       "      <td>P3;20</td>\n",
       "      <td>P3</td>\n",
       "      <td>20</td>\n",
       "    </tr>\n",
       "    <tr>\n",
       "      <th>3</th>\n",
       "      <td>Potencia Contratada (kWh)</td>\n",
       "      <td>P4;0</td>\n",
       "      <td>P4</td>\n",
       "      <td>0</td>\n",
       "    </tr>\n",
       "    <tr>\n",
       "      <th>4</th>\n",
       "      <td>Potencia Contratada (kWh)</td>\n",
       "      <td>P5;0</td>\n",
       "      <td>P5</td>\n",
       "      <td>0</td>\n",
       "    </tr>\n",
       "    <tr>\n",
       "      <th>5</th>\n",
       "      <td>Potencia Contratada (kWh)</td>\n",
       "      <td>P6;0</td>\n",
       "      <td>P6</td>\n",
       "      <td>0</td>\n",
       "    </tr>\n",
       "  </tbody>\n",
       "</table>\n",
       "</div>"
      ],
      "text/plain": [
       "                           a      b Potencia  kWp\n",
       "0  Potencia Contratada (kWh)  P1;12       P1   12\n",
       "1  Potencia Contratada (kWh)  P2;15       P2   15\n",
       "2  Potencia Contratada (kWh)  P3;20       P3   20\n",
       "3  Potencia Contratada (kWh)   P4;0       P4    0\n",
       "4  Potencia Contratada (kWh)   P5;0       P5    0\n",
       "5  Potencia Contratada (kWh)   P6;0       P6    0"
      ]
     },
     "execution_count": 162,
     "metadata": {},
     "output_type": "execute_result"
    }
   ],
   "source": [
    "bd_consumo_potencia_cliente"
   ]
  },
  {
   "cell_type": "code",
   "execution_count": 163,
   "metadata": {},
   "outputs": [
    {
     "data": {
      "text/html": [
       "<div>\n",
       "<style scoped>\n",
       "    .dataframe tbody tr th:only-of-type {\n",
       "        vertical-align: middle;\n",
       "    }\n",
       "\n",
       "    .dataframe tbody tr th {\n",
       "        vertical-align: top;\n",
       "    }\n",
       "\n",
       "    .dataframe thead th {\n",
       "        text-align: right;\n",
       "    }\n",
       "</style>\n",
       "<table border=\"1\" class=\"dataframe\">\n",
       "  <thead>\n",
       "    <tr style=\"text-align: right;\">\n",
       "      <th></th>\n",
       "      <th>Comercializadora</th>\n",
       "      <th>Tarifa</th>\n",
       "      <th>Precio_Potencia_P1</th>\n",
       "      <th>Precio_Potencia_P2</th>\n",
       "      <th>Precio_Potencia_P3</th>\n",
       "      <th>Precio_Potencia_P4</th>\n",
       "      <th>Precio_Potencia_P5</th>\n",
       "      <th>Precio_Potencia_P6</th>\n",
       "      <th>Precio_Energía_P1</th>\n",
       "      <th>Precio_Energía_P2</th>\n",
       "      <th>Precio_Energía_P3</th>\n",
       "      <th>Precio_Energía_P4</th>\n",
       "      <th>Precio_Energía_P5</th>\n",
       "      <th>Precio_Energía_P6</th>\n",
       "      <th>Fecha_Inicio</th>\n",
       "      <th>Fecha_Finalizacion</th>\n",
       "    </tr>\n",
       "  </thead>\n",
       "  <tbody>\n",
       "    <tr>\n",
       "      <th>0</th>\n",
       "      <td>CYE</td>\n",
       "      <td>2.0. A</td>\n",
       "      <td>0.038043</td>\n",
       "      <td>0.038043</td>\n",
       "      <td>0.038043</td>\n",
       "      <td>0.038043</td>\n",
       "      <td>0.038043</td>\n",
       "      <td>0.038043</td>\n",
       "      <td>0.109125</td>\n",
       "      <td>0.109125</td>\n",
       "      <td>0.109125</td>\n",
       "      <td>0.109125</td>\n",
       "      <td>0.109125</td>\n",
       "      <td>0.109125</td>\n",
       "      <td>2020-11-16</td>\n",
       "      <td>0</td>\n",
       "    </tr>\n",
       "    <tr>\n",
       "      <th>1</th>\n",
       "      <td>CYE</td>\n",
       "      <td>2.0. DHA</td>\n",
       "      <td>0.038043</td>\n",
       "      <td>0.038043</td>\n",
       "      <td>0.038043</td>\n",
       "      <td>0.038043</td>\n",
       "      <td>0.038043</td>\n",
       "      <td>0.038043</td>\n",
       "      <td>0.130285</td>\n",
       "      <td>0.130285</td>\n",
       "      <td>0.130285</td>\n",
       "      <td>0.130285</td>\n",
       "      <td>0.130285</td>\n",
       "      <td>0.130285</td>\n",
       "      <td>2020-11-16</td>\n",
       "      <td>0</td>\n",
       "    </tr>\n",
       "    <tr>\n",
       "      <th>2</th>\n",
       "      <td>CYE</td>\n",
       "      <td>2.1. A</td>\n",
       "      <td>0.044445</td>\n",
       "      <td>0.044445</td>\n",
       "      <td>0.044445</td>\n",
       "      <td>0.044445</td>\n",
       "      <td>0.044445</td>\n",
       "      <td>0.044445</td>\n",
       "      <td>0.122458</td>\n",
       "      <td>0.122458</td>\n",
       "      <td>0.122458</td>\n",
       "      <td>0.122458</td>\n",
       "      <td>0.122458</td>\n",
       "      <td>0.122458</td>\n",
       "      <td>2020-11-16</td>\n",
       "      <td>0</td>\n",
       "    </tr>\n",
       "    <tr>\n",
       "      <th>3</th>\n",
       "      <td>CYE</td>\n",
       "      <td>2.1. DHA</td>\n",
       "      <td>0.044445</td>\n",
       "      <td>0.044445</td>\n",
       "      <td>0.044445</td>\n",
       "      <td>0.044445</td>\n",
       "      <td>0.044445</td>\n",
       "      <td>0.044445</td>\n",
       "      <td>0.142841</td>\n",
       "      <td>0.142841</td>\n",
       "      <td>0.142841</td>\n",
       "      <td>0.142841</td>\n",
       "      <td>0.142841</td>\n",
       "      <td>0.142841</td>\n",
       "      <td>2020-11-16</td>\n",
       "      <td>0</td>\n",
       "    </tr>\n",
       "    <tr>\n",
       "      <th>4</th>\n",
       "      <td>CYE</td>\n",
       "      <td>3.0. A</td>\n",
       "      <td>0.040729</td>\n",
       "      <td>0.024437</td>\n",
       "      <td>0.016292</td>\n",
       "      <td>0.040729</td>\n",
       "      <td>0.024437</td>\n",
       "      <td>0.016292</td>\n",
       "      <td>0.092978</td>\n",
       "      <td>0.092978</td>\n",
       "      <td>0.092978</td>\n",
       "      <td>0.092978</td>\n",
       "      <td>0.092978</td>\n",
       "      <td>0.092978</td>\n",
       "      <td>2020-11-16</td>\n",
       "      <td>0</td>\n",
       "    </tr>\n",
       "    <tr>\n",
       "      <th>...</th>\n",
       "      <td>...</td>\n",
       "      <td>...</td>\n",
       "      <td>...</td>\n",
       "      <td>...</td>\n",
       "      <td>...</td>\n",
       "      <td>...</td>\n",
       "      <td>...</td>\n",
       "      <td>...</td>\n",
       "      <td>...</td>\n",
       "      <td>...</td>\n",
       "      <td>...</td>\n",
       "      <td>...</td>\n",
       "      <td>...</td>\n",
       "      <td>...</td>\n",
       "      <td>...</td>\n",
       "      <td>...</td>\n",
       "    </tr>\n",
       "    <tr>\n",
       "      <th>157</th>\n",
       "      <td>Opcion</td>\n",
       "      <td>2.0. DHA</td>\n",
       "      <td>0.038043</td>\n",
       "      <td>0.038043</td>\n",
       "      <td>0.038043</td>\n",
       "      <td>0.038043</td>\n",
       "      <td>0.038043</td>\n",
       "      <td>0.038043</td>\n",
       "      <td>0.151545</td>\n",
       "      <td>0.151545</td>\n",
       "      <td>0.151545</td>\n",
       "      <td>0.151545</td>\n",
       "      <td>0.151545</td>\n",
       "      <td>0.151545</td>\n",
       "      <td>2020-03-01</td>\n",
       "      <td>2019-04-01 00:00:00</td>\n",
       "    </tr>\n",
       "    <tr>\n",
       "      <th>158</th>\n",
       "      <td>Opcion</td>\n",
       "      <td>2.1. A</td>\n",
       "      <td>0.044445</td>\n",
       "      <td>0.044445</td>\n",
       "      <td>0.044445</td>\n",
       "      <td>0.044445</td>\n",
       "      <td>0.044445</td>\n",
       "      <td>0.044445</td>\n",
       "      <td>0.145133</td>\n",
       "      <td>0.145133</td>\n",
       "      <td>0.145133</td>\n",
       "      <td>0.145133</td>\n",
       "      <td>0.145133</td>\n",
       "      <td>0.145133</td>\n",
       "      <td>2020-03-01</td>\n",
       "      <td>2019-04-01 00:00:00</td>\n",
       "    </tr>\n",
       "    <tr>\n",
       "      <th>159</th>\n",
       "      <td>Opcion</td>\n",
       "      <td>2.1. DHA</td>\n",
       "      <td>0.044445</td>\n",
       "      <td>0.044445</td>\n",
       "      <td>0.044445</td>\n",
       "      <td>0.044445</td>\n",
       "      <td>0.044445</td>\n",
       "      <td>0.044445</td>\n",
       "      <td>0.164125</td>\n",
       "      <td>0.164125</td>\n",
       "      <td>0.164125</td>\n",
       "      <td>0.164125</td>\n",
       "      <td>0.164125</td>\n",
       "      <td>0.164125</td>\n",
       "      <td>2020-03-01</td>\n",
       "      <td>2019-04-01 00:00:00</td>\n",
       "    </tr>\n",
       "    <tr>\n",
       "      <th>160</th>\n",
       "      <td>Opcion</td>\n",
       "      <td>3.0. A</td>\n",
       "      <td>0.040729</td>\n",
       "      <td>0.024437</td>\n",
       "      <td>0.016292</td>\n",
       "      <td>0.040729</td>\n",
       "      <td>0.024437</td>\n",
       "      <td>0.016292</td>\n",
       "      <td>0.112716</td>\n",
       "      <td>0.112716</td>\n",
       "      <td>0.112716</td>\n",
       "      <td>0.112716</td>\n",
       "      <td>0.112716</td>\n",
       "      <td>0.112716</td>\n",
       "      <td>2020-03-01</td>\n",
       "      <td>2019-04-01 00:00:00</td>\n",
       "    </tr>\n",
       "    <tr>\n",
       "      <th>161</th>\n",
       "      <td>Opcion</td>\n",
       "      <td>3.1. A</td>\n",
       "      <td>0.059173</td>\n",
       "      <td>0.036491</td>\n",
       "      <td>0.008368</td>\n",
       "      <td>0.059173</td>\n",
       "      <td>0.036491</td>\n",
       "      <td>0.008368</td>\n",
       "      <td>0.098272</td>\n",
       "      <td>0.098272</td>\n",
       "      <td>0.098272</td>\n",
       "      <td>0.098272</td>\n",
       "      <td>0.098272</td>\n",
       "      <td>0.098272</td>\n",
       "      <td>2020-03-01</td>\n",
       "      <td>2019-04-01 00:00:00</td>\n",
       "    </tr>\n",
       "  </tbody>\n",
       "</table>\n",
       "<p>162 rows × 16 columns</p>\n",
       "</div>"
      ],
      "text/plain": [
       "    Comercializadora    Tarifa  Precio_Potencia_P1  Precio_Potencia_P2  \\\n",
       "0                CYE    2.0. A            0.038043            0.038043   \n",
       "1                CYE  2.0. DHA            0.038043            0.038043   \n",
       "2                CYE    2.1. A            0.044445            0.044445   \n",
       "3                CYE  2.1. DHA            0.044445            0.044445   \n",
       "4                CYE    3.0. A            0.040729            0.024437   \n",
       "..               ...       ...                 ...                 ...   \n",
       "157           Opcion  2.0. DHA            0.038043            0.038043   \n",
       "158           Opcion    2.1. A            0.044445            0.044445   \n",
       "159           Opcion  2.1. DHA            0.044445            0.044445   \n",
       "160           Opcion    3.0. A            0.040729            0.024437   \n",
       "161           Opcion    3.1. A            0.059173            0.036491   \n",
       "\n",
       "     Precio_Potencia_P3  Precio_Potencia_P4  Precio_Potencia_P5  \\\n",
       "0              0.038043            0.038043            0.038043   \n",
       "1              0.038043            0.038043            0.038043   \n",
       "2              0.044445            0.044445            0.044445   \n",
       "3              0.044445            0.044445            0.044445   \n",
       "4              0.016292            0.040729            0.024437   \n",
       "..                  ...                 ...                 ...   \n",
       "157            0.038043            0.038043            0.038043   \n",
       "158            0.044445            0.044445            0.044445   \n",
       "159            0.044445            0.044445            0.044445   \n",
       "160            0.016292            0.040729            0.024437   \n",
       "161            0.008368            0.059173            0.036491   \n",
       "\n",
       "     Precio_Potencia_P6  Precio_Energía_P1  Precio_Energía_P2  \\\n",
       "0              0.038043           0.109125           0.109125   \n",
       "1              0.038043           0.130285           0.130285   \n",
       "2              0.044445           0.122458           0.122458   \n",
       "3              0.044445           0.142841           0.142841   \n",
       "4              0.016292           0.092978           0.092978   \n",
       "..                  ...                ...                ...   \n",
       "157            0.038043           0.151545           0.151545   \n",
       "158            0.044445           0.145133           0.145133   \n",
       "159            0.044445           0.164125           0.164125   \n",
       "160            0.016292           0.112716           0.112716   \n",
       "161            0.008368           0.098272           0.098272   \n",
       "\n",
       "     Precio_Energía_P3  Precio_Energía_P4  Precio_Energía_P5  \\\n",
       "0             0.109125           0.109125           0.109125   \n",
       "1             0.130285           0.130285           0.130285   \n",
       "2             0.122458           0.122458           0.122458   \n",
       "3             0.142841           0.142841           0.142841   \n",
       "4             0.092978           0.092978           0.092978   \n",
       "..                 ...                ...                ...   \n",
       "157           0.151545           0.151545           0.151545   \n",
       "158           0.145133           0.145133           0.145133   \n",
       "159           0.164125           0.164125           0.164125   \n",
       "160           0.112716           0.112716           0.112716   \n",
       "161           0.098272           0.098272           0.098272   \n",
       "\n",
       "     Precio_Energía_P6 Fecha_Inicio   Fecha_Finalizacion  \n",
       "0             0.109125   2020-11-16                    0  \n",
       "1             0.130285   2020-11-16                    0  \n",
       "2             0.122458   2020-11-16                    0  \n",
       "3             0.142841   2020-11-16                    0  \n",
       "4             0.092978   2020-11-16                    0  \n",
       "..                 ...          ...                  ...  \n",
       "157           0.151545   2020-03-01  2019-04-01 00:00:00  \n",
       "158           0.145133   2020-03-01  2019-04-01 00:00:00  \n",
       "159           0.164125   2020-03-01  2019-04-01 00:00:00  \n",
       "160           0.112716   2020-03-01  2019-04-01 00:00:00  \n",
       "161           0.098272   2020-03-01  2019-04-01 00:00:00  \n",
       "\n",
       "[162 rows x 16 columns]"
      ]
     },
     "execution_count": 163,
     "metadata": {},
     "output_type": "execute_result"
    }
   ],
   "source": [
    "bd_precios_fijos"
   ]
  },
  {
   "cell_type": "markdown",
   "metadata": {},
   "source": [
    "# Estudio Fijo"
   ]
  },
  {
   "cell_type": "markdown",
   "metadata": {},
   "source": [
    "## 1er Paso para Estudio de Ahorro - Coste total de 1 año comercializadora actual "
   ]
  },
  {
   "cell_type": "markdown",
   "metadata": {},
   "source": [
    "#### Coste de la Energía \n",
    "la columna de precio_energía de la BD_CLiente_Estudio_de_ahorro lo multiplicamos por bd_consumo_cliente el consumo anual segun periodo. "
   ]
  },
  {
   "cell_type": "code",
   "execution_count": 164,
   "metadata": {},
   "outputs": [],
   "source": [
    "coste_energía_actual = ((bd_cliente_estudio_de_ahorro_modelo[\"Precio_Energia_P1\"] * bd_consumo_energia_cliente.iloc[0][-1]) +\n",
    "                        (bd_cliente_estudio_de_ahorro_modelo[\"Precio_Energia_P2\"] * bd_consumo_energia_cliente.iloc[1][-1]) +\n",
    "                        (bd_cliente_estudio_de_ahorro_modelo[\"Precio_Energia_P3\"] * bd_consumo_energia_cliente.iloc[2][-1]) +\n",
    "                        (bd_cliente_estudio_de_ahorro_modelo[\"Precio_Energia_P4\"] * bd_consumo_energia_cliente.iloc[3][-1]) +\n",
    "                        (bd_cliente_estudio_de_ahorro_modelo[\"Precio_Energia_P5\"] * bd_consumo_energia_cliente.iloc[4][-1]) +\n",
    "                        (bd_cliente_estudio_de_ahorro_modelo[\"Precio_Energia_P6\"] * bd_consumo_energia_cliente.iloc[5][-1]) )"
   ]
  },
  {
   "cell_type": "code",
   "execution_count": 165,
   "metadata": {},
   "outputs": [
    {
     "data": {
      "text/plain": [
       "0    5756.660616\n",
       "dtype: float64"
      ]
     },
     "execution_count": 165,
     "metadata": {},
     "output_type": "execute_result"
    }
   ],
   "source": [
    "coste_energía_actual"
   ]
  },
  {
   "cell_type": "markdown",
   "metadata": {},
   "source": [
    "#### Coste de la Potencia \n",
    "(el precio_potencia de la BD_CLiente_Estudio_de_ahorro lo multiplicamos por bd_consumo_cliente la potencia segun periodo) multiplicado por 365 días. "
   ]
  },
  {
   "cell_type": "code",
   "execution_count": 166,
   "metadata": {},
   "outputs": [],
   "source": [
    "coste_potencia_actual =((bd_cliente_estudio_de_ahorro_modelo[\"Precio_Potencia_P1\"] * bd_consumo_potencia_cliente.iloc[0][-1]) +\n",
    "                        (bd_cliente_estudio_de_ahorro_modelo[\"Precio_Potencia_P2\"] * bd_consumo_potencia_cliente.iloc[1][-1]) +\n",
    "                        (bd_cliente_estudio_de_ahorro_modelo[\"Precio_Potencia_P3\"] * bd_consumo_potencia_cliente.iloc[2][-1]) +\n",
    "                        (bd_cliente_estudio_de_ahorro_modelo[\"Precio_Potencia_P4\"] * bd_consumo_potencia_cliente.iloc[3][-1]) +\n",
    "                        (bd_cliente_estudio_de_ahorro_modelo[\"Precio_Potencia_P5\"] * bd_consumo_potencia_cliente.iloc[4][-1]) +\n",
    "                        (bd_cliente_estudio_de_ahorro_modelo[\"Precio_Potencia_P6\"] * bd_consumo_potencia_cliente.iloc[5][-1]) ) * 365  "
   ]
  },
  {
   "cell_type": "code",
   "execution_count": 167,
   "metadata": {},
   "outputs": [
    {
     "data": {
      "text/plain": [
       "0    1424.79137\n",
       "dtype: float64"
      ]
     },
     "execution_count": 167,
     "metadata": {},
     "output_type": "execute_result"
    }
   ],
   "source": [
    "coste_potencia_actual"
   ]
  },
  {
   "cell_type": "markdown",
   "metadata": {},
   "source": [
    "#### impuesto energía \n",
    "(energía + potencia) multilplicado por 5,11%\n"
   ]
  },
  {
   "cell_type": "code",
   "execution_count": 168,
   "metadata": {},
   "outputs": [],
   "source": [
    "coste_impuesto_energia = (coste_potencia_actual + coste_energía_actual)* 0.0511"
   ]
  },
  {
   "cell_type": "code",
   "execution_count": 169,
   "metadata": {},
   "outputs": [
    {
     "data": {
      "text/plain": [
       "0    366.972196\n",
       "dtype: float64"
      ]
     },
     "execution_count": 169,
     "metadata": {},
     "output_type": "execute_result"
    }
   ],
   "source": [
    "coste_impuesto_energia"
   ]
  },
  {
   "cell_type": "markdown",
   "metadata": {},
   "source": [
    "#### precio contador \n",
    "bd_consumo_cliente del precio_del_contador multiplicado por 365 días. "
   ]
  },
  {
   "cell_type": "code",
   "execution_count": 170,
   "metadata": {},
   "outputs": [],
   "source": [
    "coste_contador = bd_cliente_estudio_de_ahorro_modelo[\"Precio_Contador\"]*365"
   ]
  },
  {
   "cell_type": "code",
   "execution_count": 171,
   "metadata": {},
   "outputs": [
    {
     "data": {
      "text/plain": [
       "0    143.982895\n",
       "Name: Precio_Contador, dtype: float64"
      ]
     },
     "execution_count": 171,
     "metadata": {},
     "output_type": "execute_result"
    }
   ],
   "source": [
    "coste_contador"
   ]
  },
  {
   "cell_type": "markdown",
   "metadata": {},
   "source": [
    "#### iva \n",
    "(energía + potencia + impuesto energía + precio contador) multiplicado 21%"
   ]
  },
  {
   "cell_type": "code",
   "execution_count": 172,
   "metadata": {},
   "outputs": [],
   "source": [
    "coste_iva = (coste_energía_actual + coste_potencia_actual + coste_impuesto_energia + coste_contador) * 0.21"
   ]
  },
  {
   "cell_type": "code",
   "execution_count": 173,
   "metadata": {},
   "outputs": [
    {
     "data": {
      "text/plain": [
       "0    1615.405486\n",
       "dtype: float64"
      ]
     },
     "execution_count": 173,
     "metadata": {},
     "output_type": "execute_result"
    }
   ],
   "source": [
    "coste_iva"
   ]
  },
  {
   "cell_type": "markdown",
   "metadata": {},
   "source": [
    "#### coste total de factura actual \n",
    "energía + potencia + impuesto energía + precio contador + iva"
   ]
  },
  {
   "cell_type": "code",
   "execution_count": 174,
   "metadata": {},
   "outputs": [],
   "source": [
    "actual_coste_anual_cliente = (coste_energía_actual + coste_potencia_actual + coste_impuesto_energia + coste_contador + coste_iva)"
   ]
  },
  {
   "cell_type": "code",
   "execution_count": 175,
   "metadata": {},
   "outputs": [
    {
     "data": {
      "text/plain": [
       "0    9307.812563\n",
       "dtype: float64"
      ]
     },
     "execution_count": 175,
     "metadata": {},
     "output_type": "execute_result"
    }
   ],
   "source": [
    "actual_coste_anual_cliente"
   ]
  },
  {
   "cell_type": "markdown",
   "metadata": {},
   "source": [
    "### Función para el importe de factura actual 1 año del cliente"
   ]
  },
  {
   "cell_type": "code",
   "execution_count": 176,
   "metadata": {},
   "outputs": [],
   "source": [
    "def importe_factura_año():\n",
    "    coste_energía_actual = ((bd_cliente_estudio_de_ahorro_modelo[\"Precio_Energia_P1\"] * bd_consumo_energia_cliente.iloc[0][-1]) +\n",
    "                        (bd_cliente_estudio_de_ahorro_modelo[\"Precio_Energia_P2\"] * bd_consumo_energia_cliente.iloc[1][-1]) +\n",
    "                        (bd_cliente_estudio_de_ahorro_modelo[\"Precio_Energia_P3\"] * bd_consumo_energia_cliente.iloc[2][-1]) +\n",
    "                        (bd_cliente_estudio_de_ahorro_modelo[\"Precio_Energia_P4\"] * bd_consumo_energia_cliente.iloc[3][-1]) +\n",
    "                        (bd_cliente_estudio_de_ahorro_modelo[\"Precio_Energia_P5\"] * bd_consumo_energia_cliente.iloc[4][-1]) +\n",
    "                        (bd_cliente_estudio_de_ahorro_modelo[\"Precio_Energia_P6\"] * bd_consumo_energia_cliente.iloc[5][-1]) )\n",
    "    coste_impuesto_energia = (coste_potencia_actual + coste_energía_actual)* 0.0511\n",
    "    coste_contador = bd_cliente_estudio_de_ahorro_modelo[\"Precio_Contador\"]*365\n",
    "    coste_iva = (coste_energía_actual + coste_potencia_actual + coste_impuesto_energia + coste_contador) * 0.21\n",
    "    actual_coste_anual_cliente = (coste_energía_actual + coste_potencia_actual + coste_impuesto_energia + coste_contador + coste_iva)\n",
    "    return(actual_coste_anual_cliente)\n",
    "    "
   ]
  },
  {
   "cell_type": "code",
   "execution_count": 177,
   "metadata": {},
   "outputs": [
    {
     "data": {
      "text/plain": [
       "0    9307.812563\n",
       "dtype: float64"
      ]
     },
     "execution_count": 177,
     "metadata": {},
     "output_type": "execute_result"
    }
   ],
   "source": [
    "importe_factura_año()"
   ]
  },
  {
   "cell_type": "markdown",
   "metadata": {},
   "source": [
    "## 2do Paso para Estudio de Ahorro - Coste total de 1 año con nueva comercializadora  "
   ]
  },
  {
   "cell_type": "markdown",
   "metadata": {},
   "source": [
    "#### coste de la energía \n",
    "\n",
    "\n",
    "multiplicar la columna de consumo en BD_Consumo_Cliente con con la columna de precios de la BD_Precios_Fijos cuya fecha de finalización sea 0, y la tarifa igual a la columna de BD_Estudio_Ahorro_Cliente  Que se quede el resultado más barato.\n"
   ]
  },
  {
   "cell_type": "code",
   "execution_count": 178,
   "metadata": {},
   "outputs": [],
   "source": [
    "tarifa_df = bd_precios_fijos.loc[bd_precios_fijos[\"Tarifa\"] == bd_cliente_estudio_de_ahorro_modelo[\"Tarifa\"].values[0]]\n",
    "precios_vigentes_comercializadora_df = tarifa_df.loc[tarifa_df[\"Fecha_Finalizacion\"] == '0']\n"
   ]
  },
  {
   "cell_type": "code",
   "execution_count": 179,
   "metadata": {},
   "outputs": [
    {
     "data": {
      "text/html": [
       "<div>\n",
       "<style scoped>\n",
       "    .dataframe tbody tr th:only-of-type {\n",
       "        vertical-align: middle;\n",
       "    }\n",
       "\n",
       "    .dataframe tbody tr th {\n",
       "        vertical-align: top;\n",
       "    }\n",
       "\n",
       "    .dataframe thead th {\n",
       "        text-align: right;\n",
       "    }\n",
       "</style>\n",
       "<table border=\"1\" class=\"dataframe\">\n",
       "  <thead>\n",
       "    <tr style=\"text-align: right;\">\n",
       "      <th></th>\n",
       "      <th>Comercializadora</th>\n",
       "      <th>Tarifa</th>\n",
       "      <th>Precio_Potencia_P1</th>\n",
       "      <th>Precio_Potencia_P2</th>\n",
       "      <th>Precio_Potencia_P3</th>\n",
       "      <th>Precio_Potencia_P4</th>\n",
       "      <th>Precio_Potencia_P5</th>\n",
       "      <th>Precio_Potencia_P6</th>\n",
       "      <th>Precio_Energía_P1</th>\n",
       "      <th>Precio_Energía_P2</th>\n",
       "      <th>Precio_Energía_P3</th>\n",
       "      <th>Precio_Energía_P4</th>\n",
       "      <th>Precio_Energía_P5</th>\n",
       "      <th>Precio_Energía_P6</th>\n",
       "      <th>Fecha_Inicio</th>\n",
       "      <th>Fecha_Finalizacion</th>\n",
       "    </tr>\n",
       "  </thead>\n",
       "  <tbody>\n",
       "    <tr>\n",
       "      <th>5</th>\n",
       "      <td>CYE</td>\n",
       "      <td>3.1. A</td>\n",
       "      <td>0.059173</td>\n",
       "      <td>0.036491</td>\n",
       "      <td>0.008368</td>\n",
       "      <td>0.059173</td>\n",
       "      <td>0.036491</td>\n",
       "      <td>0.008368</td>\n",
       "      <td>0.081012</td>\n",
       "      <td>0.081012</td>\n",
       "      <td>0.081012</td>\n",
       "      <td>0.081012</td>\n",
       "      <td>0.081012</td>\n",
       "      <td>0.081012</td>\n",
       "      <td>2020-11-16</td>\n",
       "      <td>0</td>\n",
       "    </tr>\n",
       "    <tr>\n",
       "      <th>17</th>\n",
       "      <td>Sun_Air_One</td>\n",
       "      <td>3.1. A</td>\n",
       "      <td>0.059173</td>\n",
       "      <td>0.036491</td>\n",
       "      <td>0.008368</td>\n",
       "      <td>0.059173</td>\n",
       "      <td>0.036491</td>\n",
       "      <td>0.008368</td>\n",
       "      <td>0.080410</td>\n",
       "      <td>0.080410</td>\n",
       "      <td>0.080410</td>\n",
       "      <td>0.080410</td>\n",
       "      <td>0.080410</td>\n",
       "      <td>0.080410</td>\n",
       "      <td>2020-09-08</td>\n",
       "      <td>0</td>\n",
       "    </tr>\n",
       "    <tr>\n",
       "      <th>29</th>\n",
       "      <td>Audax</td>\n",
       "      <td>3.1. A</td>\n",
       "      <td>0.059173</td>\n",
       "      <td>0.036491</td>\n",
       "      <td>0.008368</td>\n",
       "      <td>0.059173</td>\n",
       "      <td>0.036491</td>\n",
       "      <td>0.008368</td>\n",
       "      <td>0.078740</td>\n",
       "      <td>0.078740</td>\n",
       "      <td>0.078740</td>\n",
       "      <td>0.078740</td>\n",
       "      <td>0.078740</td>\n",
       "      <td>0.078740</td>\n",
       "      <td>2020-11-17</td>\n",
       "      <td>0</td>\n",
       "    </tr>\n",
       "    <tr>\n",
       "      <th>41</th>\n",
       "      <td>Opcion</td>\n",
       "      <td>3.1. A</td>\n",
       "      <td>0.059173</td>\n",
       "      <td>0.036491</td>\n",
       "      <td>0.008368</td>\n",
       "      <td>0.059173</td>\n",
       "      <td>0.036491</td>\n",
       "      <td>0.008368</td>\n",
       "      <td>0.082796</td>\n",
       "      <td>0.082796</td>\n",
       "      <td>0.082796</td>\n",
       "      <td>0.082796</td>\n",
       "      <td>0.082796</td>\n",
       "      <td>0.082796</td>\n",
       "      <td>2020-12-01</td>\n",
       "      <td>0</td>\n",
       "    </tr>\n",
       "  </tbody>\n",
       "</table>\n",
       "</div>"
      ],
      "text/plain": [
       "   Comercializadora  Tarifa  Precio_Potencia_P1  Precio_Potencia_P2  \\\n",
       "5               CYE  3.1. A            0.059173            0.036491   \n",
       "17      Sun_Air_One  3.1. A            0.059173            0.036491   \n",
       "29            Audax  3.1. A            0.059173            0.036491   \n",
       "41           Opcion  3.1. A            0.059173            0.036491   \n",
       "\n",
       "    Precio_Potencia_P3  Precio_Potencia_P4  Precio_Potencia_P5  \\\n",
       "5             0.008368            0.059173            0.036491   \n",
       "17            0.008368            0.059173            0.036491   \n",
       "29            0.008368            0.059173            0.036491   \n",
       "41            0.008368            0.059173            0.036491   \n",
       "\n",
       "    Precio_Potencia_P6  Precio_Energía_P1  Precio_Energía_P2  \\\n",
       "5             0.008368           0.081012           0.081012   \n",
       "17            0.008368           0.080410           0.080410   \n",
       "29            0.008368           0.078740           0.078740   \n",
       "41            0.008368           0.082796           0.082796   \n",
       "\n",
       "    Precio_Energía_P3  Precio_Energía_P4  Precio_Energía_P5  \\\n",
       "5            0.081012           0.081012           0.081012   \n",
       "17           0.080410           0.080410           0.080410   \n",
       "29           0.078740           0.078740           0.078740   \n",
       "41           0.082796           0.082796           0.082796   \n",
       "\n",
       "    Precio_Energía_P6 Fecha_Inicio Fecha_Finalizacion  \n",
       "5            0.081012   2020-11-16                  0  \n",
       "17           0.080410   2020-09-08                  0  \n",
       "29           0.078740   2020-11-17                  0  \n",
       "41           0.082796   2020-12-01                  0  "
      ]
     },
     "execution_count": 179,
     "metadata": {},
     "output_type": "execute_result"
    }
   ],
   "source": [
    "precios_vigentes_comercializadora_df"
   ]
  },
  {
   "cell_type": "code",
   "execution_count": 180,
   "metadata": {},
   "outputs": [],
   "source": [
    "coste_energia_nuevo_comercializadoras = ((precios_vigentes_comercializadora_df['Precio_Energía_P1'] * bd_consumo_energia_cliente.iloc[0][-1]) +\n",
    "                       (precios_vigentes_comercializadora_df['Precio_Energía_P2'] * bd_consumo_energia_cliente.iloc[1][-1]) +\n",
    "                       (precios_vigentes_comercializadora_df['Precio_Energía_P3'] * bd_consumo_energia_cliente.iloc[2][-1]) +\n",
    "                       (precios_vigentes_comercializadora_df['Precio_Energía_P4'] * bd_consumo_energia_cliente.iloc[3][-1]) +\n",
    "                       (precios_vigentes_comercializadora_df['Precio_Energía_P5'] * bd_consumo_energia_cliente.iloc[4][-1]) +\n",
    "                       (precios_vigentes_comercializadora_df['Precio_Energía_P6'] * bd_consumo_energia_cliente.iloc[5][-1])\n",
    "                      )"
   ]
  },
  {
   "cell_type": "code",
   "execution_count": 181,
   "metadata": {},
   "outputs": [
    {
     "data": {
      "text/plain": [
       "5     4351.466423\n",
       "17    4319.142740\n",
       "29    4229.440360\n",
       "41    4447.287917\n",
       "dtype: float64"
      ]
     },
     "execution_count": 181,
     "metadata": {},
     "output_type": "execute_result"
    }
   ],
   "source": [
    "coste_energia_nuevo_comercializadoras"
   ]
  },
  {
   "cell_type": "code",
   "execution_count": 182,
   "metadata": {},
   "outputs": [],
   "source": [
    "coste_potencia_nuevo_comercializadoras = ((precios_vigentes_comercializadora_df['Precio_Potencia_P1'] * bd_consumo_potencia_cliente.iloc[0][-1]) +\n",
    "                       (precios_vigentes_comercializadora_df['Precio_Potencia_P2'] * bd_consumo_potencia_cliente.iloc[1][-1]) +\n",
    "                       (precios_vigentes_comercializadora_df['Precio_Potencia_P3'] * bd_consumo_potencia_cliente.iloc[2][-1]) +\n",
    "                       (precios_vigentes_comercializadora_df['Precio_Potencia_P4'] * bd_consumo_potencia_cliente.iloc[3][-1]) +\n",
    "                       (precios_vigentes_comercializadora_df['Precio_Potencia_P5'] * bd_consumo_potencia_cliente.iloc[4][-1]) +\n",
    "                       (precios_vigentes_comercializadora_df['Precio_Potencia_P6'] * bd_consumo_potencia_cliente.iloc[5][-1]) )* 365"
   ]
  },
  {
   "cell_type": "code",
   "execution_count": 183,
   "metadata": {},
   "outputs": [
    {
     "data": {
      "text/plain": [
       "5     520.050748\n",
       "17    520.050748\n",
       "29    520.050748\n",
       "41    520.050748\n",
       "dtype: float64"
      ]
     },
     "execution_count": 183,
     "metadata": {},
     "output_type": "execute_result"
    }
   ],
   "source": [
    "coste_potencia_nuevo_comercializadoras"
   ]
  },
  {
   "cell_type": "markdown",
   "metadata": {},
   "source": [
    "### Otros Costes de la Factura Nueva"
   ]
  },
  {
   "cell_type": "code",
   "execution_count": 184,
   "metadata": {},
   "outputs": [],
   "source": [
    "coste_impuesto_energia_nuevo = ((coste_energia_nuevo_comercializadoras + coste_potencia_nuevo_comercializadoras )* 0.0511)"
   ]
  },
  {
   "cell_type": "code",
   "execution_count": 185,
   "metadata": {},
   "outputs": [
    {
     "data": {
      "text/plain": [
       "5     248.934527\n",
       "17    247.282787\n",
       "29    242.698996\n",
       "41    253.831006\n",
       "dtype: float64"
      ]
     },
     "execution_count": 185,
     "metadata": {},
     "output_type": "execute_result"
    }
   ],
   "source": [
    "coste_impuesto_energia_nuevo"
   ]
  },
  {
   "cell_type": "markdown",
   "metadata": {},
   "source": [
    "#### precio contador \n",
    "bd_consumo_cliente del precio_del_contador multiplicado por 365 días. "
   ]
  },
  {
   "cell_type": "code",
   "execution_count": 186,
   "metadata": {},
   "outputs": [
    {
     "name": "stderr",
     "output_type": "stream",
     "text": [
      "<ipython-input-186-6aeb39f6f06a>:1: SettingWithCopyWarning: \n",
      "A value is trying to be set on a copy of a slice from a DataFrame.\n",
      "Try using .loc[row_indexer,col_indexer] = value instead\n",
      "\n",
      "See the caveats in the documentation: https://pandas.pydata.org/pandas-docs/stable/user_guide/indexing.html#returning-a-view-versus-a-copy\n",
      "  precios_vigentes_comercializadora_df['precio_contador'] = bd_cliente_estudio_de_ahorro_modelo[\"Precio_Contador\"].values[0]*365\n"
     ]
    },
    {
     "data": {
      "text/plain": [
       "5     143.982895\n",
       "17    143.982895\n",
       "29    143.982895\n",
       "41    143.982895\n",
       "Name: precio_contador, dtype: float64"
      ]
     },
     "execution_count": 186,
     "metadata": {},
     "output_type": "execute_result"
    }
   ],
   "source": [
    "precios_vigentes_comercializadora_df['precio_contador'] = bd_cliente_estudio_de_ahorro_modelo[\"Precio_Contador\"].values[0]*365\n",
    "coste_contador_nuevo = precios_vigentes_comercializadora_df[\"precio_contador\"]\n",
    "coste_contador_nuevo"
   ]
  },
  {
   "cell_type": "markdown",
   "metadata": {},
   "source": [
    "#### iva \n",
    "(energía + potencia + impuesto energía + precio contador) multiplicado 21%"
   ]
  },
  {
   "cell_type": "code",
   "execution_count": 187,
   "metadata": {},
   "outputs": [],
   "source": [
    "coste_iva_nuevo = (coste_energia_nuevo_comercializadoras + coste_potencia_nuevo_comercializadoras + coste_impuesto_energia_nuevo + coste_contador_nuevo) * 0.21"
   ]
  },
  {
   "cell_type": "code",
   "execution_count": 188,
   "metadata": {},
   "outputs": [
    {
     "data": {
      "text/plain": [
       "5     248.934527\n",
       "17    247.282787\n",
       "29    242.698996\n",
       "41    253.831006\n",
       "dtype: float64"
      ]
     },
     "execution_count": 188,
     "metadata": {},
     "output_type": "execute_result"
    }
   ],
   "source": [
    "coste_impuesto_energia_nuevo"
   ]
  },
  {
   "cell_type": "code",
   "execution_count": 189,
   "metadata": {},
   "outputs": [
    {
     "data": {
      "text/plain": [
       "5     1105.531265\n",
       "17    1098.396426\n",
       "29    1078.596330\n",
       "41    1126.682039\n",
       "dtype: float64"
      ]
     },
     "execution_count": 189,
     "metadata": {},
     "output_type": "execute_result"
    }
   ],
   "source": [
    "coste_iva_nuevo"
   ]
  },
  {
   "cell_type": "markdown",
   "metadata": {},
   "source": [
    "#### coste total de factura actual \n",
    "energía + potencia + impuesto energía + precio contador + iva"
   ]
  },
  {
   "cell_type": "code",
   "execution_count": 190,
   "metadata": {},
   "outputs": [],
   "source": [
    "nuevo_coste_anual_cliente = (coste_energia_nuevo_comercializadoras + coste_potencia_nuevo_comercializadoras + coste_impuesto_energia_nuevo + coste_contador_nuevo + coste_iva_nuevo)"
   ]
  },
  {
   "cell_type": "code",
   "execution_count": 191,
   "metadata": {},
   "outputs": [
    {
     "data": {
      "text/plain": [
       "5     6369.965858\n",
       "17    6328.855596\n",
       "29    6214.769329\n",
       "41    6491.834605\n",
       "dtype: float64"
      ]
     },
     "execution_count": 191,
     "metadata": {},
     "output_type": "execute_result"
    }
   ],
   "source": [
    "nuevo_coste_anual_cliente"
   ]
  },
  {
   "cell_type": "markdown",
   "metadata": {},
   "source": [
    "### Función para el importe de factura nueva 1 año del cliente"
   ]
  },
  {
   "cell_type": "code",
   "execution_count": 192,
   "metadata": {},
   "outputs": [],
   "source": [
    "def importe_nuevas_facturas():\n",
    "    tarifa_df = bd_precios_fijos.loc[bd_precios_fijos[\"Tarifa\"] == bd_cliente_estudio_de_ahorro_modelo[\"Tarifa\"].values[0]]\n",
    "    precios_vigentes_comercializadora_df = tarifa_df.loc[tarifa_df[\"Fecha_Finalizacion\"] == '0']\n",
    "    coste_energia_nuevo_comercializadoras = ((precios_vigentes_comercializadora_df['Precio_Energía_P1'] * bd_consumo_energia_cliente.iloc[0][-1]) +\n",
    "                       (precios_vigentes_comercializadora_df['Precio_Energía_P2'] * bd_consumo_energia_cliente.iloc[1][-1]) +\n",
    "                       (precios_vigentes_comercializadora_df['Precio_Energía_P3'] * bd_consumo_energia_cliente.iloc[2][-1]) +\n",
    "                       (precios_vigentes_comercializadora_df['Precio_Energía_P4'] * bd_consumo_energia_cliente.iloc[3][-1]) +\n",
    "                       (precios_vigentes_comercializadora_df['Precio_Energía_P5'] * bd_consumo_energia_cliente.iloc[4][-1]) +\n",
    "                       (precios_vigentes_comercializadora_df['Precio_Energía_P6'] * bd_consumo_energia_cliente.iloc[5][-1])\n",
    "                      )\n",
    "    coste_potencia_nuevo_comercializadoras = ((precios_vigentes_comercializadora_df['Precio_Potencia_P1'] * bd_consumo_potencia_cliente.iloc[0][-1]) +\n",
    "                       (precios_vigentes_comercializadora_df['Precio_Potencia_P2'] * bd_consumo_potencia_cliente.iloc[0][-1]) +\n",
    "                       (precios_vigentes_comercializadora_df['Precio_Potencia_P3'] * bd_consumo_potencia_cliente.iloc[0][-1]) +\n",
    "                       (precios_vigentes_comercializadora_df['Precio_Potencia_P4'] * bd_consumo_potencia_cliente.iloc[0][-1]) +\n",
    "                       (precios_vigentes_comercializadora_df['Precio_Potencia_P5'] * bd_consumo_potencia_cliente.iloc[0][-1]) +\n",
    "                       (precios_vigentes_comercializadora_df['Precio_Potencia_P6'] * bd_consumo_potencia_cliente.iloc[0][-1]) \n",
    "                      )* 365\n",
    "    coste_impuesto_energia_nuevo = (coste_energia_nuevo_comercializadoras + coste_potencia_nuevo_comercializadoras)* 0.0511\n",
    "    precios_vigentes_comercializadora_df[\"precio_contador\"] = bd_cliente_estudio_de_ahorro_modelo[\"Precio_Contador\"].values[0]*365\n",
    "    coste_contador_nuevo = precios_vigentes_comercializadora_df[\"precio_contador\"]\n",
    "    coste_iva_nuevo = (coste_energia_nuevo_comercializadoras + coste_potencia_nuevo_comercializadoras + coste_impuesto_energia_nuevo + coste_contador_nuevo) * 0.21\n",
    "    nuevo_coste_anual_cliente = (coste_energia_nuevo_comercializadoras + coste_potencia_nuevo_comercializadoras + coste_impuesto_energia_nuevo + coste_contador_nuevo + coste_iva_nuevo)\n",
    "    return(nuevo_coste_anual_cliente)"
   ]
  },
  {
   "cell_type": "code",
   "execution_count": 193,
   "metadata": {},
   "outputs": [
    {
     "name": "stderr",
     "output_type": "stream",
     "text": [
      "<ipython-input-192-df35fe2195ee>:19: SettingWithCopyWarning: \n",
      "A value is trying to be set on a copy of a slice from a DataFrame.\n",
      "Try using .loc[row_indexer,col_indexer] = value instead\n",
      "\n",
      "See the caveats in the documentation: https://pandas.pydata.org/pandas-docs/stable/user_guide/indexing.html#returning-a-view-versus-a-copy\n",
      "  precios_vigentes_comercializadora_df[\"precio_contador\"] = bd_cliente_estudio_de_ahorro_modelo[\"Precio_Contador\"].values[0]*365\n"
     ]
    },
    {
     "data": {
      "text/plain": [
       "5     6867.593380\n",
       "17    6826.483119\n",
       "29    6712.396851\n",
       "41    6989.462128\n",
       "dtype: float64"
      ]
     },
     "execution_count": 193,
     "metadata": {},
     "output_type": "execute_result"
    }
   ],
   "source": [
    "importe_nuevas_facturas()"
   ]
  },
  {
   "cell_type": "markdown",
   "metadata": {},
   "source": [
    "## Choose top 3 comercializadoras"
   ]
  },
  {
   "cell_type": "code",
   "execution_count": 210,
   "metadata": {},
   "outputs": [
    {
     "name": "stderr",
     "output_type": "stream",
     "text": [
      "<ipython-input-192-df35fe2195ee>:19: SettingWithCopyWarning: \n",
      "A value is trying to be set on a copy of a slice from a DataFrame.\n",
      "Try using .loc[row_indexer,col_indexer] = value instead\n",
      "\n",
      "See the caveats in the documentation: https://pandas.pydata.org/pandas-docs/stable/user_guide/indexing.html#returning-a-view-versus-a-copy\n",
      "  precios_vigentes_comercializadora_df[\"precio_contador\"] = bd_cliente_estudio_de_ahorro_modelo[\"Precio_Contador\"].values[0]*365\n"
     ]
    },
    {
     "data": {
      "text/plain": [
       "29    6712.396851\n",
       "17    6826.483119\n",
       "5     6867.593380\n",
       "41    6989.462128\n",
       "dtype: float64"
      ]
     },
     "execution_count": 210,
     "metadata": {},
     "output_type": "execute_result"
    }
   ],
   "source": [
    "ordenar_comercializadoras = importe_nuevas_facturas().sort_values(ascending=True)\n",
    "ordenar_comercializadoras"
   ]
  },
  {
   "cell_type": "code",
   "execution_count": 211,
   "metadata": {},
   "outputs": [
    {
     "data": {
      "text/plain": [
       "29    6712.396851\n",
       "17    6826.483119\n",
       "5     6867.593380\n",
       "dtype: float64"
      ]
     },
     "execution_count": 211,
     "metadata": {},
     "output_type": "execute_result"
    }
   ],
   "source": [
    "top_3_precios_comercializadoras = ordenar_comercializadoras.head(n=3)\n",
    "top_3_precios_comercializadoras"
   ]
  },
  {
   "cell_type": "code",
   "execution_count": 250,
   "metadata": {},
   "outputs": [
    {
     "data": {
      "text/html": [
       "<div>\n",
       "<style scoped>\n",
       "    .dataframe tbody tr th:only-of-type {\n",
       "        vertical-align: middle;\n",
       "    }\n",
       "\n",
       "    .dataframe tbody tr th {\n",
       "        vertical-align: top;\n",
       "    }\n",
       "\n",
       "    .dataframe thead th {\n",
       "        text-align: right;\n",
       "    }\n",
       "</style>\n",
       "<table border=\"1\" class=\"dataframe\">\n",
       "  <thead>\n",
       "    <tr style=\"text-align: right;\">\n",
       "      <th></th>\n",
       "      <th>Comercializadora</th>\n",
       "      <th>Tarifa</th>\n",
       "      <th>Precio_Potencia_P1</th>\n",
       "      <th>Precio_Potencia_P2</th>\n",
       "      <th>Precio_Potencia_P3</th>\n",
       "      <th>Precio_Potencia_P4</th>\n",
       "      <th>Precio_Potencia_P5</th>\n",
       "      <th>Precio_Potencia_P6</th>\n",
       "      <th>Precio_Energía_P1</th>\n",
       "      <th>Precio_Energía_P2</th>\n",
       "      <th>Precio_Energía_P3</th>\n",
       "      <th>Precio_Energía_P4</th>\n",
       "      <th>Precio_Energía_P5</th>\n",
       "      <th>Precio_Energía_P6</th>\n",
       "      <th>Fecha_Inicio</th>\n",
       "      <th>Fecha_Finalizacion</th>\n",
       "    </tr>\n",
       "  </thead>\n",
       "  <tbody>\n",
       "    <tr>\n",
       "      <th>29</th>\n",
       "      <td>Audax</td>\n",
       "      <td>3.1. A</td>\n",
       "      <td>0.059173</td>\n",
       "      <td>0.036491</td>\n",
       "      <td>0.008368</td>\n",
       "      <td>0.059173</td>\n",
       "      <td>0.036491</td>\n",
       "      <td>0.008368</td>\n",
       "      <td>0.078740</td>\n",
       "      <td>0.078740</td>\n",
       "      <td>0.078740</td>\n",
       "      <td>0.078740</td>\n",
       "      <td>0.078740</td>\n",
       "      <td>0.078740</td>\n",
       "      <td>2020-11-17</td>\n",
       "      <td>0</td>\n",
       "    </tr>\n",
       "    <tr>\n",
       "      <th>17</th>\n",
       "      <td>Sun_Air_One</td>\n",
       "      <td>3.1. A</td>\n",
       "      <td>0.059173</td>\n",
       "      <td>0.036491</td>\n",
       "      <td>0.008368</td>\n",
       "      <td>0.059173</td>\n",
       "      <td>0.036491</td>\n",
       "      <td>0.008368</td>\n",
       "      <td>0.080410</td>\n",
       "      <td>0.080410</td>\n",
       "      <td>0.080410</td>\n",
       "      <td>0.080410</td>\n",
       "      <td>0.080410</td>\n",
       "      <td>0.080410</td>\n",
       "      <td>2020-09-08</td>\n",
       "      <td>0</td>\n",
       "    </tr>\n",
       "    <tr>\n",
       "      <th>5</th>\n",
       "      <td>CYE</td>\n",
       "      <td>3.1. A</td>\n",
       "      <td>0.059173</td>\n",
       "      <td>0.036491</td>\n",
       "      <td>0.008368</td>\n",
       "      <td>0.059173</td>\n",
       "      <td>0.036491</td>\n",
       "      <td>0.008368</td>\n",
       "      <td>0.081012</td>\n",
       "      <td>0.081012</td>\n",
       "      <td>0.081012</td>\n",
       "      <td>0.081012</td>\n",
       "      <td>0.081012</td>\n",
       "      <td>0.081012</td>\n",
       "      <td>2020-11-16</td>\n",
       "      <td>0</td>\n",
       "    </tr>\n",
       "  </tbody>\n",
       "</table>\n",
       "</div>"
      ],
      "text/plain": [
       "   Comercializadora  Tarifa  Precio_Potencia_P1  Precio_Potencia_P2  \\\n",
       "29            Audax  3.1. A            0.059173            0.036491   \n",
       "17      Sun_Air_One  3.1. A            0.059173            0.036491   \n",
       "5               CYE  3.1. A            0.059173            0.036491   \n",
       "\n",
       "    Precio_Potencia_P3  Precio_Potencia_P4  Precio_Potencia_P5  \\\n",
       "29            0.008368            0.059173            0.036491   \n",
       "17            0.008368            0.059173            0.036491   \n",
       "5             0.008368            0.059173            0.036491   \n",
       "\n",
       "    Precio_Potencia_P6  Precio_Energía_P1  Precio_Energía_P2  \\\n",
       "29            0.008368           0.078740           0.078740   \n",
       "17            0.008368           0.080410           0.080410   \n",
       "5             0.008368           0.081012           0.081012   \n",
       "\n",
       "    Precio_Energía_P3  Precio_Energía_P4  Precio_Energía_P5  \\\n",
       "29           0.078740           0.078740           0.078740   \n",
       "17           0.080410           0.080410           0.080410   \n",
       "5            0.081012           0.081012           0.081012   \n",
       "\n",
       "    Precio_Energía_P6 Fecha_Inicio Fecha_Finalizacion  \n",
       "29           0.078740   2020-11-17                  0  \n",
       "17           0.080410   2020-09-08                  0  \n",
       "5            0.081012   2020-11-16                  0  "
      ]
     },
     "execution_count": 250,
     "metadata": {},
     "output_type": "execute_result"
    }
   ],
   "source": [
    "top_3_comercializadoras = bd_precios_fijos.iloc[top_3_precios_comercializadoras.index[0:3]]\n",
    "top_3_comercializadoras"
   ]
  },
  {
   "cell_type": "markdown",
   "metadata": {},
   "source": [
    "## Choose The One comercializadora "
   ]
  },
  {
   "cell_type": "code",
   "execution_count": 197,
   "metadata": {},
   "outputs": [
    {
     "data": {
      "text/plain": [
       "29    6712.396851\n",
       "dtype: float64"
      ]
     },
     "execution_count": 197,
     "metadata": {},
     "output_type": "execute_result"
    }
   ],
   "source": [
    "the_one_price = ordenar_comercializadoras.head(n=1)\n",
    "the_one_price\n"
   ]
  },
  {
   "cell_type": "code",
   "execution_count": 228,
   "metadata": {},
   "outputs": [
    {
     "data": {
      "text/html": [
       "<div>\n",
       "<style scoped>\n",
       "    .dataframe tbody tr th:only-of-type {\n",
       "        vertical-align: middle;\n",
       "    }\n",
       "\n",
       "    .dataframe tbody tr th {\n",
       "        vertical-align: top;\n",
       "    }\n",
       "\n",
       "    .dataframe thead th {\n",
       "        text-align: right;\n",
       "    }\n",
       "</style>\n",
       "<table border=\"1\" class=\"dataframe\">\n",
       "  <thead>\n",
       "    <tr style=\"text-align: right;\">\n",
       "      <th></th>\n",
       "      <th>Comercializadora</th>\n",
       "      <th>Tarifa</th>\n",
       "      <th>Precio_Potencia_P1</th>\n",
       "      <th>Precio_Potencia_P2</th>\n",
       "      <th>Precio_Potencia_P3</th>\n",
       "      <th>Precio_Potencia_P4</th>\n",
       "      <th>Precio_Potencia_P5</th>\n",
       "      <th>Precio_Potencia_P6</th>\n",
       "      <th>Precio_Energía_P1</th>\n",
       "      <th>Precio_Energía_P2</th>\n",
       "      <th>Precio_Energía_P3</th>\n",
       "      <th>Precio_Energía_P4</th>\n",
       "      <th>Precio_Energía_P5</th>\n",
       "      <th>Precio_Energía_P6</th>\n",
       "      <th>Fecha_Inicio</th>\n",
       "      <th>Fecha_Finalizacion</th>\n",
       "    </tr>\n",
       "  </thead>\n",
       "  <tbody>\n",
       "    <tr>\n",
       "      <th>29</th>\n",
       "      <td>Audax</td>\n",
       "      <td>3.1. A</td>\n",
       "      <td>0.059173</td>\n",
       "      <td>0.036491</td>\n",
       "      <td>0.008368</td>\n",
       "      <td>0.059173</td>\n",
       "      <td>0.036491</td>\n",
       "      <td>0.008368</td>\n",
       "      <td>0.07874</td>\n",
       "      <td>0.07874</td>\n",
       "      <td>0.07874</td>\n",
       "      <td>0.07874</td>\n",
       "      <td>0.07874</td>\n",
       "      <td>0.07874</td>\n",
       "      <td>2020-11-17</td>\n",
       "      <td>0</td>\n",
       "    </tr>\n",
       "  </tbody>\n",
       "</table>\n",
       "</div>"
      ],
      "text/plain": [
       "   Comercializadora  Tarifa  Precio_Potencia_P1  Precio_Potencia_P2  \\\n",
       "29            Audax  3.1. A            0.059173            0.036491   \n",
       "\n",
       "    Precio_Potencia_P3  Precio_Potencia_P4  Precio_Potencia_P5  \\\n",
       "29            0.008368            0.059173            0.036491   \n",
       "\n",
       "    Precio_Potencia_P6  Precio_Energía_P1  Precio_Energía_P2  \\\n",
       "29            0.008368            0.07874            0.07874   \n",
       "\n",
       "    Precio_Energía_P3  Precio_Energía_P4  Precio_Energía_P5  \\\n",
       "29            0.07874            0.07874            0.07874   \n",
       "\n",
       "    Precio_Energía_P6 Fecha_Inicio Fecha_Finalizacion  \n",
       "29            0.07874   2020-11-17                  0  "
      ]
     },
     "execution_count": 228,
     "metadata": {},
     "output_type": "execute_result"
    }
   ],
   "source": [
    "the_one_comercializadora = bd_precios_fijos.loc[bd_precios_fijos.index == the_one_price.index.values[0]]\n",
    "the_one_comercializadora"
   ]
  },
  {
   "cell_type": "markdown",
   "metadata": {},
   "source": [
    "## Comparativa entre Ahorro Actual y Nuevo "
   ]
  },
  {
   "cell_type": "code",
   "execution_count": 199,
   "metadata": {},
   "outputs": [
    {
     "name": "stderr",
     "output_type": "stream",
     "text": [
      "<ipython-input-192-df35fe2195ee>:19: SettingWithCopyWarning: \n",
      "A value is trying to be set on a copy of a slice from a DataFrame.\n",
      "Try using .loc[row_indexer,col_indexer] = value instead\n",
      "\n",
      "See the caveats in the documentation: https://pandas.pydata.org/pandas-docs/stable/user_guide/indexing.html#returning-a-view-versus-a-copy\n",
      "  precios_vigentes_comercializadora_df[\"precio_contador\"] = bd_cliente_estudio_de_ahorro_modelo[\"Precio_Contador\"].values[0]*365\n"
     ]
    },
    {
     "data": {
      "text/plain": [
       "0    2440.219183\n",
       "dtype: float64"
      ]
     },
     "execution_count": 199,
     "metadata": {},
     "output_type": "execute_result"
    }
   ],
   "source": [
    "ahorro =  importe_factura_año() - importe_nuevas_facturas().values[0]\n",
    "ahorro"
   ]
  },
  {
   "cell_type": "code",
   "execution_count": 200,
   "metadata": {},
   "outputs": [
    {
     "data": {
      "text/plain": [
       "0    26.216892\n",
       "dtype: float64"
      ]
     },
     "execution_count": 200,
     "metadata": {},
     "output_type": "execute_result"
    }
   ],
   "source": [
    "porcentage_de_ahorro = (ahorro/actual_coste_anual_cliente)*100\n",
    "porcentage_de_ahorro"
   ]
  },
  {
   "cell_type": "code",
   "execution_count": 201,
   "metadata": {},
   "outputs": [],
   "source": [
    "### Falta Encajar el precio con el dataframe completo de la comecializadora para sacar todos sus datos. "
   ]
  },
  {
   "cell_type": "markdown",
   "metadata": {},
   "source": [
    "## Mas información para el Cliente en el PDF"
   ]
  },
  {
   "cell_type": "code",
   "execution_count": 202,
   "metadata": {},
   "outputs": [],
   "source": [
    "comercializadora_actual =  bd_cliente_estudio_de_ahorro_modelo[\"Comercializadora\"]"
   ]
  },
  {
   "cell_type": "code",
   "execution_count": 203,
   "metadata": {},
   "outputs": [],
   "source": [
    "precios_energia_actuales = bd_cliente_estudio_de_ahorro_modelo[['Precio_Energia_P1', 'Precio_Energia_P2', 'Precio_Energia_P3', 'Precio_Energia_P4', 'Precio_Energia_P5', 'Precio_Energia_P6']]"
   ]
  },
  {
   "cell_type": "code",
   "execution_count": 204,
   "metadata": {},
   "outputs": [],
   "source": [
    "precios_potencia_actuales = bd_cliente_estudio_de_ahorro_modelo[['Precio_Potencia_P1', 'Precio_Potencia_P2', 'Precio_Potencia_P3', 'Precio_Potencia_P4', 'Precio_Potencia_P5', 'Precio_Potencia_P6']]"
   ]
  },
  {
   "cell_type": "markdown",
   "metadata": {},
   "source": [
    "nueva_comercializadora = \n",
    "nuevos_precios = \n",
    "ahorro_en_5_años = \n",
    "emisiones_ahorradas = "
   ]
  },
  {
   "cell_type": "markdown",
   "metadata": {},
   "source": [
    "## ¿Que información vamos a desplegar del Estudio de Ahorro?"
   ]
  },
  {
   "cell_type": "code",
   "execution_count": null,
   "metadata": {},
   "outputs": [],
   "source": []
  }
 ],
 "metadata": {
  "kernelspec": {
   "display_name": "Python 3",
   "language": "python",
   "name": "python3"
  },
  "language_info": {
   "codemirror_mode": {
    "name": "ipython",
    "version": 3
   },
   "file_extension": ".py",
   "mimetype": "text/x-python",
   "name": "python",
   "nbconvert_exporter": "python",
   "pygments_lexer": "ipython3",
   "version": "3.9.0"
  }
 },
 "nbformat": 4,
 "nbformat_minor": 4
}
