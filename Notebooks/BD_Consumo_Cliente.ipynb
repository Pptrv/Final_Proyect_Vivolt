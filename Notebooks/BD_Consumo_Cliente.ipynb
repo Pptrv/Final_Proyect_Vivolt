{
 "cells": [
  {
   "cell_type": "markdown",
   "metadata": {},
   "source": [
    "# Selenium para descargar base de dato de la intranet de Opción de Energía"
   ]
  },
  {
   "cell_type": "markdown",
   "metadata": {},
   "source": [
    "## Librerías"
   ]
  },
  {
   "cell_type": "code",
   "execution_count": 6,
   "metadata": {},
   "outputs": [],
   "source": [
    "from selenium import webdriver\n",
    "from time import sleep\n",
    "from selenium.webdriver.common.keys import Keys\n",
    "import pandas as pd\n",
    "import glob\n",
    "import os"
   ]
  },
  {
   "cell_type": "markdown",
   "metadata": {},
   "source": [
    "## Page 1 - Login Opcion Comercializadora Intranet"
   ]
  },
  {
   "cell_type": "code",
   "execution_count": 176,
   "metadata": {},
   "outputs": [],
   "source": [
    "driver = webdriver.Chrome(\"../Programas/chromedriver\")"
   ]
  },
  {
   "cell_type": "code",
   "execution_count": 177,
   "metadata": {},
   "outputs": [],
   "source": [
    "url = \"https://canalagentes.opcionenergia.com/authentication/login\""
   ]
  },
  {
   "cell_type": "code",
   "execution_count": 178,
   "metadata": {},
   "outputs": [],
   "source": [
    "driver.get(url)"
   ]
  },
  {
   "cell_type": "code",
   "execution_count": 179,
   "metadata": {},
   "outputs": [],
   "source": [
    "driver.find_element_by_name(\"user\").send_keys(\"vivolt\")\n",
    "driver.find_element_by_name(\"password\").send_keys(\"temporal01vivolt\")\n",
    "driver.find_element_by_xpath(\"/html/body/app-root/app-agents/app-layout/app-login/section/div/div/div/div/form/div[2]/div[5]/div/div/div/button\").send_keys(Keys.RETURN)"
   ]
  },
  {
   "cell_type": "markdown",
   "metadata": {},
   "source": [
    "## Page 2 - Download \"SIPS\""
   ]
  },
  {
   "cell_type": "markdown",
   "metadata": {},
   "source": [
    "Para asignar la variable busco por el xpath, y desde tools de chrome, abro el codigo html y copio el xpath. "
   ]
  },
  {
   "cell_type": "markdown",
   "metadata": {},
   "source": [
    "Pulsando el boton de SIPS:"
   ]
  },
  {
   "cell_type": "code",
   "execution_count": 180,
   "metadata": {},
   "outputs": [],
   "source": [
    "sips = driver.find_element_by_xpath('//*[@id=\"main_navbar\"]/div[2]/div[1]/div[2]/ul[6]/li')"
   ]
  },
  {
   "cell_type": "code",
   "execution_count": 181,
   "metadata": {},
   "outputs": [],
   "source": [
    "sips.click()"
   ]
  },
  {
   "cell_type": "markdown",
   "metadata": {},
   "source": [
    "rellenando el CUPS: # agregar funcion para rellenar el cups desde la API"
   ]
  },
  {
   "cell_type": "code",
   "execution_count": 182,
   "metadata": {},
   "outputs": [],
   "source": [
    "driver.find_element_by_name(\"Cups\").send_keys(\"ES0021000005204736CV\")"
   ]
  },
  {
   "cell_type": "code",
   "execution_count": 183,
   "metadata": {},
   "outputs": [],
   "source": [
    "mostrar_grafico_sips = driver.find_element_by_xpath('//*[@id=\"pcoded\"]/div[2]/div/div/div/div/div/div/div/app-sips/div[2]/div/form/div[2]/div/div[1]/button')"
   ]
  },
  {
   "cell_type": "code",
   "execution_count": 184,
   "metadata": {},
   "outputs": [],
   "source": [
    "mostrar_grafico_sips.click()"
   ]
  },
  {
   "cell_type": "code",
   "execution_count": 185,
   "metadata": {},
   "outputs": [],
   "source": [
    "descargar_csv = driver.find_element_by_xpath('//*[@id=\"pcoded\"]/div[2]/div/div/div/div/div/div/div/app-sips/div[2]/div/form/div[2]/div/div[3]/button')"
   ]
  },
  {
   "cell_type": "code",
   "execution_count": 186,
   "metadata": {},
   "outputs": [],
   "source": [
    "descargar_csv.click()"
   ]
  },
  {
   "cell_type": "markdown",
   "metadata": {},
   "source": [
    "## Funciones para el proceso"
   ]
  },
  {
   "cell_type": "code",
   "execution_count": 17,
   "metadata": {},
   "outputs": [
    {
     "name": "stdout",
     "output_type": "stream",
     "text": [
      "The autoreload extension is already loaded. To reload it, use:\n",
      "  %reload_ext autoreload\n"
     ]
    }
   ],
   "source": [
    "import sys\n",
    "%load_ext autoreload\n",
    "%autoreload 2\n",
    "sys.path.append('../configuration')\n",
    "from config import login_data, client_cups, url"
   ]
  },
  {
   "cell_type": "code",
   "execution_count": 18,
   "metadata": {},
   "outputs": [],
   "source": [
    "#send keys con valores escondidos en config. Por ahora datos insertados de forma manual. "
   ]
  },
  {
   "cell_type": "code",
   "execution_count": 19,
   "metadata": {},
   "outputs": [],
   "source": [
    "def download_consumo(login_data, client_cups, url):\n",
    "    driver = webdriver.Chrome(\"../Programas/chromedriver\")\n",
    "    driver.get(url)\n",
    "    sleep(1.5)\n",
    "    driver.find_element_by_name(\"user\").send_keys(\"vivolt\")\n",
    "    driver.find_element_by_name(\"password\").send_keys(\"temporal01vivolt\")\n",
    "    sleep(0.5)\n",
    "    driver.find_element_by_xpath(\"/html/body/app-root/app-agents/app-layout/app-login/section/div/div/div/div/form/div[2]/div[5]/div/div/div/button\").send_keys(Keys.RETURN)\n",
    "    sleep(1.5)\n",
    "    driver.find_element_by_xpath('//*[@id=\"main_navbar\"]/div[2]/div[1]/div[2]/ul[6]/li').click()\n",
    "    sleep(0.5)\n",
    "    driver.find_element_by_name(\"Cups\").send_keys(\"ES0021000005204736CV\")\n",
    "    sleep(0.5)\n",
    "    driver.find_element_by_xpath('//*[@id=\"pcoded\"]/div[2]/div/div/div/div/div/div/div/app-sips/div[2]/div/form/div[2]/div/div[1]/button').click()\n",
    "    sleep(0.5)\n",
    "    driver.find_element_by_xpath('//*[@id=\"pcoded\"]/div[2]/div/div/div/div/div/div/div/app-sips/div[2]/div/form/div[2]/div/div[3]/button').click()"
   ]
  },
  {
   "cell_type": "code",
   "execution_count": 21,
   "metadata": {},
   "outputs": [],
   "source": [
    "download_consumo(login_data, client_cups, url)"
   ]
  },
  {
   "cell_type": "markdown",
   "metadata": {},
   "source": [
    "## Import CSV"
   ]
  },
  {
   "cell_type": "code",
   "execution_count": 79,
   "metadata": {},
   "outputs": [],
   "source": [
    "def import_ConsumoCliente():\n",
    "    list_of_files = glob.glob('/Users/pptrv/Downloads/*.csv')\n",
    "    latest_file = max(list_of_files, key=os.path.getctime)\n",
    "    data = pd.read_csv(latest_file, sep=\",\", error_bad_lines=False)\n",
    "    return(data)"
   ]
  },
  {
   "cell_type": "code",
   "execution_count": 85,
   "metadata": {},
   "outputs": [],
   "source": [
    "def import_ConsumoCliente():\n",
    "    list_of_files = glob.glob('/Users/pptrv/Downloads/*.csv')\n",
    "    latest_file = max(list_of_files, key=os.path.getctime)\n",
    "    data = pd.read_csv(latest_file, header=None, names=range(5))\n",
    "    table_names = [\"CUPS\", \"Tarifa\", 'P1', 'P2', 'P3', 'P4', 'P5', 'P6','P1', 'P2', 'P3', 'P4', 'P5', 'P6']\n",
    "    groups = data[0].isin(table_names).cumsum()\n",
    "    tables = {g.iloc[0,0]: g.iloc[1:] for k,g in data.groupby(groups)}\n",
    "    return(tables)"
   ]
  },
  {
   "cell_type": "code",
   "execution_count": 86,
   "metadata": {},
   "outputs": [
    {
     "data": {
      "text/plain": [
       "{'CUPS;;ES0021000005204736CV':                                     0    1    2    3    4\n",
       " 1                        Tarifa;;3.0A  NaN  NaN  NaN  NaN\n",
       " 2    Potencia Contratada (kWh);;P1;15  001  NaN  NaN  NaN\n",
       " 3    Potencia Contratada (kWh);;P2;15  001  NaN  NaN  NaN\n",
       " 4    Potencia Contratada (kWh);;P3;15  001  NaN  NaN  NaN\n",
       " 5     Potencia Contratada (kWh);;P4;0  NaN  NaN  NaN  NaN\n",
       " ..                                ...  ...  ...  ...  ...\n",
       " 127                          P2;;7825  NaN  NaN  NaN  NaN\n",
       " 128                           P3;;738  NaN  NaN  NaN  NaN\n",
       " 129                           P4;;156  NaN  NaN  NaN  NaN\n",
       " 130                           P5;;457  NaN  NaN  NaN  NaN\n",
       " 131                           P6;;274  NaN  NaN  NaN  NaN\n",
       " \n",
       " [131 rows x 5 columns]}"
      ]
     },
     "execution_count": 86,
     "metadata": {},
     "output_type": "execute_result"
    }
   ],
   "source": [
    "import_ConsumoCliente()"
   ]
  },
  {
   "cell_type": "markdown",
   "metadata": {},
   "source": [
    "## Cleaning DF"
   ]
  },
  {
   "cell_type": "code",
   "execution_count": null,
   "metadata": {},
   "outputs": [],
   "source": []
  },
  {
   "cell_type": "markdown",
   "metadata": {},
   "source": [
    "## Saving DF to CSV in Final_Proyect_Vivolt/Data/CSV"
   ]
  },
  {
   "cell_type": "code",
   "execution_count": null,
   "metadata": {},
   "outputs": [],
   "source": [
    "consumo_cliente_df.to_csv(\"../Data/csv/consumo_cliente.csv\")"
   ]
  }
 ],
 "metadata": {
  "kernelspec": {
   "display_name": "Python 3",
   "language": "python",
   "name": "python3"
  },
  "language_info": {
   "codemirror_mode": {
    "name": "ipython",
    "version": 3
   },
   "file_extension": ".py",
   "mimetype": "text/x-python",
   "name": "python",
   "nbconvert_exporter": "python",
   "pygments_lexer": "ipython3",
   "version": "3.9.0"
  }
 },
 "nbformat": 4,
 "nbformat_minor": 4
}
