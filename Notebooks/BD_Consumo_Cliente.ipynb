{
 "cells": [
  {
   "cell_type": "markdown",
   "metadata": {},
   "source": [
    "# Selenium para descargar base de dato de la intranet de Opción de Energía"
   ]
  },
  {
   "cell_type": "markdown",
   "metadata": {},
   "source": [
    "## Librerías"
   ]
  },
  {
   "cell_type": "code",
   "execution_count": 38,
   "metadata": {},
   "outputs": [],
   "source": [
    "from selenium import webdriver\n",
    "from time import sleep\n",
    "from selenium.webdriver.common.keys import Keys\n",
    "import pandas as pd\n",
    "import glob\n",
    "import os"
   ]
  },
  {
   "cell_type": "markdown",
   "metadata": {},
   "source": [
    "## Page 1 - Login Opcion Comercializadora Intranet"
   ]
  },
  {
   "cell_type": "code",
   "execution_count": 176,
   "metadata": {},
   "outputs": [],
   "source": [
    "driver = webdriver.Chrome(\"../Programas/chromedriver\")"
   ]
  },
  {
   "cell_type": "code",
   "execution_count": 177,
   "metadata": {},
   "outputs": [],
   "source": [
    "url = \"https://canalagentes.opcionenergia.com/authentication/login\""
   ]
  },
  {
   "cell_type": "code",
   "execution_count": 178,
   "metadata": {},
   "outputs": [],
   "source": [
    "driver.get(url)"
   ]
  },
  {
   "cell_type": "code",
   "execution_count": 179,
   "metadata": {},
   "outputs": [],
   "source": [
    "driver.find_element_by_name(\"user\").send_keys(\"vivolt\")\n",
    "driver.find_element_by_name(\"password\").send_keys(\"temporal01vivolt\")\n",
    "driver.find_element_by_xpath(\"/html/body/app-root/app-agents/app-layout/app-login/section/div/div/div/div/form/div[2]/div[5]/div/div/div/button\").send_keys(Keys.RETURN)"
   ]
  },
  {
   "cell_type": "markdown",
   "metadata": {},
   "source": [
    "## Page 2 - Download \"SIPS\""
   ]
  },
  {
   "cell_type": "markdown",
   "metadata": {},
   "source": [
    "Para asignar la variable busco por el xpath, y desde tools de chrome, abro el codigo html y copio el xpath. "
   ]
  },
  {
   "cell_type": "markdown",
   "metadata": {},
   "source": [
    "Pulsando el boton de SIPS:"
   ]
  },
  {
   "cell_type": "code",
   "execution_count": 180,
   "metadata": {},
   "outputs": [],
   "source": [
    "sips = driver.find_element_by_xpath('//*[@id=\"main_navbar\"]/div[2]/div[1]/div[2]/ul[6]/li')"
   ]
  },
  {
   "cell_type": "code",
   "execution_count": 181,
   "metadata": {},
   "outputs": [],
   "source": [
    "sips.click()"
   ]
  },
  {
   "cell_type": "markdown",
   "metadata": {},
   "source": [
    "rellenando el CUPS: # agregar funcion para rellenar el cups desde la API"
   ]
  },
  {
   "cell_type": "code",
   "execution_count": 182,
   "metadata": {},
   "outputs": [],
   "source": [
    "driver.find_element_by_name(\"Cups\").send_keys(\"ES0021000005204736CV\")"
   ]
  },
  {
   "cell_type": "code",
   "execution_count": 183,
   "metadata": {},
   "outputs": [],
   "source": [
    "mostrar_grafico_sips = driver.find_element_by_xpath('//*[@id=\"pcoded\"]/div[2]/div/div/div/div/div/div/div/app-sips/div[2]/div/form/div[2]/div/div[1]/button')"
   ]
  },
  {
   "cell_type": "code",
   "execution_count": 184,
   "metadata": {},
   "outputs": [],
   "source": [
    "mostrar_grafico_sips.click()"
   ]
  },
  {
   "cell_type": "code",
   "execution_count": 185,
   "metadata": {},
   "outputs": [],
   "source": [
    "descargar_csv = driver.find_element_by_xpath('//*[@id=\"pcoded\"]/div[2]/div/div/div/div/div/div/div/app-sips/div[2]/div/form/div[2]/div/div[3]/button')"
   ]
  },
  {
   "cell_type": "code",
   "execution_count": 186,
   "metadata": {},
   "outputs": [],
   "source": [
    "descargar_csv.click()"
   ]
  },
  {
   "cell_type": "markdown",
   "metadata": {},
   "source": [
    "## Funciones para el proceso"
   ]
  },
  {
   "cell_type": "code",
   "execution_count": 149,
   "metadata": {},
   "outputs": [
    {
     "name": "stdout",
     "output_type": "stream",
     "text": [
      "The autoreload extension is already loaded. To reload it, use:\n",
      "  %reload_ext autoreload\n"
     ]
    }
   ],
   "source": [
    "import sys\n",
    "%load_ext autoreload\n",
    "%autoreload 2\n",
    "sys.path.append('../configuration')\n",
    "from config import login_data, client_cups"
   ]
  },
  {
   "cell_type": "code",
   "execution_count": null,
   "metadata": {},
   "outputs": [],
   "source": [
    "#send keys con valores escondidos en config. Por ahora datos insertados de forma manual. "
   ]
  },
  {
   "cell_type": "code",
   "execution_count": 198,
   "metadata": {},
   "outputs": [],
   "source": [
    "def download_consumo(login_data, client_cups):\n",
    "    driver = webdriver.Chrome(\"../Programas/chromedriver\")\n",
    "    driver.get(url)\n",
    "    sleep(1.5)\n",
    "    driver.find_element_by_name(\"user\").send_keys(\"vivolt\")\n",
    "    driver.find_element_by_name(\"password\").send_keys(\"temporal01vivolt\")\n",
    "    sleep(0.5)\n",
    "    driver.find_element_by_xpath(\"/html/body/app-root/app-agents/app-layout/app-login/section/div/div/div/div/form/div[2]/div[5]/div/div/div/button\").send_keys(Keys.RETURN)\n",
    "    sleep(1.5)\n",
    "    driver.find_element_by_xpath('//*[@id=\"main_navbar\"]/div[2]/div[1]/div[2]/ul[6]/li').click()\n",
    "    sleep(0.5)\n",
    "    driver.find_element_by_name(\"Cups\").send_keys(\"ES0021000005204736CV\")\n",
    "    sleep(0.5)\n",
    "    driver.find_element_by_xpath('//*[@id=\"pcoded\"]/div[2]/div/div/div/div/div/div/div/app-sips/div[2]/div/form/div[2]/div/div[1]/button').click()\n",
    "    sleep(0.5)\n",
    "    driver.find_element_by_xpath('//*[@id=\"pcoded\"]/div[2]/div/div/div/div/div/div/div/app-sips/div[2]/div/form/div[2]/div/div[3]/button').click()"
   ]
  },
  {
   "cell_type": "code",
   "execution_count": 199,
   "metadata": {},
   "outputs": [],
   "source": [
    "download_consumo(login_data, client_cups)"
   ]
  },
  {
   "cell_type": "markdown",
   "metadata": {},
   "source": [
    "## Import CSV"
   ]
  },
  {
   "cell_type": "code",
   "execution_count": 197,
   "metadata": {},
   "outputs": [],
   "source": [
    "def import_ConsumoCliente():\n",
    "    list_of_files = glob.glob('/Users/pptrv/Downloads/*.csv')\n",
    "    latest_file = max(list_of_files, key=os.path.getctime)\n",
    "    data = pd.read_csv(latest_file, error_bad_lines=False, sep=\",\")\n",
    "    return(data)"
   ]
  },
  {
   "cell_type": "code",
   "execution_count": 147,
   "metadata": {},
   "outputs": [
    {
     "name": "stderr",
     "output_type": "stream",
     "text": [
      "b'Skipping line 4: expected 1 fields, saw 2\\nSkipping line 5: expected 1 fields, saw 2\\nSkipping line 6: expected 1 fields, saw 2\\nSkipping line 93: expected 1 fields, saw 7\\nSkipping line 94: expected 1 fields, saw 7\\nSkipping line 95: expected 1 fields, saw 7\\nSkipping line 96: expected 1 fields, saw 7\\nSkipping line 97: expected 1 fields, saw 7\\nSkipping line 98: expected 1 fields, saw 7\\nSkipping line 99: expected 1 fields, saw 7\\nSkipping line 100: expected 1 fields, saw 7\\nSkipping line 101: expected 1 fields, saw 7\\nSkipping line 102: expected 1 fields, saw 7\\nSkipping line 103: expected 1 fields, saw 7\\nSkipping line 104: expected 1 fields, saw 7\\nSkipping line 105: expected 1 fields, saw 7\\nSkipping line 106: expected 1 fields, saw 7\\nSkipping line 107: expected 1 fields, saw 7\\nSkipping line 108: expected 1 fields, saw 7\\nSkipping line 109: expected 1 fields, saw 7\\nSkipping line 110: expected 1 fields, saw 7\\nSkipping line 111: expected 1 fields, saw 7\\nSkipping line 112: expected 1 fields, saw 7\\nSkipping line 113: expected 1 fields, saw 7\\nSkipping line 114: expected 1 fields, saw 7\\nSkipping line 115: expected 1 fields, saw 7\\nSkipping line 116: expected 1 fields, saw 7\\nSkipping line 117: expected 1 fields, saw 7\\nSkipping line 118: expected 1 fields, saw 7\\nSkipping line 119: expected 1 fields, saw 7\\nSkipping line 120: expected 1 fields, saw 7\\nSkipping line 121: expected 1 fields, saw 7\\nSkipping line 122: expected 1 fields, saw 7\\nSkipping line 123: expected 1 fields, saw 7\\nSkipping line 124: expected 1 fields, saw 7\\nSkipping line 125: expected 1 fields, saw 7\\nSkipping line 126: expected 1 fields, saw 7\\nSkipping line 127: expected 1 fields, saw 7\\nSkipping line 128: expected 1 fields, saw 7\\n'\n"
     ]
    },
    {
     "data": {
      "text/html": [
       "<div>\n",
       "<style scoped>\n",
       "    .dataframe tbody tr th:only-of-type {\n",
       "        vertical-align: middle;\n",
       "    }\n",
       "\n",
       "    .dataframe tbody tr th {\n",
       "        vertical-align: top;\n",
       "    }\n",
       "\n",
       "    .dataframe thead th {\n",
       "        text-align: right;\n",
       "    }\n",
       "</style>\n",
       "<table border=\"1\" class=\"dataframe\">\n",
       "  <thead>\n",
       "    <tr style=\"text-align: right;\">\n",
       "      <th></th>\n",
       "      <th>CUPS;;ES0021000005204736CV</th>\n",
       "    </tr>\n",
       "  </thead>\n",
       "  <tbody>\n",
       "    <tr>\n",
       "      <th>0</th>\n",
       "      <td>Tarifa;;3.0A</td>\n",
       "    </tr>\n",
       "    <tr>\n",
       "      <th>1</th>\n",
       "      <td>Potencia Contratada (kWh);;P4;0</td>\n",
       "    </tr>\n",
       "    <tr>\n",
       "      <th>2</th>\n",
       "      <td>Potencia Contratada (kWh);;P5;0</td>\n",
       "    </tr>\n",
       "    <tr>\n",
       "      <th>3</th>\n",
       "      <td>Potencia Contratada (kWh);;P6;0</td>\n",
       "    </tr>\n",
       "    <tr>\n",
       "      <th>4</th>\n",
       "      <td>Tension;;3X400/230</td>\n",
       "    </tr>\n",
       "    <tr>\n",
       "      <th>...</th>\n",
       "      <td>...</td>\n",
       "    </tr>\n",
       "    <tr>\n",
       "      <th>87</th>\n",
       "      <td>P2;;7825</td>\n",
       "    </tr>\n",
       "    <tr>\n",
       "      <th>88</th>\n",
       "      <td>P3;;738</td>\n",
       "    </tr>\n",
       "    <tr>\n",
       "      <th>89</th>\n",
       "      <td>P4;;156</td>\n",
       "    </tr>\n",
       "    <tr>\n",
       "      <th>90</th>\n",
       "      <td>P5;;457</td>\n",
       "    </tr>\n",
       "    <tr>\n",
       "      <th>91</th>\n",
       "      <td>P6;;274</td>\n",
       "    </tr>\n",
       "  </tbody>\n",
       "</table>\n",
       "<p>92 rows × 1 columns</p>\n",
       "</div>"
      ],
      "text/plain": [
       "         CUPS;;ES0021000005204736CV\n",
       "0                      Tarifa;;3.0A\n",
       "1   Potencia Contratada (kWh);;P4;0\n",
       "2   Potencia Contratada (kWh);;P5;0\n",
       "3   Potencia Contratada (kWh);;P6;0\n",
       "4                Tension;;3X400/230\n",
       "..                              ...\n",
       "87                         P2;;7825\n",
       "88                          P3;;738\n",
       "89                          P4;;156\n",
       "90                          P5;;457\n",
       "91                          P6;;274\n",
       "\n",
       "[92 rows x 1 columns]"
      ]
     },
     "execution_count": 147,
     "metadata": {},
     "output_type": "execute_result"
    }
   ],
   "source": [
    "import_ConsumoCliente()"
   ]
  },
  {
   "cell_type": "markdown",
   "metadata": {},
   "source": [
    "## Cleaning DF"
   ]
  },
  {
   "cell_type": "code",
   "execution_count": null,
   "metadata": {},
   "outputs": [],
   "source": []
  },
  {
   "cell_type": "markdown",
   "metadata": {},
   "source": [
    "## Saving DF to CSV in Final_Proyect_Vivolt/Data/CSV"
   ]
  },
  {
   "cell_type": "code",
   "execution_count": null,
   "metadata": {},
   "outputs": [],
   "source": [
    "consumo_cliente_df.to_csv(\"../Data/csv/consumo_cliente.csv\")"
   ]
  }
 ],
 "metadata": {
  "kernelspec": {
   "display_name": "Python 3",
   "language": "python",
   "name": "python3"
  },
  "language_info": {
   "codemirror_mode": {
    "name": "ipython",
    "version": 3
   },
   "file_extension": ".py",
   "mimetype": "text/x-python",
   "name": "python",
   "nbconvert_exporter": "python",
   "pygments_lexer": "ipython3",
   "version": "3.9.0"
  }
 },
 "nbformat": 4,
 "nbformat_minor": 4
}
