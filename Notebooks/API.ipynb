{
 "cells": [
  {
   "cell_type": "markdown",
   "metadata": {},
   "source": [
    "Estructura de la API: \n",
    "   - Inicio: mensaje de esto es el comparador de vivolt. Meter logo. \n",
    "   - Te da la opción de elegir si actualizar la base de datos de precios de las comercializadoras o meter los parametros del cliente para estudio de ahorro. preguntar a jeuss lo hizo para su proyecto de forma tan visual. \n",
    "   - Tripas de la API. Realizar el estudio de ahorro. \n",
    "   - Imprimir el estudio de ahorro. "
   ]
  },
  {
   "cell_type": "markdown",
   "metadata": {},
   "source": [
    "## Librerías"
   ]
  },
  {
   "cell_type": "code",
   "execution_count": 1,
   "metadata": {},
   "outputs": [],
   "source": [
    "from flask import Flask, request\n",
    "import pandas as pd"
   ]
  },
  {
   "cell_type": "markdown",
   "metadata": {},
   "source": [
    "## Iniciando API"
   ]
  },
  {
   "cell_type": "code",
   "execution_count": 2,
   "metadata": {
    "scrolled": true
   },
   "outputs": [
    {
     "data": {
      "text/plain": [
       "'app = Flask (__name__)\\n\\n@app.route(\"/\")\\ndef inicial():\\n    return \"Bienvienido al estudio de ahorro VIVOLT \"\\n\\n\\n\\nif __name__ == \"__main__\":\\n    app.run(debug=False)'"
      ]
     },
     "execution_count": 2,
     "metadata": {},
     "output_type": "execute_result"
    }
   ],
   "source": [
    "app = Flask (__name__)\n",
    "\n",
    "@app.route(\"/\")\n",
    "def inicial():\n",
    "    return \"Bienvienido al Estudio de Ahorro VIVOLT \"\n",
    "\n",
    "\n",
    "\n",
    "if __name__ == \"__main__\":\n",
    "    app.run(debug=False)"
   ]
  },
  {
   "cell_type": "markdown",
   "metadata": {},
   "source": [
    "## DF para API"
   ]
  },
  {
   "cell_type": "code",
   "execution_count": null,
   "metadata": {},
   "outputs": [],
   "source": [
    "data = pd.read_csv('../data/hp_script.csv',encoding='cp1252')\n",
    "data.head()"
   ]
  },
  {
   "cell_type": "markdown",
   "metadata": {},
   "source": [
    "## Llamadas a nuestra API para PUSH datos"
   ]
  },
  {
   "cell_type": "code",
   "execution_count": null,
   "metadata": {},
   "outputs": [],
   "source": []
  }
 ],
 "metadata": {
  "kernelspec": {
   "display_name": "Python 3",
   "language": "python",
   "name": "python3"
  },
  "language_info": {
   "codemirror_mode": {
    "name": "ipython",
    "version": 3
   },
   "file_extension": ".py",
   "mimetype": "text/x-python",
   "name": "python",
   "nbconvert_exporter": "python",
   "pygments_lexer": "ipython3",
   "version": "3.9.0"
  }
 },
 "nbformat": 4,
 "nbformat_minor": 4
}
