{
 "cells": [
  {
   "cell_type": "markdown",
   "metadata": {},
   "source": [
    "Estructura de la API: \n",
    "   - Inicio: mensaje de esto es el comparador de vivolt. Meter logo. \n",
    "   - Te da la opción de elegir si actualizar la base de datos de precios de las comercializadoras o meter los parametros del cliente para estudio de ahorro. preguntar a jeuss lo hizo para su proyecto de forma tan visual. \n",
    "   - Tripas de la API. Realizar el estudio de ahorro. \n",
    "   - Imprimir el estudio de ahorro. "
   ]
  },
  {
   "cell_type": "code",
   "execution_count": null,
   "metadata": {},
   "outputs": [],
   "source": []
  }
 ],
 "metadata": {
  "kernelspec": {
   "display_name": "Python 3",
   "language": "python",
   "name": "python3"
  },
  "language_info": {
   "codemirror_mode": {
    "name": "ipython",
    "version": 3
   },
   "file_extension": ".py",
   "mimetype": "text/x-python",
   "name": "python",
   "nbconvert_exporter": "python",
   "pygments_lexer": "ipython3",
   "version": "3.9.0"
  }
 },
 "nbformat": 4,
 "nbformat_minor": 4
}
