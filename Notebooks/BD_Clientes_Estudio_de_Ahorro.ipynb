{
 "cells": [
  {
   "cell_type": "markdown",
   "metadata": {},
   "source": [
    "BD en SQL que se genera cuando se rellena la info del cliente para hacer el estudio de ahorro. "
   ]
  },
  {
   "cell_type": "markdown",
   "metadata": {},
   "source": [
    "## Librerías"
   ]
  },
  {
   "cell_type": "code",
   "execution_count": 2,
   "metadata": {},
   "outputs": [],
   "source": [
    "import pandas as pd\n",
    "from pandas import ExcelWriter\n",
    "from pandas import ExcelFile\n",
    "import seaborn as sns"
   ]
  },
  {
   "cell_type": "markdown",
   "metadata": {},
   "source": [
    "## Calling Excel"
   ]
  },
  {
   "cell_type": "code",
   "execution_count": 5,
   "metadata": {},
   "outputs": [
    {
     "data": {
      "text/html": [
       "<div>\n",
       "<style scoped>\n",
       "    .dataframe tbody tr th:only-of-type {\n",
       "        vertical-align: middle;\n",
       "    }\n",
       "\n",
       "    .dataframe tbody tr th {\n",
       "        vertical-align: top;\n",
       "    }\n",
       "\n",
       "    .dataframe thead th {\n",
       "        text-align: right;\n",
       "    }\n",
       "</style>\n",
       "<table border=\"1\" class=\"dataframe\">\n",
       "  <thead>\n",
       "    <tr style=\"text-align: right;\">\n",
       "      <th></th>\n",
       "      <th>Cliente:</th>\n",
       "      <th>Unnamed: 1</th>\n",
       "      <th>Unnamed: 2</th>\n",
       "      <th>Unnamed: 3</th>\n",
       "      <th>Unnamed: 4</th>\n",
       "      <th>Establecimiento:</th>\n",
       "      <th>Unnamed: 6</th>\n",
       "      <th>Unnamed: 7</th>\n",
       "      <th>Unnamed: 8</th>\n",
       "      <th>Unnamed: 9</th>\n",
       "      <th>...</th>\n",
       "      <th>Unnamed: 87</th>\n",
       "      <th>Unnamed: 88</th>\n",
       "      <th>Unnamed: 89</th>\n",
       "      <th>Unnamed: 90</th>\n",
       "      <th>Unnamed: 91</th>\n",
       "      <th>Unnamed: 92</th>\n",
       "      <th>Unnamed: 93</th>\n",
       "      <th>Unnamed: 94</th>\n",
       "      <th>Unnamed: 95</th>\n",
       "      <th>Unnamed: 96</th>\n",
       "    </tr>\n",
       "  </thead>\n",
       "  <tbody>\n",
       "    <tr>\n",
       "      <th>0</th>\n",
       "      <td>NaN</td>\n",
       "      <td>NaN</td>\n",
       "      <td>NaN</td>\n",
       "      <td>NaN</td>\n",
       "      <td>NaN</td>\n",
       "      <td>NaN</td>\n",
       "      <td>NaN</td>\n",
       "      <td>NaN</td>\n",
       "      <td>NaN</td>\n",
       "      <td>NaN</td>\n",
       "      <td>...</td>\n",
       "      <td>NaN</td>\n",
       "      <td>NaN</td>\n",
       "      <td>NaN</td>\n",
       "      <td>NaN</td>\n",
       "      <td>NaN</td>\n",
       "      <td>NaN</td>\n",
       "      <td>NaN</td>\n",
       "      <td>NaN</td>\n",
       "      <td>NaN</td>\n",
       "      <td>NaN</td>\n",
       "    </tr>\n",
       "    <tr>\n",
       "      <th>1</th>\n",
       "      <td>Información del cliente</td>\n",
       "      <td>NaN</td>\n",
       "      <td>NaN</td>\n",
       "      <td>NaN</td>\n",
       "      <td>NaN</td>\n",
       "      <td>Información del establecimiento</td>\n",
       "      <td>NaN</td>\n",
       "      <td>NaN</td>\n",
       "      <td>NaN</td>\n",
       "      <td>NaN</td>\n",
       "      <td>...</td>\n",
       "      <td>NaN</td>\n",
       "      <td>Ahorro tarifario + otros servicios</td>\n",
       "      <td>NaN</td>\n",
       "      <td>NaN</td>\n",
       "      <td>Ahorro final</td>\n",
       "      <td>NaN</td>\n",
       "      <td>NaN</td>\n",
       "      <td>NaN</td>\n",
       "      <td>NaN</td>\n",
       "      <td>NaN</td>\n",
       "    </tr>\n",
       "    <tr>\n",
       "      <th>2</th>\n",
       "      <td>Titular de la Cuenta</td>\n",
       "      <td>CIF / NIF</td>\n",
       "      <td>Persona de contacto</td>\n",
       "      <td>E-mail</td>\n",
       "      <td>Telefono</td>\n",
       "      <td>Codigo Cups</td>\n",
       "      <td>Dirección completa</td>\n",
       "      <td>Calle</td>\n",
       "      <td>Numero</td>\n",
       "      <td>Piso</td>\n",
       "      <td>...</td>\n",
       "      <td>Ahorro otros servicios (€/año)</td>\n",
       "      <td>€</td>\n",
       "      <td>%</td>\n",
       "      <td>Posible penalización (€)</td>\n",
       "      <td>€</td>\n",
       "      <td>%</td>\n",
       "      <td>Comision Vivolt</td>\n",
       "      <td>Comision Vivolt real</td>\n",
       "      <td>Alta cliente Vivolt</td>\n",
       "      <td>Alta cliente nueva comercializadora</td>\n",
       "    </tr>\n",
       "    <tr>\n",
       "      <th>3</th>\n",
       "      <td>Jaime Giron -Clinica Dentista</td>\n",
       "      <td>B85575702</td>\n",
       "      <td>Jaime Giron -Clinica Dentista</td>\n",
       "      <td>NaN</td>\n",
       "      <td>NaN</td>\n",
       "      <td>ES0021000004008340YN</td>\n",
       "      <td>C/ AZALEA, 1-E, 2o 1, 28109, ALCOBENDAS (MADRID)</td>\n",
       "      <td>NaN</td>\n",
       "      <td>NaN</td>\n",
       "      <td>NaN</td>\n",
       "      <td>...</td>\n",
       "      <td>0</td>\n",
       "      <td>NaN</td>\n",
       "      <td>0</td>\n",
       "      <td>-62.1151</td>\n",
       "      <td>NaN</td>\n",
       "      <td>0</td>\n",
       "      <td>NaN</td>\n",
       "      <td>NaN</td>\n",
       "      <td>NaN</td>\n",
       "      <td>NaN</td>\n",
       "    </tr>\n",
       "  </tbody>\n",
       "</table>\n",
       "<p>4 rows × 97 columns</p>\n",
       "</div>"
      ],
      "text/plain": [
       "                        Cliente: Unnamed: 1                     Unnamed: 2  \\\n",
       "0                            NaN        NaN                            NaN   \n",
       "1        Información del cliente        NaN                            NaN   \n",
       "2           Titular de la Cuenta  CIF / NIF            Persona de contacto   \n",
       "3  Jaime Giron -Clinica Dentista  B85575702  Jaime Giron -Clinica Dentista   \n",
       "\n",
       "  Unnamed: 3 Unnamed: 4                 Establecimiento:  \\\n",
       "0        NaN        NaN                              NaN   \n",
       "1        NaN        NaN  Información del establecimiento   \n",
       "2     E-mail   Telefono                      Codigo Cups   \n",
       "3        NaN        NaN             ES0021000004008340YN   \n",
       "\n",
       "                                         Unnamed: 6 Unnamed: 7 Unnamed: 8  \\\n",
       "0                                               NaN        NaN        NaN   \n",
       "1                                               NaN        NaN        NaN   \n",
       "2                                Dirección completa      Calle     Numero   \n",
       "3  C/ AZALEA, 1-E, 2o 1, 28109, ALCOBENDAS (MADRID)        NaN        NaN   \n",
       "\n",
       "  Unnamed: 9  ...                     Unnamed: 87  \\\n",
       "0        NaN  ...                             NaN   \n",
       "1        NaN  ...                             NaN   \n",
       "2       Piso  ...  Ahorro otros servicios (€/año)   \n",
       "3        NaN  ...                               0   \n",
       "\n",
       "                          Unnamed: 88 Unnamed: 89               Unnamed: 90  \\\n",
       "0                                 NaN         NaN                       NaN   \n",
       "1  Ahorro tarifario + otros servicios         NaN                       NaN   \n",
       "2                                   €           %  Posible penalización (€)   \n",
       "3                                 NaN           0                  -62.1151   \n",
       "\n",
       "    Unnamed: 91 Unnamed: 92      Unnamed: 93           Unnamed: 94  \\\n",
       "0           NaN         NaN              NaN                   NaN   \n",
       "1  Ahorro final         NaN              NaN                   NaN   \n",
       "2             €           %  Comision Vivolt  Comision Vivolt real   \n",
       "3           NaN           0              NaN                   NaN   \n",
       "\n",
       "           Unnamed: 95                          Unnamed: 96  \n",
       "0                  NaN                                  NaN  \n",
       "1                  NaN                                  NaN  \n",
       "2  Alta cliente Vivolt  Alta cliente nueva comercializadora  \n",
       "3                  NaN                                  NaN  \n",
       "\n",
       "[4 rows x 97 columns]"
      ]
     },
     "execution_count": 5,
     "metadata": {},
     "output_type": "execute_result"
    }
   ],
   "source": [
    "cliente_estudio_de_ahorro = pd.read_excel(\"../Data/BD_Clientes_Estudio_de_Ahorro.xlsx\", engine='openpyxl')\n",
    "cliente_estudio_de_ahorro"
   ]
  },
  {
   "cell_type": "markdown",
   "metadata": {},
   "source": [
    "## Clean DF"
   ]
  },
  {
   "cell_type": "markdown",
   "metadata": {},
   "source": [
    "Quiero tener subtitulos en las columnas. porque algunas filas, son en realidad los titulos y subtitulos"
   ]
  },
  {
   "cell_type": "markdown",
   "metadata": {},
   "source": [
    "## Transform DF to JSON"
   ]
  },
  {
   "cell_type": "code",
   "execution_count": null,
   "metadata": {},
   "outputs": [],
   "source": [
    "cliente_estudio_de_ahorro.to_json(\"Data/cliente_estudio_de_ahorro.json\", orient=\"records\")"
   ]
  }
 ],
 "metadata": {
  "kernelspec": {
   "display_name": "Python 3",
   "language": "python",
   "name": "python3"
  },
  "language_info": {
   "codemirror_mode": {
    "name": "ipython",
    "version": 3
   },
   "file_extension": ".py",
   "mimetype": "text/x-python",
   "name": "python",
   "nbconvert_exporter": "python",
   "pygments_lexer": "ipython3",
   "version": "3.9.0"
  }
 },
 "nbformat": 4,
 "nbformat_minor": 4
}
