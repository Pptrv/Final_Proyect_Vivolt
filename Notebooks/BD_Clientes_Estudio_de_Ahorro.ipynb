{
 "cells": [
  {
   "cell_type": "markdown",
   "metadata": {},
   "source": [
    "BD en SQL que se genera cuando se rellena la info del cliente para hacer el estudio de ahorro. "
   ]
  },
  {
   "cell_type": "markdown",
   "metadata": {},
   "source": [
    "## Librerías"
   ]
  },
  {
   "cell_type": "code",
   "execution_count": 1,
   "metadata": {},
   "outputs": [],
   "source": [
    "import pandas as pd\n",
    "from pandas import ExcelWriter\n",
    "from pandas import ExcelFile\n",
    "import seaborn as sns"
   ]
  },
  {
   "cell_type": "markdown",
   "metadata": {},
   "source": [
    "## Calling Excel"
   ]
  },
  {
   "cell_type": "code",
   "execution_count": 3,
   "metadata": {},
   "outputs": [
    {
     "data": {
      "text/html": [
       "<div>\n",
       "<style scoped>\n",
       "    .dataframe tbody tr th:only-of-type {\n",
       "        vertical-align: middle;\n",
       "    }\n",
       "\n",
       "    .dataframe tbody tr th {\n",
       "        vertical-align: top;\n",
       "    }\n",
       "\n",
       "    .dataframe thead th {\n",
       "        text-align: right;\n",
       "    }\n",
       "</style>\n",
       "<table border=\"1\" class=\"dataframe\">\n",
       "  <thead>\n",
       "    <tr style=\"text-align: right;\">\n",
       "      <th></th>\n",
       "      <th>Titular_de_la_Cuenta</th>\n",
       "      <th>CIF_/_NIF</th>\n",
       "      <th>Persona_de_Contacto</th>\n",
       "      <th>Email</th>\n",
       "      <th>Telefono</th>\n",
       "      <th>Cups</th>\n",
       "      <th>Dirección_completa</th>\n",
       "      <th>Tipo_de_cliente</th>\n",
       "      <th>Subtipo_de_cliente</th>\n",
       "      <th>Mercado_regulado</th>\n",
       "      <th>...</th>\n",
       "      <th>Precio_Energia_P5</th>\n",
       "      <th>Precio_Energia_P6</th>\n",
       "      <th>Precio_Potencia_P1</th>\n",
       "      <th>Precio_Potencia_P2</th>\n",
       "      <th>Precio_Potencia_P3</th>\n",
       "      <th>Precio_Potencia_P4</th>\n",
       "      <th>Precio_Potencia_P5</th>\n",
       "      <th>Precio_Potencia_P6</th>\n",
       "      <th>Precio_Contador</th>\n",
       "      <th>Precio_Otros _Servicios_€/mes</th>\n",
       "    </tr>\n",
       "  </thead>\n",
       "  <tbody>\n",
       "    <tr>\n",
       "      <th>0</th>\n",
       "      <td>NaN</td>\n",
       "      <td>NaN</td>\n",
       "      <td>NaN</td>\n",
       "      <td>NaN</td>\n",
       "      <td>NaN</td>\n",
       "      <td>NaN</td>\n",
       "      <td>NaN</td>\n",
       "      <td>NaN</td>\n",
       "      <td>NaN</td>\n",
       "      <td>NaN</td>\n",
       "      <td>...</td>\n",
       "      <td>NaN</td>\n",
       "      <td>NaN</td>\n",
       "      <td>NaN</td>\n",
       "      <td>NaN</td>\n",
       "      <td>NaN</td>\n",
       "      <td>NaN</td>\n",
       "      <td>NaN</td>\n",
       "      <td>NaN</td>\n",
       "      <td>NaN</td>\n",
       "      <td>NaN</td>\n",
       "    </tr>\n",
       "  </tbody>\n",
       "</table>\n",
       "<p>1 rows × 32 columns</p>\n",
       "</div>"
      ],
      "text/plain": [
       "   Titular_de_la_Cuenta  CIF_/_NIF  Persona_de_Contacto  Email  Telefono  \\\n",
       "0                   NaN        NaN                  NaN    NaN       NaN   \n",
       "\n",
       "   Cups  Dirección_completa  Tipo_de_cliente  Subtipo_de_cliente  \\\n",
       "0   NaN                 NaN              NaN                 NaN   \n",
       "\n",
       "   Mercado_regulado  ...  Precio_Energia_P5  Precio_Energia_P6  \\\n",
       "0               NaN  ...                NaN                NaN   \n",
       "\n",
       "   Precio_Potencia_P1  Precio_Potencia_P2  Precio_Potencia_P3  \\\n",
       "0                 NaN                 NaN                 NaN   \n",
       "\n",
       "   Precio_Potencia_P4  Precio_Potencia_P5  Precio_Potencia_P6  \\\n",
       "0                 NaN                 NaN                 NaN   \n",
       "\n",
       "   Precio_Contador  Precio_Otros _Servicios_€/mes  \n",
       "0              NaN                            NaN  \n",
       "\n",
       "[1 rows x 32 columns]"
      ]
     },
     "execution_count": 3,
     "metadata": {},
     "output_type": "execute_result"
    }
   ],
   "source": [
    "cliente_estudio_de_ahorro = pd.read_excel(\"../Data/BD_Clientes_Estudio_de_Ahorro.xlsx\", engine='openpyxl')\n",
    "cliente_estudio_de_ahorro"
   ]
  },
  {
   "cell_type": "code",
   "execution_count": 10,
   "metadata": {},
   "outputs": [
    {
     "data": {
      "text/plain": [
       "Index(['Titular_de_la_Cuenta', 'CIF_/_NIF', 'Persona_de_Contacto', 'Email',\n",
       "       'Telefono', 'Cups', 'Dirección_completa', 'Tipo_de_cliente',\n",
       "       'Subtipo_de_cliente', 'Mercado_regulado', 'Bono_social',\n",
       "       'Fecha_inicio_del_contrato', 'Fecha_final_del_contrato',\n",
       "       '#_contrato_suministro', 'Permanencia',\n",
       "       'Periodo_facturado_(factura_enviada)', 'Comercializadora', 'Tarifa',\n",
       "       'Precio_Energia_P1', 'Precio_Energia_P2', 'Precio_Energia_P3',\n",
       "       'Precio_Energia_P4', 'Precio_Energia_P5', 'Precio_Energia_P6',\n",
       "       'Precio_Potencia_P1', 'Precio_Potencia_P2', 'Precio_Potencia_P3',\n",
       "       'Precio_Potencia_P4', 'Precio_Potencia_P5', 'Precio_Potencia_P6',\n",
       "       'Precio_Contador', 'Precio_Otros _Servicios_€/mes'],\n",
       "      dtype='object')"
      ]
     },
     "execution_count": 10,
     "metadata": {},
     "output_type": "execute_result"
    }
   ],
   "source": [
    "cliente_estudio_de_ahorro.columns"
   ]
  },
  {
   "cell_type": "markdown",
   "metadata": {},
   "source": [
    "## Transform DF to JSON"
   ]
  },
  {
   "cell_type": "code",
   "execution_count": 5,
   "metadata": {},
   "outputs": [],
   "source": [
    "cliente_estudio_de_ahorro.to_json(\"../Data/json_estudios_de_ahorro clientes/cliente_estudio_de_ahorro_\"cliente_estudio_de_ahorro.Titular_de_la_Cuenta[0]\".json\", orient=\"records\")"
   ]
  },
  {
   "cell_type": "markdown",
   "metadata": {},
   "source": [
    "## Transform DF to CSV"
   ]
  },
  {
   "cell_type": "code",
   "execution_count": 9,
   "metadata": {},
   "outputs": [],
   "source": [
    "cliente_estudio_de_ahorro.to_csv(\"../Data/cliente_estudio_de_ahorro_modelo.csv\")"
   ]
  },
  {
   "cell_type": "markdown",
   "metadata": {},
   "source": [
    "## Crear Tabla en SQL"
   ]
  },
  {
   "cell_type": "code",
   "execution_count": null,
   "metadata": {},
   "outputs": [],
   "source": [
    "\n",
    "# Copiar este en mysql para crear tabla. \n",
    "\n",
    "USE VIVOLT;\n",
    "CREATE TABLE parametros_estudio_de_ahorro (\n",
    "\tTitular_de_la_Cuenta VARCHAR(100)\n",
    "\tCIF_/_NIF VARCHAR(10)\n",
    "\tPersona_de_Contacto\n",
    "\tEmail\n",
    "\tTelefono\n",
    "\tCups INT \n",
    "\tDirección_completa\n",
    "\tTipo_de_cliente\n",
    "\tSubtipo_de_cliente\n",
    "\tMercado_regulado\n",
    "\tBono_social\n",
    "\tFecha_inicio_del_contrato\n",
    "\tFecha_final_del_contrato\n",
    "\tNum_contrato_suministro \n",
    "\tPermanencia\n",
    "\tPeriodo_facturado_(factura_enviada)\n",
    "\tComercializadora\n",
    "\tTarifa\n",
    "\tPrecio_Energia_P1\n",
    "\tPrecio_Energia_P2\n",
    "\tPrecio_Energia_P3\n",
    "\tPrecio_Energia_P4\n",
    "\tPrecio_Energia_P5\n",
    "\tPrecio_Energia_P6\n",
    "\tPrecio_Potencia_P1\n",
    "\tPrecio_Potencia_P2\n",
    "\tPrecio_Potencia_P3\n",
    "\tPrecio_Potencia_P4\n",
    "\tPrecio_Potencia_P5\n",
    "\tPrecio_Potencia_P6\n",
    "\tPrecio_Contador\n",
    "\tPrecio_Otros _Servicios_€/mes\n",
    ")\n",
    ";"
   ]
  }
 ],
 "metadata": {
  "kernelspec": {
   "display_name": "Python 3",
   "language": "python",
   "name": "python3"
  },
  "language_info": {
   "codemirror_mode": {
    "name": "ipython",
    "version": 3
   },
   "file_extension": ".py",
   "mimetype": "text/x-python",
   "name": "python",
   "nbconvert_exporter": "python",
   "pygments_lexer": "ipython3",
   "version": "3.9.0"
  }
 },
 "nbformat": 4,
 "nbformat_minor": 4
}
