{
 "cells": [
  {
   "cell_type": "markdown",
   "metadata": {},
   "source": [
    "BD en SQL que se genera cuando se rellena la info del cliente para hacer el estudio de ahorro. "
   ]
  },
  {
   "cell_type": "markdown",
   "metadata": {},
   "source": [
    "## Librerías"
   ]
  },
  {
   "cell_type": "code",
   "execution_count": 4,
   "metadata": {},
   "outputs": [],
   "source": [
    "import pandas as pd\n",
    "from pandas import ExcelWriter\n",
    "from pandas import ExcelFile\n",
    "import seaborn as sns"
   ]
  },
  {
   "cell_type": "markdown",
   "metadata": {},
   "source": [
    "## Calling Excel"
   ]
  },
  {
   "cell_type": "code",
   "execution_count": 5,
   "metadata": {},
   "outputs": [
    {
     "data": {
      "text/html": [
       "<div>\n",
       "<style scoped>\n",
       "    .dataframe tbody tr th:only-of-type {\n",
       "        vertical-align: middle;\n",
       "    }\n",
       "\n",
       "    .dataframe tbody tr th {\n",
       "        vertical-align: top;\n",
       "    }\n",
       "\n",
       "    .dataframe thead th {\n",
       "        text-align: right;\n",
       "    }\n",
       "</style>\n",
       "<table border=\"1\" class=\"dataframe\">\n",
       "  <thead>\n",
       "    <tr style=\"text-align: right;\">\n",
       "      <th></th>\n",
       "      <th>Titular_de_la_Cuenta</th>\n",
       "      <th>CIF_/_NIF</th>\n",
       "      <th>Persona_de_Contacto</th>\n",
       "      <th>Email</th>\n",
       "      <th>Telefono</th>\n",
       "      <th>Cups</th>\n",
       "      <th>Dirección_completa</th>\n",
       "      <th>Tipo_de_cliente</th>\n",
       "      <th>Subtipo_de_cliente</th>\n",
       "      <th>Mercado_regulado</th>\n",
       "      <th>...</th>\n",
       "      <th>Precio_Energia_P5</th>\n",
       "      <th>Precio_Energia_P6</th>\n",
       "      <th>Precio_Potencia_P1</th>\n",
       "      <th>Precio_Potencia_P2</th>\n",
       "      <th>Precio_Potencia_P3</th>\n",
       "      <th>Precio_Potencia_P4</th>\n",
       "      <th>Precio_Potencia_P5</th>\n",
       "      <th>Precio_Potencia_P6</th>\n",
       "      <th>Precio_Contador</th>\n",
       "      <th>Precio_Otros _Servicios_€/mes</th>\n",
       "    </tr>\n",
       "  </thead>\n",
       "  <tbody>\n",
       "    <tr>\n",
       "      <th>0</th>\n",
       "      <td>Azaya, S.L.</td>\n",
       "      <td>B56445566</td>\n",
       "      <td>Amalia Zunzunegui</td>\n",
       "      <td>trv.pepe@gmail.com</td>\n",
       "      <td>699792928</td>\n",
       "      <td>ES0021000007463134RE</td>\n",
       "      <td>Cmno Estrella Torre Tolanca, Km 7,5, 45100 Son...</td>\n",
       "      <td>Empresa</td>\n",
       "      <td>Finca Rustica</td>\n",
       "      <td>no</td>\n",
       "      <td>...</td>\n",
       "      <td>0.114617</td>\n",
       "      <td>0.094279</td>\n",
       "      <td>0.162119</td>\n",
       "      <td>0.099974</td>\n",
       "      <td>0.022925</td>\n",
       "      <td>0.162119</td>\n",
       "      <td>0.099974</td>\n",
       "      <td>0.022925</td>\n",
       "      <td>0.394474</td>\n",
       "      <td>0</td>\n",
       "    </tr>\n",
       "  </tbody>\n",
       "</table>\n",
       "<p>1 rows × 33 columns</p>\n",
       "</div>"
      ],
      "text/plain": [
       "  Titular_de_la_Cuenta  CIF_/_NIF Persona_de_Contacto               Email  \\\n",
       "0          Azaya, S.L.  B56445566   Amalia Zunzunegui  trv.pepe@gmail.com   \n",
       "\n",
       "    Telefono                  Cups  \\\n",
       "0  699792928  ES0021000007463134RE   \n",
       "\n",
       "                                  Dirección_completa Tipo_de_cliente  \\\n",
       "0  Cmno Estrella Torre Tolanca, Km 7,5, 45100 Son...         Empresa   \n",
       "\n",
       "  Subtipo_de_cliente Mercado_regulado  ... Precio_Energia_P5  \\\n",
       "0      Finca Rustica               no  ...          0.114617   \n",
       "\n",
       "  Precio_Energia_P6 Precio_Potencia_P1  Precio_Potencia_P2 Precio_Potencia_P3  \\\n",
       "0          0.094279           0.162119            0.099974           0.022925   \n",
       "\n",
       "   Precio_Potencia_P4 Precio_Potencia_P5 Precio_Potencia_P6 Precio_Contador  \\\n",
       "0            0.162119           0.099974           0.022925        0.394474   \n",
       "\n",
       "   Precio_Otros _Servicios_€/mes  \n",
       "0                              0  \n",
       "\n",
       "[1 rows x 33 columns]"
      ]
     },
     "execution_count": 5,
     "metadata": {},
     "output_type": "execute_result"
    }
   ],
   "source": [
    "cliente_estudio_de_ahorro = pd.read_excel(\"../Data/excel/BD_Clientes_Estudio_de_Ahorro.xlsx\", engine='openpyxl')\n",
    "cliente_estudio_de_ahorro"
   ]
  },
  {
   "cell_type": "code",
   "execution_count": 6,
   "metadata": {
    "scrolled": true
   },
   "outputs": [
    {
     "data": {
      "text/plain": [
       "Index(['Titular_de_la_Cuenta', 'CIF_/_NIF', 'Persona_de_Contacto', 'Email',\n",
       "       'Telefono', 'Cups', 'Dirección_completa', 'Tipo_de_cliente',\n",
       "       'Subtipo_de_cliente', 'Mercado_regulado', 'Bono_social',\n",
       "       'Fecha_inicio_del_contrato', 'Fecha_final_del_contrato',\n",
       "       '#_contrato_suministro', 'Permanencia',\n",
       "       'Periodo_facturado_(factura_enviada)', 'Comercializadora',\n",
       "       'Index_o_Fijo', 'Tarifa', 'Precio_Energia_P1', 'Precio_Energia_P2',\n",
       "       'Precio_Energia_P3', 'Precio_Energia_P4', 'Precio_Energia_P5',\n",
       "       'Precio_Energia_P6', 'Precio_Potencia_P1', 'Precio_Potencia_P2',\n",
       "       'Precio_Potencia_P3', 'Precio_Potencia_P4', 'Precio_Potencia_P5',\n",
       "       'Precio_Potencia_P6', 'Precio_Contador',\n",
       "       'Precio_Otros _Servicios_€/mes'],\n",
       "      dtype='object')"
      ]
     },
     "execution_count": 6,
     "metadata": {},
     "output_type": "execute_result"
    }
   ],
   "source": [
    "cliente_estudio_de_ahorro.columns"
   ]
  },
  {
   "cell_type": "code",
   "execution_count": 7,
   "metadata": {},
   "outputs": [
    {
     "data": {
      "text/plain": [
       "Titular_de_la_Cuenta                    object\n",
       "CIF_/_NIF                               object\n",
       "Persona_de_Contacto                     object\n",
       "Email                                   object\n",
       "Telefono                                 int64\n",
       "Cups                                    object\n",
       "Dirección_completa                      object\n",
       "Tipo_de_cliente                         object\n",
       "Subtipo_de_cliente                      object\n",
       "Mercado_regulado                        object\n",
       "Bono_social                             object\n",
       "Fecha_inicio_del_contrato               object\n",
       "Fecha_final_del_contrato                object\n",
       "#_contrato_suministro                    int64\n",
       "Permanencia                             object\n",
       "Periodo_facturado_(factura_enviada)      int64\n",
       "Comercializadora                        object\n",
       "Index_o_Fijo                            object\n",
       "Tarifa                                  object\n",
       "Precio_Energia_P1                      float64\n",
       "Precio_Energia_P2                      float64\n",
       "Precio_Energia_P3                      float64\n",
       "Precio_Energia_P4                      float64\n",
       "Precio_Energia_P5                      float64\n",
       "Precio_Energia_P6                      float64\n",
       "Precio_Potencia_P1                     float64\n",
       "Precio_Potencia_P2                     float64\n",
       "Precio_Potencia_P3                     float64\n",
       "Precio_Potencia_P4                     float64\n",
       "Precio_Potencia_P5                     float64\n",
       "Precio_Potencia_P6                     float64\n",
       "Precio_Contador                        float64\n",
       "Precio_Otros _Servicios_€/mes            int64\n",
       "dtype: object"
      ]
     },
     "execution_count": 7,
     "metadata": {},
     "output_type": "execute_result"
    }
   ],
   "source": [
    "cliente_estudio_de_ahorro.dtypes"
   ]
  },
  {
   "cell_type": "markdown",
   "metadata": {},
   "source": [
    "## Transform DF to CSV"
   ]
  },
  {
   "cell_type": "code",
   "execution_count": 8,
   "metadata": {},
   "outputs": [],
   "source": [
    "cliente_estudio_de_ahorro.to_csv(\"../Data/csv/cliente_estudio_de_ahorro_modelo.csv\", index = False)"
   ]
  },
  {
   "cell_type": "code",
   "execution_count": null,
   "metadata": {},
   "outputs": [],
   "source": []
  }
 ],
 "metadata": {
  "kernelspec": {
   "display_name": "Python 3",
   "language": "python",
   "name": "python3"
  },
  "language_info": {
   "codemirror_mode": {
    "name": "ipython",
    "version": 3
   },
   "file_extension": ".py",
   "mimetype": "text/x-python",
   "name": "python",
   "nbconvert_exporter": "python",
   "pygments_lexer": "ipython3",
   "version": "3.9.0"
  }
 },
 "nbformat": 4,
 "nbformat_minor": 4
}
