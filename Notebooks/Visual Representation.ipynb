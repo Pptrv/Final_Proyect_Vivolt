{
 "cells": [
  {
   "cell_type": "markdown",
   "metadata": {},
   "source": [
    "### Librerías"
   ]
  },
  {
   "cell_type": "code",
   "execution_count": 178,
   "metadata": {},
   "outputs": [],
   "source": [
    "import docx\n",
    "import os\n",
    "from docx.shared import Cm"
   ]
  },
  {
   "cell_type": "markdown",
   "metadata": {},
   "source": [
    "### Variables "
   ]
  },
  {
   "cell_type": "code",
   "execution_count": 179,
   "metadata": {},
   "outputs": [],
   "source": [
    "\"\"\" db_cliente_estudio_de_ahorro\n",
    "a = cogerConsumo()\n",
    "\n",
    "def cogerConsumo():\n",
    "    df = \n",
    "    lista_tres_primers = \n",
    "    retrun lista_tres_primers\n",
    "\"\"\"\n",
    "a = \"titulardelacuenta\"\n",
    "b = \"dirección_completa\"\n",
    "c = \"cups\"\n",
    "\n",
    "# db_the_one_comercializadora\n",
    "d = \"nueva_comercializadora\"\n",
    "\n",
    "#db_ahorro\n",
    "e = \"ahorro\"\n",
    "\n",
    "#db_porcentage_de_ahorro\n",
    "f = \"me da igual\""
   ]
  },
  {
   "cell_type": "markdown",
   "metadata": {},
   "source": [
    "### Page 1"
   ]
  },
  {
   "cell_type": "code",
   "execution_count": 180,
   "metadata": {},
   "outputs": [],
   "source": [
    "doc =  docx.Document()"
   ]
  },
  {
   "cell_type": "code",
   "execution_count": 181,
   "metadata": {},
   "outputs": [],
   "source": [
    "vivolt = doc.add_picture('../Data/Imagenes/VIVOLT logo 2.png', width=Cm(15))\n",
    "vivolt.alignment = 1"
   ]
  },
  {
   "cell_type": "code",
   "execution_count": 182,
   "metadata": {},
   "outputs": [],
   "source": [
    "primer_heading = doc.add_heading('Estudio de Ahorro', 0).bold=True"
   ]
  },
  {
   "cell_type": "code",
   "execution_count": 183,
   "metadata": {},
   "outputs": [],
   "source": [
    "primer_subparag = doc.add_paragraph()\n",
    "primer_subparag.add_run('Ahorra en tu factura de luz, de manera 100% gratuita y con energía 100% renovable').italic=True"
   ]
  },
  {
   "cell_type": "code",
   "execution_count": 184,
   "metadata": {},
   "outputs": [],
   "source": [
    "segundo_heading = doc.add_heading('Nuestra Propuesta', 1)"
   ]
  },
  {
   "cell_type": "code",
   "execution_count": 185,
   "metadata": {},
   "outputs": [
    {
     "data": {
      "text/plain": [
       "<docx.text.run.Run at 0x110bbc1c0>"
      ]
     },
     "execution_count": 185,
     "metadata": {},
     "output_type": "execute_result"
    }
   ],
   "source": [
    "parag1_propuesta = doc.add_paragraph()\n",
    "parag1_propuesta.add_run('Estudio Preparado para: ')\n",
    "parag1_propuesta.add_run(a)"
   ]
  },
  {
   "cell_type": "code",
   "execution_count": 186,
   "metadata": {},
   "outputs": [
    {
     "data": {
      "text/plain": [
       "<docx.text.run.Run at 0x110bbc100>"
      ]
     },
     "execution_count": 186,
     "metadata": {},
     "output_type": "execute_result"
    }
   ],
   "source": [
    "parag2_propuesta = doc.add_paragraph()\n",
    "parag2_propuesta.add_run('Dirección del punto de suministro: ')\n",
    "parag2_propuesta.add_run(b)"
   ]
  },
  {
   "cell_type": "code",
   "execution_count": 187,
   "metadata": {},
   "outputs": [
    {
     "data": {
      "text/plain": [
       "<docx.text.run.Run at 0x110bbc0a0>"
      ]
     },
     "execution_count": 187,
     "metadata": {},
     "output_type": "execute_result"
    }
   ],
   "source": [
    "parag3_propuesta = doc.add_paragraph()\n",
    "parag3_propuesta.add_run('CUPS: ')\n",
    "parag3_propuesta.add_run(c)"
   ]
  },
  {
   "cell_type": "code",
   "execution_count": 188,
   "metadata": {},
   "outputs": [],
   "source": [
    "parag9_propuesta = doc.add_paragraph()\n",
    "parag9_propuesta.add_run('Este año, la mejor comercializadora para ti es: ')\n",
    "parag9_propuesta.add_run(d).bold=True"
   ]
  },
  {
   "cell_type": "code",
   "execution_count": 189,
   "metadata": {},
   "outputs": [],
   "source": [
    "parag4_propuesta = doc.add_paragraph()\n",
    "parag4_propuesta.add_run('Ahorro : ')\n",
    "parag4_propuesta.add_run(e).bold=True"
   ]
  },
  {
   "cell_type": "code",
   "execution_count": 190,
   "metadata": {},
   "outputs": [],
   "source": [
    "parag5_propuesta = doc.add_paragraph()\n",
    "parag5_propuesta.add_run('Ahorro anual : ')\n",
    "parag5_propuesta.add_run(f).bold=True"
   ]
  },
  {
   "cell_type": "code",
   "execution_count": 191,
   "metadata": {},
   "outputs": [],
   "source": [
    "parag6_propuesta = doc.add_paragraph()\n",
    "parag6_propuesta.add_run('Emisiones de CO2/kg ahorradas : ')\n",
    "parag6_propuesta.add_run('emisiones(multiplicar 1kwh por 0,385)').bold=True"
   ]
  },
  {
   "cell_type": "code",
   "execution_count": 192,
   "metadata": {},
   "outputs": [],
   "source": [
    "parag7_propuesta = doc.add_paragraph()\n",
    "parag7_propuesta.add_run('El ahorro de tus emisiones de CO2 equivale a plantar : ')\n",
    "parag7_propuesta.add_run('arbol= 0.4 CO2/kg, dividir emisiones por arbol').bold=True\n",
    "parag7_propuesta.add_run('arboles').bold=True"
   ]
  },
  {
   "cell_type": "code",
   "execution_count": 193,
   "metadata": {},
   "outputs": [
    {
     "data": {
      "text/plain": [
       "<docx.text.run.Run at 0x110ba4190>"
      ]
     },
     "execution_count": 193,
     "metadata": {},
     "output_type": "execute_result"
    }
   ],
   "source": [
    "parag8_propuesta = doc.add_paragraph()\n",
    "parag8_propuesta.add_run('Este ')\n",
    "parag8_propuesta.add_run('estudio personalizado ').bold=True\n",
    "parag8_propuesta.add_run('optimiza tus condiciones tarifarias, analizando tus patrones de consumo, contrastando tus condiciones actuales contra la oferta del mercado y así poder ajustarlas a las que mas te convengan.')"
   ]
  },
  {
   "cell_type": "code",
   "execution_count": 194,
   "metadata": {},
   "outputs": [],
   "source": [
    "parag10_propuesta = doc.add_paragraph()\n",
    "parag10_propuesta.alignment = 1\n",
    "parag10_propuesta.paragraph_format.line_spacing = 8\n",
    "parag10_propuesta.add_run('¡Apuntate a VIVOLT y nosotros nos ocupamos de siempre el mejor precio').bold=True"
   ]
  },
  {
   "cell_type": "markdown",
   "metadata": {},
   "source": [
    "### Page 2"
   ]
  },
  {
   "cell_type": "code",
   "execution_count": 195,
   "metadata": {},
   "outputs": [
    {
     "data": {
      "text/plain": [
       "<docx.text.paragraph.Paragraph at 0x1106e42e0>"
      ]
     },
     "execution_count": 195,
     "metadata": {},
     "output_type": "execute_result"
    }
   ],
   "source": [
    "doc.add_page_break()"
   ]
  },
  {
   "cell_type": "code",
   "execution_count": 196,
   "metadata": {},
   "outputs": [],
   "source": [
    "tercer_heading = doc.add_heading('Nuestra Propuesta Detallada', 1).bold=True"
   ]
  },
  {
   "cell_type": "code",
   "execution_count": 197,
   "metadata": {},
   "outputs": [],
   "source": [
    "cuarto_heading = doc.add_heading('Antes tenías:', 2).bold=True"
   ]
  },
  {
   "cell_type": "code",
   "execution_count": 198,
   "metadata": {},
   "outputs": [],
   "source": [
    "quinto_heading = doc.add_heading('Precio Energía:', 3).bold=True"
   ]
  },
  {
   "cell_type": "code",
   "execution_count": 199,
   "metadata": {},
   "outputs": [],
   "source": [
    "records = [\n",
    "    ['0.3535435', \"0.34353554\", '0.545456']\n",
    "           ]\n",
    "# cambiar al real"
   ]
  },
  {
   "cell_type": "code",
   "execution_count": 200,
   "metadata": {},
   "outputs": [],
   "source": [
    "antes_energia_table = doc.add_table(rows=1, cols=3)\n",
    "antes_energia_table.style= 'Medium Shading 1'\n",
    "hdr_Cells = antes_energia_table.rows[0].cells\n",
    "hdr_Cells[0].text = 'P1'\n",
    "hdr_Cells[1].text = 'P2'\n",
    "hdr_Cells[2].text = 'P3'\n",
    "for p1, p2, p3 in records:\n",
    "    row_Cells = antes_energia_table.add_row().cells\n",
    "    row_Cells[0].text = p1\n",
    "    row_Cells[1].text = p2\n",
    "    row_Cells[2].text = p3"
   ]
  },
  {
   "cell_type": "code",
   "execution_count": 201,
   "metadata": {},
   "outputs": [],
   "source": [
    "sexto_heading = doc.add_heading('Precio Potencia:', 3).bold=True"
   ]
  },
  {
   "cell_type": "code",
   "execution_count": 202,
   "metadata": {},
   "outputs": [],
   "source": [
    "records_2 = [\n",
    "    ['0.8535435', \"0.74353554\", '0.645456']\n",
    "           ]\n",
    "# cambiar al real"
   ]
  },
  {
   "cell_type": "code",
   "execution_count": 203,
   "metadata": {},
   "outputs": [],
   "source": [
    "antes_potencia_table = doc.add_table(rows=1, cols=3)\n",
    "antes_potencia_table.style= 'Medium Shading 1'\n",
    "hdr_Cells = antes_potencia_table.rows[0].cells\n",
    "hdr_Cells[0].text = 'P1'\n",
    "hdr_Cells[1].text = 'P2'\n",
    "hdr_Cells[2].text = 'P3'\n",
    "for p1, p2, p3 in records_2:\n",
    "    row_Cells = antes_potencia_table.add_row().cells\n",
    "    row_Cells[0].text = p1\n",
    "    row_Cells[1].text = p2\n",
    "    row_Cells[2].text = p3"
   ]
  },
  {
   "cell_type": "code",
   "execution_count": 204,
   "metadata": {},
   "outputs": [],
   "source": [
    "septimo_heading = doc.add_heading('Ahora puedes tener:', 2).bold=True"
   ]
  },
  {
   "cell_type": "code",
   "execution_count": 205,
   "metadata": {},
   "outputs": [],
   "source": [
    "octavo_heading = doc.add_heading('Precio Energía:', 3).bold=True"
   ]
  },
  {
   "cell_type": "code",
   "execution_count": 206,
   "metadata": {},
   "outputs": [],
   "source": [
    "records_3 = [\n",
    "    ['0.8535435', \"0.74353554\", '0.645456']\n",
    "           ]\n",
    "# cambiar al real"
   ]
  },
  {
   "cell_type": "code",
   "execution_count": 207,
   "metadata": {},
   "outputs": [],
   "source": [
    "nueva_energia_table = doc.add_table(rows=1, cols=3)\n",
    "nueva_energia_table.style= 'Light List Accent 6'\n",
    "hdr_Cells = nueva_energia_table.rows[0].cells\n",
    "hdr_Cells[0].text = 'P1'\n",
    "hdr_Cells[1].text = 'P2'\n",
    "hdr_Cells[2].text = 'P3'\n",
    "for p1, p2, p3 in records_3:\n",
    "    row_Cells = nueva_energia_table.add_row().cells\n",
    "    row_Cells[0].text = p1\n",
    "    row_Cells[1].text = p2\n",
    "    row_Cells[2].text = p3"
   ]
  },
  {
   "cell_type": "code",
   "execution_count": 208,
   "metadata": {},
   "outputs": [],
   "source": [
    "noveno_heading = doc.add_heading('Precio Potencia:', 3).bold=True"
   ]
  },
  {
   "cell_type": "code",
   "execution_count": 209,
   "metadata": {},
   "outputs": [],
   "source": [
    "records_4 = [\n",
    "    ['0.8535435', \"0.74353554\", '0.645456']\n",
    "           ]\n",
    "# cambiar al real"
   ]
  },
  {
   "cell_type": "code",
   "execution_count": 210,
   "metadata": {},
   "outputs": [],
   "source": [
    "nueva_potencia_table = doc.add_table(rows=1, cols=3)\n",
    "nueva_potencia_table.style= 'Light List Accent 6'\n",
    "hdr_Cells = nueva_potencia_table.rows[0].cells\n",
    "hdr_Cells[0].text = 'P1'\n",
    "hdr_Cells[1].text = 'P2'\n",
    "hdr_Cells[2].text = 'P3'\n",
    "for p1, p2, p3 in records_4:\n",
    "    row_Cells = nueva_potencia_table.add_row().cells\n",
    "    row_Cells[0].text = p1\n",
    "    row_Cells[1].text = p2\n",
    "    row_Cells[2].text = p3"
   ]
  },
  {
   "cell_type": "code",
   "execution_count": 211,
   "metadata": {},
   "outputs": [],
   "source": [
    "decimo_heading = doc.add_heading('Tu consumo se distribuye de la siguiente manera:', 1).bold=True"
   ]
  },
  {
   "cell_type": "code",
   "execution_count": 215,
   "metadata": {},
   "outputs": [
    {
     "data": {
      "text/plain": [
       "<docx.text.run.Run at 0x110b4c220>"
      ]
     },
     "execution_count": 215,
     "metadata": {},
     "output_type": "execute_result"
    }
   ],
   "source": [
    "pie_chart = doc.add_picture('../Data/Imagenes/pie_chart_consumo_cliente.png', width=Cm(10))\n",
    "pie_chart.alignment = 1\n",
    "\n",
    "parag_piechart_propuesta = doc.add_paragraph()\n",
    "parag_piechart_propuesta.add_run('P1, P2 y P3 representan franjas horarias en las que consumes energía. Estas franjas horarias varían segun invierno o verano, aunque podríamos decir que:')\n",
    "\n",
    "parag_p1_propuesta = doc.add_paragraph()\n",
    "parag_p1_propuesta.add_run('P1: ').bold=True\n",
    "parag_p1_propuesta.add_run('Tarde')\n",
    "\n",
    "parag_p2_propuesta = doc.add_paragraph()\n",
    "parag_p2_propuesta.add_run('P2: ').bold=True\n",
    "parag_p2_propuesta.add_run('Mañana')\n",
    "\n",
    "parag_p3_propuesta = doc.add_paragraph()\n",
    "parag_p3_propuesta.add_run('P3: ').bold=True\n",
    "parag_p3_propuesta.add_run('Noche')"
   ]
  },
  {
   "cell_type": "markdown",
   "metadata": {},
   "source": [
    "### Guardar Archivo"
   ]
  },
  {
   "cell_type": "code",
   "execution_count": 216,
   "metadata": {},
   "outputs": [],
   "source": [
    "doc.save(\"estudio_ahorro.docx\")"
   ]
  },
  {
   "cell_type": "code",
   "execution_count": 217,
   "metadata": {},
   "outputs": [
    {
     "data": {
      "text/plain": [
       "32512"
      ]
     },
     "execution_count": 217,
     "metadata": {},
     "output_type": "execute_result"
    }
   ],
   "source": [
    "os.system(\"start estudio_ahorro.docx\")"
   ]
  },
  {
   "cell_type": "code",
   "execution_count": null,
   "metadata": {},
   "outputs": [],
   "source": []
  },
  {
   "cell_type": "code",
   "execution_count": null,
   "metadata": {},
   "outputs": [],
   "source": []
  },
  {
   "cell_type": "code",
   "execution_count": null,
   "metadata": {},
   "outputs": [],
   "source": []
  }
 ],
 "metadata": {
  "kernelspec": {
   "display_name": "Python 3",
   "language": "python",
   "name": "python3"
  },
  "language_info": {
   "codemirror_mode": {
    "name": "ipython",
    "version": 3
   },
   "file_extension": ".py",
   "mimetype": "text/x-python",
   "name": "python",
   "nbconvert_exporter": "python",
   "pygments_lexer": "ipython3",
   "version": "3.9.0"
  }
 },
 "nbformat": 4,
 "nbformat_minor": 4
}
